{
 "cells": [
  {
   "cell_type": "code",
   "execution_count": null,
   "metadata": {},
   "outputs": [],
   "source": [
    "import json \n",
    "import pyhf\n",
    "import pyhf.contrib.utils\n",
    "import jsonpatch\n",
    "import cabinetry"
   ]
  },
  {
   "cell_type": "code",
   "execution_count": null,
   "metadata": {},
   "outputs": [],
   "source": [
    "with open('workspace.json', 'r') as file:\n",
    "    original_workspace = json.load(file)\n",
    "ws = original_workspace"
   ]
  },
  {
   "cell_type": "code",
   "execution_count": null,
   "metadata": {},
   "outputs": [],
   "source": [
    "model, data = cabinetry.model_utils.model_and_data(ws)\n",
    "fit_results = cabinetry.fit.fit(model, data)\n",
    "model_pred = cabinetry.model_utils.prediction(model)\n",
    "figures = cabinetry.visualize.data_mc(model_pred, data)"
   ]
  },
  {
   "cell_type": "code",
   "execution_count": null,
   "metadata": {},
   "outputs": [],
   "source": [
    "with open('workspace_tW.json', 'r') as file:\n",
    "    additional_workspace = json.load(file)"
   ]
  },
  {
   "cell_type": "code",
   "execution_count": null,
   "metadata": {},
   "outputs": [],
   "source": [
    "patch = jsonpatch.make_patch(original_workspace, additional_workspace)"
   ]
  },
  {
   "cell_type": "code",
   "execution_count": null,
   "metadata": {},
   "outputs": [],
   "source": [
    "patchset = {\n",
    "    \"metadata\": {\n",
    "        \"references\": {\"hepdata\": \"ins1234567\"},\n",
    "        \"description\": \"workspace.json patching with a new sample\",\n",
    "        \"digests\": {\"md5\": \"098f6bcd4621d373cade4e832627b4f6\"},\n",
    "        \"labels\": [\"x\", \"y\"]\n",
    "    },\n",
    "    \"patches\": [\n",
    "        {\"metadata\": {\"name\": \"Channel1\", \"values\": [1, 2]}, \"patch\" :[patch for patch in patch]}\n",
    "    ],\n",
    "    \"version\":\"1.0.0\"\n",
    "}\n",
    "with open(\"patching.json\", \"w\") as outfile:\n",
    "    json.dump(patchset, outfile, indent=4)\n",
    "print(\"Patchset saved to the patching.json file\")"
   ]
  },
  {
   "cell_type": "code",
   "execution_count": null,
   "metadata": {},
   "outputs": [],
   "source": [
    "patchset = pyhf.PatchSet(json.load(open(\"patching.json\")))"
   ]
  },
  {
   "cell_type": "code",
   "execution_count": null,
   "metadata": {},
   "outputs": [],
   "source": [
    "patchset"
   ]
  },
  {
   "cell_type": "code",
   "execution_count": null,
   "metadata": {},
   "outputs": [],
   "source": [
    "pyhf.Workspace(patch.apply(original_workspace)).samples"
   ]
  },
  {
   "cell_type": "code",
   "execution_count": null,
   "metadata": {},
   "outputs": [],
   "source": [
    "workspace = pyhf.Workspace(patch.apply(original_workspace))"
   ]
  },
  {
   "cell_type": "code",
   "execution_count": null,
   "metadata": {},
   "outputs": [],
   "source": [
    "model, data = cabinetry.model_utils.model_and_data(workspace)\n",
    "fit_results = cabinetry.fit.fit(model, data)\n",
    "model_pred = cabinetry.model_utils.prediction(model)\n",
    "figures = cabinetry.visualize.data_mc(model_pred, data)"
   ]
  }
 ],
 "metadata": {
  "language_info": {
   "name": "python"
  }
 },
 "nbformat": 4,
 "nbformat_minor": 2
}
