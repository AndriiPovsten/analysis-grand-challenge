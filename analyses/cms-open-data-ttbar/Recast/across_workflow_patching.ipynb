{
 "cells": [
  {
   "cell_type": "code",
   "execution_count": null,
   "metadata": {},
   "outputs": [],
   "source": [
    "import uproot"
   ]
  },
  {
   "cell_type": "code",
   "execution_count": null,
   "metadata": {},
   "outputs": [],
   "source": [
    "if merged_step == 'Yes':\n",
    "    LIST_OF_FILES_PER_SAMPLE = [\n",
    "        \"histograms_merged_newfiles.root\",\n",
    "        \"histograms_merged.root\"\n",
    "    ]\n",
    "    print(LIST_OF_FILES_PER_SAMPLE)\n",
    "\n",
    "if merged_step == 'Yes':\n",
    "    with uproot.recreate(\"accrossworkflow_merging.root\") as f_out:\n",
    "        for h_file in LIST_OF_FILES_PER_SAMPLE:\n",
    "            with uproot.open(h_file) as f_per_sample:\n",
    "                for key in f_per_sample.keys(cycle=False):\n",
    "                    value = f_per_sample[key]\n",
    "                    f_out[key] = value\n"
   ]
  }
 ],
 "metadata": {
  "language_info": {
   "name": "python"
  }
 },
 "nbformat": 4,
 "nbformat_minor": 2
}
