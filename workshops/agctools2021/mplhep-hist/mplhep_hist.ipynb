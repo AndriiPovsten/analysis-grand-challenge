{
 "cells": [
  {
   "cell_type": "markdown",
   "metadata": {
    "ExecuteTime": {
     "end_time": "2021-10-29T14:49:23.839896Z",
     "start_time": "2021-10-29T14:49:23.689272Z"
    }
   },
   "source": [
    "# Histogramming and plotting"
   ]
  },
  {
   "cell_type": "markdown",
   "metadata": {
    "ExecuteTime": {
     "end_time": "2021-10-29T14:50:35.217449Z",
     "start_time": "2021-10-29T14:50:34.696677Z"
    }
   },
   "source": [
    "### Histograms mean different things in different contexts\n",
    "- counts, bin edges - useful for a bar plot - `np.histogram` / `plt.bar`\n",
    "- counts, bin edges, pre computed errors - `TGraphErrors`/`plt.errorbar`\n",
    "- weighted values, weights squared, bin_edges - proper error calculation `TH1`/`Coffea.hist`/`hist`"
   ]
  },
  {
   "cell_type": "markdown",
   "metadata": {
    "ExecuteTime": {
     "end_time": "2021-10-29T15:09:49.848875Z",
     "start_time": "2021-10-29T15:09:49.830175Z"
    }
   },
   "source": [
    "## UHI - [Unified Histogram Interface](https://uhi.readthedocs.io/en/latest/plotting.html#using-the-protocol)\n",
    "- (Plottable) Histogram protocol - designed to make libraries interoperable, easy to navigate\n",
    "  - Conformed to by `hits`, `mplhep`, `uproot4`, `histoprint`\n",
    "- Each UHI histogram has the following methods\n",
    "  - `h.values()`: The value (as given by the kind)\n",
    "  - `h.variances()`: The variance in the value (None if an unweighed histogram was filled with weights)\n",
    "  - `h.counts()`: How many fills the bin received or the effective number of fills if the histogram is weighted\n",
    "  - `h.axes`: A Sequence of axes\n",
    "  - and a few other properties"
   ]
  },
  {
   "cell_type": "markdown",
   "metadata": {},
   "source": [
    "## [hist](https://github.com/scikit-hep/hist)\n",
    "- python go to one-stop for histogramming\n",
    "- extends [boost-histogram](https://github.com/scikit-hep/boost-histogram.html) (pythonic wrapper for C++ library - *FAST*)\n",
    "  - makes it user friendly\n",
    "- shortcuts for convenience - plotting/fitting"
   ]
  },
  {
   "cell_type": "markdown",
   "metadata": {},
   "source": [
    "## [mplhep](https://github.com/scikit-hep/mplhep)\n",
    "- build on top of `matplotlib`\n",
    "- extends functionality to easily plot histograms from various inputs\n",
    "- holds style sheets for easy experiment specific style application"
   ]
  },
  {
   "cell_type": "raw",
   "metadata": {},
   "source": [
    "!pip install mplhep --upgrade"
   ]
  },
  {
   "cell_type": "markdown",
   "metadata": {
    "ExecuteTime": {
     "end_time": "2021-10-29T15:20:32.749546Z",
     "start_time": "2021-10-29T15:20:32.744784Z"
    }
   },
   "source": [
    "# Basics"
   ]
  },
  {
   "cell_type": "code",
   "execution_count": 1,
   "metadata": {
    "ExecuteTime": {
     "end_time": "2021-10-30T04:46:57.747743Z",
     "start_time": "2021-10-30T04:46:57.376390Z"
    }
   },
   "outputs": [],
   "source": [
    "import numpy as np\n",
    "import matplotlib.pyplot as plt"
   ]
  },
  {
   "cell_type": "code",
   "execution_count": 2,
   "metadata": {
    "ExecuteTime": {
     "end_time": "2021-10-30T04:46:57.760004Z",
     "start_time": "2021-10-30T04:46:57.749675Z"
    }
   },
   "outputs": [
    {
     "data": {
      "text/plain": [
       "array([  0,   0,  20, 138, 353, 335, 128,  24,   2,   0])"
      ]
     },
     "execution_count": 2,
     "metadata": {},
     "output_type": "execute_result"
    }
   ],
   "source": [
    "# Numpy histogram\n",
    "H = np.histogram(np.random.normal(5, 1, 1000), np.linspace(0, 10, 11))\n",
    "h, bins = H\n",
    "h"
   ]
  },
  {
   "cell_type": "code",
   "execution_count": 3,
   "metadata": {
    "ExecuteTime": {
     "end_time": "2021-10-30T04:46:57.975185Z",
     "start_time": "2021-10-30T04:46:57.763277Z"
    }
   },
   "outputs": [
    {
     "data": {
      "text/plain": [
       "Text(0.5, 1.0, 'Now native histogram `stairs` plot')"
      ]
     },
     "execution_count": 3,
     "metadata": {},
     "output_type": "execute_result"
    },
    {
     "data": {
      "image/png": "[encoded data removed]",
      "text/plain": [
       "<Figure size 864x288 with 2 Axes>"
      ]
     },
     "metadata": {
      "needs_background": "light"
     },
     "output_type": "display_data"
    }
   ],
   "source": [
    "# Visualization\n",
    "fig, axs = plt.subplots(1, 2, figsize=(12, 4))\n",
    "axs[0].bar(range(len(h)), h)\n",
    "axs[0].set_title('Simple `bar` plot')\n",
    "axs[1].stairs(h, bins, fill=True)\n",
    "axs[1].set_title('Now native histogram `stairs` plot')"
   ]
  },
  {
   "cell_type": "markdown",
   "metadata": {},
   "source": [
    "# Extending plotting with `mplhep`\n",
    "- primary goal is to stay unobtrusive, if it works in `matplotlib`, it should work in `mplhep`"
   ]
  },
  {
   "cell_type": "code",
   "execution_count": 4,
   "metadata": {
    "ExecuteTime": {
     "end_time": "2021-10-30T04:46:58.161262Z",
     "start_time": "2021-10-30T04:46:57.978087Z"
    }
   },
   "outputs": [
    {
     "data": {
      "image/png": "[encoded data removed]",
      "text/plain": [
       "<Figure size 864x288 with 2 Axes>"
      ]
     },
     "metadata": {
      "needs_background": "light"
     },
     "output_type": "display_data"
    }
   ],
   "source": [
    "import mplhep as hep\n",
    "f, axs = plt.subplots(1,2, figsize=(12, 4))\n",
    "\n",
    "hep.histplot(H, ax=axs[0])\n",
    "hep.histplot(h, bins, yerr=True, ax=axs[1]);"
   ]
  },
  {
   "cell_type": "markdown",
   "metadata": {},
   "source": [
    "### kwargs are passed though to `matplotlib`"
   ]
  },
  {
   "cell_type": "code",
   "execution_count": 5,
   "metadata": {
    "ExecuteTime": {
     "end_time": "2021-10-30T04:46:58.348183Z",
     "start_time": "2021-10-30T04:46:58.163669Z"
    }
   },
   "outputs": [
    {
     "data": {
      "text/plain": [
       "[ErrorBarArtists(errorbar=<ErrorbarContainer object of 3 artists>)]"
      ]
     },
     "execution_count": 5,
     "metadata": {},
     "output_type": "execute_result"
    },
    {
     "data": {
      "image/png": "[encoded data removed]",
      "text/plain": [
       "<Figure size 864x288 with 2 Axes>"
      ]
     },
     "metadata": {
      "needs_background": "light"
     },
     "output_type": "display_data"
    }
   ],
   "source": [
    "f, axs = plt.subplots(1,2, figsize=(12, 4))\n",
    "\n",
    "hep.histplot(H, ax=axs[0], histtype='fill', hatch='///', edgecolor='red', facecolor='none')\n",
    "hep.histplot(H, ax=axs[1], histtype='errorbar', yerr=True, c='black', capsize=4)"
   ]
  },
  {
   "cell_type": "markdown",
   "metadata": {
    "ExecuteTime": {
     "end_time": "2021-10-29T15:45:57.667636Z",
     "start_time": "2021-10-29T15:45:57.661331Z"
    }
   },
   "source": [
    "### Stacking, norming is available"
   ]
  },
  {
   "cell_type": "code",
   "execution_count": 6,
   "metadata": {
    "ExecuteTime": {
     "end_time": "2021-10-30T04:46:58.688867Z",
     "start_time": "2021-10-30T04:46:58.350349Z"
    }
   },
   "outputs": [
    {
     "data": {
      "image/png": "[encoded data removed]",
      "text/plain": [
       "<Figure size 1296x288 with 3 Axes>"
      ]
     },
     "metadata": {
      "needs_background": "light"
     },
     "output_type": "display_data"
    }
   ],
   "source": [
    "f, axs = plt.subplots(1,3, figsize=(18, 4))\n",
    "\n",
    "data = np.random.poisson(h*3)\n",
    "hep.histplot([h, h*2], bins=bins, ax=axs[0], yerr=True, label=[\"MC1\", \"MC2\"])\n",
    "hep.histplot(data, bins=bins, ax=axs[1], yerr=True, label=\"Data\")\n",
    "\n",
    "hep.histplot([h, h*2], bins=bins, ax=axs[2], stack=True, label=[\"MC1\", \"MC2\"], density=True)\n",
    "hep.histplot(data, bins=bins, ax=axs[2], yerr=True, histtype='errorbar', label=\"Data\", density=True, color='k')\n",
    "for ax in axs:\n",
    "    ax.legend()\n",
    "axs[0].set_title(\"Some MCs\")\n",
    "axs[1].set_title(\"Draw Poisson Data\")\n",
    "axs[2].set_title(\"Data/MC Shape comparison\"); "
   ]
  },
  {
   "cell_type": "markdown",
   "metadata": {
    "ExecuteTime": {
     "end_time": "2021-10-29T15:51:22.128110Z",
     "start_time": "2021-10-29T15:51:22.120499Z"
    }
   },
   "source": [
    "### Convenient sorting options"
   ]
  },
  {
   "cell_type": "code",
   "execution_count": 7,
   "metadata": {
    "ExecuteTime": {
     "end_time": "2021-10-30T04:46:58.912653Z",
     "start_time": "2021-10-30T04:46:58.691551Z"
    }
   },
   "outputs": [
    {
     "data": {
      "image/png": "[encoded data removed]",
      "text/plain": [
       "<Figure size 864x288 with 2 Axes>"
      ]
     },
     "metadata": {
      "needs_background": "light"
     },
     "output_type": "display_data"
    }
   ],
   "source": [
    "f, axs = plt.subplots(1,2, figsize=(12, 4))\n",
    "hep.histplot([h*2, h*3, h], bins=bins, ax=axs[0], stack=True, histtype='fill', label=[\"A\", \"B\", \"C\"], sort='yield');\n",
    "hep.histplot([h*2, h*3, h], bins=bins, ax=axs[1], stack=True, histtype='fill', label=[\"A\", \"B\", \"C\"], sort='label_r');\n",
    "for ax in axs:\n",
    "    ax.legend()\n",
    "axs[0].set_title(\"Sort by yield\")\n",
    "axs[1].set_title(\"Sort by label (add _r to reverse)\");"
   ]
  },
  {
   "cell_type": "markdown",
   "metadata": {
    "ExecuteTime": {
     "end_time": "2021-10-29T15:57:46.751943Z",
     "start_time": "2021-10-29T15:57:46.747371Z"
    }
   },
   "source": [
    "### Can pass either pre-computed error bars or `fcn(weight, weights2)`"
   ]
  },
  {
   "cell_type": "code",
   "execution_count": 8,
   "metadata": {
    "ExecuteTime": {
     "end_time": "2021-10-30T04:46:59.222534Z",
     "start_time": "2021-10-30T04:46:58.917215Z"
    }
   },
   "outputs": [
    {
     "data": {
      "image/png": "[encoded data removed]",
      "text/plain": [
       "<Figure size 864x288 with 2 Axes>"
      ]
     },
     "metadata": {
      "needs_background": "light"
     },
     "output_type": "display_data"
    }
   ],
   "source": [
    "def err(w, w2):\n",
    "    return w - 10, w2 + 20\n",
    "\n",
    "f, axs = plt.subplots(1,2, figsize=(12, 4))\n",
    "hep.histplot(h, bins=bins, yerr=[np.sqrt(h), np.sqrt(h)*2], ax=axs[0]);\n",
    "hep.histplot(h, bins, w2=h, w2method=err, ax=axs[1]);\n",
    "\n",
    "axs[0].set_title(\"Pre-computed\")\n",
    "axs[1].set_title(\"Custom function\");"
   ]
  },
  {
   "cell_type": "markdown",
   "metadata": {
    "ExecuteTime": {
     "end_time": "2021-10-29T17:34:52.321448Z",
     "start_time": "2021-10-29T17:34:52.318379Z"
    }
   },
   "source": [
    "### Inputs types are flexible\n",
    "- already shown `np.array`, `List[np.array]`, `np.ndarray`\n",
    "- will show `hist.Hist` / `List[hist.Hist]`\n",
    "- but also *anything* that is PlottableProtocol compatible"
   ]
  },
  {
   "cell_type": "code",
   "execution_count": 9,
   "metadata": {
    "ExecuteTime": {
     "end_time": "2021-10-30T04:46:59.415248Z",
     "start_time": "2021-10-30T04:46:59.225665Z"
    }
   },
   "outputs": [
    {
     "name": "stdout",
     "output_type": "stream",
     "text": [
      "['hpx;1', 'hpxpy;1', 'hprof;1', 'ntuple;1']\n",
      "<TH1F (version 1) at 0x7f3321380220>\n"
     ]
    },
    {
     "data": {
      "image/png": "[encoded data removed]",
      "text/plain": [
       "<Figure size 432x288 with 1 Axes>"
      ]
     },
     "metadata": {
      "needs_background": "light"
     },
     "output_type": "display_data"
    }
   ],
   "source": [
    "## Uproot TH1 \n",
    "import uproot\n",
    "from skhep_testdata import data_path\n",
    "fname = data_path(\"uproot-hepdata-example.root\")\n",
    "f = uproot.open(fname)\n",
    "print(f.keys())\n",
    "print(f['hpx'])\n",
    "hep.histplot(f['hpx']);"
   ]
  },
  {
   "cell_type": "code",
   "execution_count": 10,
   "metadata": {
    "ExecuteTime": {
     "end_time": "2021-10-30T04:47:00.489423Z",
     "start_time": "2021-10-30T04:46:59.417863Z"
    }
   },
   "outputs": [],
   "source": [
    "# PyROOT TH1\n",
    "import os\n",
    "if \"ROOTSYS\" in os.environ:\n",
    "    import ROOT\n",
    "    h = ROOT.TH1F(\"h1\", \"h1\", 50, -2.5, 2.5)\n",
    "    h.FillRandom(\"gaus\", 10000)\n",
    "\n",
    "    hep.histplot(h);"
   ]
  },
  {
   "cell_type": "markdown",
   "metadata": {},
   "source": [
    "# hist - basics\n",
    "- easy histogram handling - filling, slicing, (merging, serializing)\n",
    "- Nice repr, interfaces to `mplhep` for plotting"
   ]
  },
  {
   "cell_type": "code",
   "execution_count": 11,
   "metadata": {
    "ExecuteTime": {
     "end_time": "2021-10-30T04:47:00.546772Z",
     "start_time": "2021-10-30T04:47:00.492178Z"
    }
   },
   "outputs": [],
   "source": [
    "import hist\n",
    "# from hist import Hist"
   ]
  },
  {
   "cell_type": "code",
   "execution_count": 12,
   "metadata": {
    "ExecuteTime": {
     "end_time": "2021-10-30T04:47:00.578648Z",
     "start_time": "2021-10-30T04:47:00.549429Z"
    }
   },
   "outputs": [
    {
     "data": {
      "text/html": [
       "<html>\n",
       "<div style=\"display:flex; align-items:center;\">\n",
       "<div style=\"width:290px;\">\n",
       "<svg xmlns=\"http://www.w3.org/2000/svg\" viewBox=\"-10 -105 270 120\">\n",
       "<line x1=\"-5\" y1=\"0\" x2=\"255\" y2=\"0\" style=\"fill:none;stroke-width:2;stroke:currentColor\"/>\n",
       "<text text-anchor=\"middle\" x=\"0\" y=\"15\" style=\"fill:currentColor;\">\n",
       "0\n",
       "</text>\n",
       "<text text-anchor=\"middle\" x=\"250\" y=\"15\" style=\"fill:currentColor;\">\n",
       "10\n",
       "</text>\n",
       "<text text-anchor=\"middle\" x=\"125.0\" y=\"15\" style=\"fill:currentColor;\">\n",
       "Axis 0\n",
       "</text>\n",
       "<polyline points=\"  0,0   0,-0  25,-0  25,-0  50,-0  50,-0  75,-0  75,-0 100,-0 100,-0 125,-0 125,-0 150,-0 150,-0 175,-0 175,-0 200,-0 200,-0 225,-0 225,-0 250,-0 250,0\" style=\"fill:none; stroke:currentColor;\"/>\n",
       "</svg>\n",
       "</div>\n",
       "<div style=\"flex=grow:1;\">\n",
       "Regular(10, 0, 10, label='Axis 0')<br/>\n",
       "<hr style=\"margin-top:.2em; margin-bottom:.2em;\"/>\n",
       "Double() Σ=0.0\n",
       "\n",
       "</div>\n",
       "</div>\n",
       "</html>"
      ],
      "text/plain": [
       "Hist(Regular(10, 0, 10, label='Axis 0'), storage=Double())"
      ]
     },
     "execution_count": 12,
     "metadata": {},
     "output_type": "execute_result"
    }
   ],
   "source": [
    "# Creating a histogram object\n",
    "h = hist.new.Reg(10, 0, 10).Double()\n",
    "h"
   ]
  },
  {
   "cell_type": "code",
   "execution_count": 13,
   "metadata": {
    "ExecuteTime": {
     "end_time": "2021-10-30T04:47:00.598997Z",
     "start_time": "2021-10-30T04:47:00.580493Z"
    }
   },
   "outputs": [
    {
     "data": {
      "text/html": [
       "<html>\n",
       "<div style=\"display:flex; align-items:center;\">\n",
       "<div style=\"width:290px;\">\n",
       "<svg xmlns=\"http://www.w3.org/2000/svg\" viewBox=\"-10 -105 270 120\">\n",
       "<line x1=\"-5\" y1=\"0\" x2=\"255\" y2=\"0\" style=\"fill:none;stroke-width:2;stroke:currentColor\"/>\n",
       "<text text-anchor=\"middle\" x=\"0\" y=\"15\" style=\"fill:currentColor;\">\n",
       "0\n",
       "</text>\n",
       "<text text-anchor=\"middle\" x=\"250\" y=\"15\" style=\"fill:currentColor;\">\n",
       "10\n",
       "</text>\n",
       "<text text-anchor=\"middle\" x=\"125.0\" y=\"15\" style=\"fill:currentColor;\">\n",
       "Fancy display name\n",
       "</text>\n",
       "<polyline points=\"  0,0   0,-0  25,-0  25,-0  50,-0  50,-0  75,-0  75,-0 100,-0 100,-0 125,-0 125,-0 150,-0 150,-0 175,-0 175,-0 200,-0 200,-0 225,-0 225,-0 250,-0 250,0\" style=\"fill:none; stroke:currentColor;\"/>\n",
       "</svg>\n",
       "</div>\n",
       "<div style=\"flex=grow:1;\">\n",
       "Regular(10, 0, 10, underflow=False, name='x', label='Fancy display name')<br/>\n",
       "<hr style=\"margin-top:.2em; margin-bottom:.2em;\"/>\n",
       "Double() Σ=0.0\n",
       "\n",
       "</div>\n",
       "</div>\n",
       "</html>"
      ],
      "text/plain": [
       "Hist(Regular(10, 0, 10, underflow=False, name='x', label='Fancy display name'), storage=Double())"
      ]
     },
     "execution_count": 13,
     "metadata": {},
     "output_type": "execute_result"
    }
   ],
   "source": [
    "# Equivalent to \n",
    "h = hist.Hist(\n",
    "    hist.axis.Regular(\n",
    "        10, 0, 10, \n",
    "        # Optionally include name/label, whether to keep flow bins\n",
    "        name=\"x\", label=\"Fancy display name\", underflow=False, \n",
    "        )\n",
    "    )   \n",
    "h"
   ]
  },
  {
   "cell_type": "code",
   "execution_count": 14,
   "metadata": {
    "ExecuteTime": {
     "end_time": "2021-10-30T04:47:00.634270Z",
     "start_time": "2021-10-30T04:47:00.600784Z"
    }
   },
   "outputs": [
    {
     "data": {
      "text/html": [
       "<html>\n",
       "<div style=\"display:flex; align-items:center;\">\n",
       "<div style=\"width:290px;\">\n",
       "<svg xmlns=\"http://www.w3.org/2000/svg\" viewBox=\"-10 -105 270 120\">\n",
       "<line x1=\"-5\" y1=\"0\" x2=\"255\" y2=\"0\" style=\"fill:none;stroke-width:2;stroke:currentColor\"/>\n",
       "<text text-anchor=\"middle\" x=\"0\" y=\"15\" style=\"fill:currentColor;\">\n",
       "0\n",
       "</text>\n",
       "<text text-anchor=\"middle\" x=\"250\" y=\"15\" style=\"fill:currentColor;\">\n",
       "10\n",
       "</text>\n",
       "<text text-anchor=\"middle\" x=\"125.0\" y=\"15\" style=\"fill:currentColor;\">\n",
       "Fancy display name\n",
       "</text>\n",
       "<polyline points=\"  0,0   0,-0  25,-0  25,-0.557  50,-0.557  50,-3.9  75,-3.9  75,-35.7 100,-35.7 100,-91.4 125,-91.4 125,-100 150,-100 150,-40.9 175,-40.9 175,-5.57 200,-5.57 200,-0.557 225,-0.557 225,-0 250,-0 250,0\" style=\"fill:none; stroke:currentColor;\"/>\n",
       "</svg>\n",
       "</div>\n",
       "<div style=\"flex=grow:1;\">\n",
       "Regular(10, 0, 10, underflow=False, name='x', label='Fancy display name')<br/>\n",
       "<hr style=\"margin-top:.2em; margin-bottom:.2em;\"/>\n",
       "Double() Σ=1000.0\n",
       "\n",
       "</div>\n",
       "</div>\n",
       "</html>"
      ],
      "text/plain": [
       "Hist(Regular(10, 0, 10, underflow=False, name='x', label='Fancy display name'), storage=Double()) # Sum: 1000.0"
      ]
     },
     "execution_count": 14,
     "metadata": {},
     "output_type": "execute_result"
    }
   ],
   "source": [
    "# Fill it\n",
    "h.fill(np.random.normal(5, 1, 1000))\n",
    "h"
   ]
  },
  {
   "cell_type": "code",
   "execution_count": 15,
   "metadata": {
    "ExecuteTime": {
     "end_time": "2021-10-30T04:47:00.654699Z",
     "start_time": "2021-10-30T04:47:00.636024Z"
    }
   },
   "outputs": [
    {
     "name": "stdout",
     "output_type": "stream",
     "text": [
      " 0.00e+00 _                             3.59e+02 ╷\n",
      " 1.00e+00 _\n",
      " 2.00e+00 _\n",
      " 3.00e+00 _\u001b[90;40m█\u001b[39;49m\n",
      " 4.00e+00 _\u001b[90;40m█\u001b[39;49m\u001b[90;40m█\u001b[39;49m\u001b[90;40m█\u001b[39;49m\u001b[90;40m█\u001b[39;49m\u001b[90;40m█\u001b[39;49m\u001b[90;40m█\u001b[39;49m\u001b[90;40m█\u001b[39;49m\u001b[90;40m█\u001b[39;49m\u001b[90;40m█\u001b[39;49m\u001b[90;40m█\u001b[39;49m\u001b[90;40m█\u001b[39;49m\u001b[90;40m█\u001b[39;49m\u001b[90;40m█\u001b[39;49m\n",
      " 5.00e+00 _\u001b[90;40m█\u001b[39;49m\u001b[90;40m█\u001b[39;49m\u001b[90;40m█\u001b[39;49m\u001b[90;40m█\u001b[39;49m\u001b[90;40m█\u001b[39;49m\u001b[90;40m█\u001b[39;49m\u001b[90;40m█\u001b[39;49m\u001b[90;40m█\u001b[39;49m\u001b[90;40m█\u001b[39;49m\u001b[90;40m█\u001b[39;49m\u001b[90;40m█\u001b[39;49m\u001b[90;40m█\u001b[39;49m\u001b[90;40m█\u001b[39;49m\u001b[90;40m█\u001b[39;49m\u001b[90;40m█\u001b[39;49m\u001b[90;40m█\u001b[39;49m\u001b[90;40m█\u001b[39;49m\u001b[90;40m█\u001b[39;49m\u001b[90;40m█\u001b[39;49m\u001b[90;40m█\u001b[39;49m\u001b[90;40m█\u001b[39;49m\u001b[90;40m█\u001b[39;49m\u001b[90;40m█\u001b[39;49m\u001b[90;40m█\u001b[39;49m\u001b[90;40m█\u001b[39;49m\u001b[90;40m█\u001b[39;49m\u001b[90;40m█\u001b[39;49m\u001b[90;40m█\u001b[39;49m\u001b[90;40m█\u001b[39;49m\u001b[90;40m█\u001b[39;49m\u001b[90;40m█\u001b[39;49m\u001b[90;40m█\u001b[39;49m\u001b[90;40m█\u001b[39;49m\u001b[90;40m█\u001b[39;49m\u001b[90;40m█\u001b[39;49m\n",
      " 6.00e+00 _\u001b[90;40m█\u001b[39;49m\u001b[90;40m█\u001b[39;49m\u001b[90;40m█\u001b[39;49m\u001b[90;40m█\u001b[39;49m\u001b[90;40m█\u001b[39;49m\u001b[90;40m█\u001b[39;49m\u001b[90;40m█\u001b[39;49m\u001b[90;40m█\u001b[39;49m\u001b[90;40m█\u001b[39;49m\u001b[90;40m█\u001b[39;49m\u001b[90;40m█\u001b[39;49m\u001b[90;40m█\u001b[39;49m\u001b[90;40m█\u001b[39;49m\u001b[90;40m█\u001b[39;49m\u001b[90;40m█\u001b[39;49m\u001b[90;40m█\u001b[39;49m\u001b[90;40m█\u001b[39;49m\u001b[90;40m█\u001b[39;49m\u001b[90;40m█\u001b[39;49m\u001b[90;40m█\u001b[39;49m\u001b[90;40m█\u001b[39;49m\u001b[90;40m█\u001b[39;49m\u001b[90;40m█\u001b[39;49m\u001b[90;40m█\u001b[39;49m\u001b[90;40m█\u001b[39;49m\u001b[90;40m█\u001b[39;49m\u001b[90;40m█\u001b[39;49m\u001b[90;40m█\u001b[39;49m\u001b[90;40m█\u001b[39;49m\u001b[90;40m█\u001b[39;49m\u001b[90;40m█\u001b[39;49m\u001b[90;40m█\u001b[39;49m\u001b[90;40m█\u001b[39;49m\u001b[90;40m█\u001b[39;49m\u001b[90;40m█\u001b[39;49m\u001b[90;40m█\u001b[39;49m\u001b[90;40m█\u001b[39;49m\u001b[90;40m█\u001b[39;49m\u001b[90;40m█\u001b[39;49m\n",
      " 7.00e+00 _\u001b[90;40m█\u001b[39;49m\u001b[90;40m█\u001b[39;49m\u001b[90;40m█\u001b[39;49m\u001b[90;40m█\u001b[39;49m\u001b[90;40m█\u001b[39;49m\u001b[90;40m█\u001b[39;49m\u001b[90;40m█\u001b[39;49m\u001b[90;40m█\u001b[39;49m\u001b[90;40m█\u001b[39;49m\u001b[90;40m█\u001b[39;49m\u001b[90;40m█\u001b[39;49m\u001b[90;40m█\u001b[39;49m\u001b[90;40m█\u001b[39;49m\u001b[90;40m█\u001b[39;49m\u001b[90;40m█\u001b[39;49m\n",
      " 8.00e+00 _\u001b[90;40m█\u001b[39;49m\u001b[90;40m█\u001b[39;49m\n",
      " 9.00e+00 _\n",
      " 1.00e+01 _\n"
     ]
    }
   ],
   "source": [
    "# Print it (to CLI)\n",
    "h.show(columns=50)"
   ]
  },
  {
   "cell_type": "code",
   "execution_count": 16,
   "metadata": {
    "ExecuteTime": {
     "end_time": "2021-10-30T04:47:01.163237Z",
     "start_time": "2021-10-30T04:47:00.657103Z"
    }
   },
   "outputs": [
    {
     "data": {
      "image/png": "[encoded data removed]",
      "text/plain": [
       "<Figure size 432x288 with 1 Axes>"
      ]
     },
     "metadata": {
      "needs_background": "light"
     },
     "output_type": "display_data"
    }
   ],
   "source": [
    "# Plot it\n",
    "h.plot(color='red', density=True);"
   ]
  },
  {
   "cell_type": "code",
   "execution_count": 17,
   "metadata": {
    "ExecuteTime": {
     "end_time": "2021-10-30T04:47:01.313321Z",
     "start_time": "2021-10-30T04:47:01.166112Z"
    }
   },
   "outputs": [
    {
     "data": {
      "image/png": "[encoded data removed]",
      "text/plain": [
       "<Figure size 432x288 with 1 Axes>"
      ]
     },
     "metadata": {
      "needs_background": "light"
     },
     "output_type": "display_data"
    }
   ],
   "source": [
    "# Access and modify artists\n",
    "art = h.plot(color='red', density=True);\n",
    "plt.setp(art[0].stairs, edgecolor='blue', fill=True, facecolor='lightgreen', hatch='///');"
   ]
  },
  {
   "cell_type": "markdown",
   "metadata": {},
   "source": [
    "### hist - basic operations"
   ]
  },
  {
   "cell_type": "code",
   "execution_count": 18,
   "metadata": {
    "ExecuteTime": {
     "end_time": "2021-10-30T04:47:01.335754Z",
     "start_time": "2021-10-30T04:47:01.316393Z"
    }
   },
   "outputs": [
    {
     "data": {
      "text/html": [
       "<html>\n",
       "<div style=\"display:flex; align-items:center;\">\n",
       "<div style=\"width:290px;\">\n",
       "<svg xmlns=\"http://www.w3.org/2000/svg\" viewBox=\"-10 -105 270 120\">\n",
       "<line x1=\"-5\" y1=\"0\" x2=\"255\" y2=\"0\" style=\"fill:none;stroke-width:2;stroke:currentColor\"/>\n",
       "<text text-anchor=\"middle\" x=\"0\" y=\"15\" style=\"fill:currentColor;\">\n",
       "2\n",
       "</text>\n",
       "<text text-anchor=\"middle\" x=\"250\" y=\"15\" style=\"fill:currentColor;\">\n",
       "4\n",
       "</text>\n",
       "<text text-anchor=\"middle\" x=\"125.0\" y=\"15\" style=\"fill:currentColor;\">\n",
       "Fancy display name\n",
       "</text>\n",
       "<polyline points=\"  0,0   0,-10.9 125,-10.9 125,-100 250,-100 250,0\" style=\"fill:none; stroke:currentColor;\"/>\n",
       "</svg>\n",
       "</div>\n",
       "<div style=\"flex=grow:1;\">\n",
       "Regular(2, 2, 4, underflow=False, name='x', label='Fancy display name')<br/>\n",
       "<hr style=\"margin-top:.2em; margin-bottom:.2em;\"/>\n",
       "Double() Σ=142.0 <em>(998.0 with flow)</em>\n",
       "\n",
       "</div>\n",
       "</div>\n",
       "</html>"
      ],
      "text/plain": [
       "Hist(Regular(2, 2, 4, underflow=False, name='x', label='Fancy display name'), storage=Double()) # Sum: 142.0 (998.0 with flow)"
      ]
     },
     "execution_count": 18,
     "metadata": {},
     "output_type": "execute_result"
    }
   ],
   "source": [
    "# Slicing\n",
    "h[2:4]"
   ]
  },
  {
   "cell_type": "code",
   "execution_count": 19,
   "metadata": {
    "ExecuteTime": {
     "end_time": "2021-10-30T04:47:01.363925Z",
     "start_time": "2021-10-30T04:47:01.338238Z"
    }
   },
   "outputs": [
    {
     "data": {
      "text/html": [
       "<html>\n",
       "<div style=\"display:flex; align-items:center;\">\n",
       "<div style=\"width:290px;\">\n",
       "<svg xmlns=\"http://www.w3.org/2000/svg\" viewBox=\"-10 -105 270 120\">\n",
       "<line x1=\"-5\" y1=\"0\" x2=\"255\" y2=\"0\" style=\"fill:none;stroke-width:2;stroke:currentColor\"/>\n",
       "<text text-anchor=\"middle\" x=\"0\" y=\"15\" style=\"fill:currentColor;\">\n",
       "1\n",
       "</text>\n",
       "<text text-anchor=\"middle\" x=\"250\" y=\"15\" style=\"fill:currentColor;\">\n",
       "6\n",
       "</text>\n",
       "<text text-anchor=\"middle\" x=\"125.0\" y=\"15\" style=\"fill:currentColor;\">\n",
       "Fancy display name\n",
       "</text>\n",
       "<polyline points=\"  0,0   0,-0.557  50,-0.557  50,-3.9 100,-3.9 100,-35.7 150,-35.7 150,-91.4 200,-91.4 200,-100 250,-100 250,0\" style=\"fill:none; stroke:currentColor;\"/>\n",
       "</svg>\n",
       "</div>\n",
       "<div style=\"flex=grow:1;\">\n",
       "Regular(5, 1, 6, underflow=False, name='x', label='Fancy display name')<br/>\n",
       "<hr style=\"margin-top:.2em; margin-bottom:.2em;\"/>\n",
       "Double() Σ=831.0 <em>(1000.0 with flow)</em>\n",
       "\n",
       "</div>\n",
       "</div>\n",
       "</html>"
      ],
      "text/plain": [
       "Hist(Regular(5, 1, 6, underflow=False, name='x', label='Fancy display name'), storage=Double()) # Sum: 831.0 (1000.0 with flow)"
      ]
     },
     "execution_count": 19,
     "metadata": {},
     "output_type": "execute_result"
    }
   ],
   "source": [
    "# Slicing in data coordinates\n",
    "h[1j:6j]"
   ]
  },
  {
   "cell_type": "code",
   "execution_count": 20,
   "metadata": {
    "ExecuteTime": {
     "end_time": "2021-10-30T04:47:01.394846Z",
     "start_time": "2021-10-30T04:47:01.366386Z"
    }
   },
   "outputs": [
    {
     "data": {
      "text/plain": [
       "1000.0"
      ]
     },
     "execution_count": 20,
     "metadata": {},
     "output_type": "execute_result"
    }
   ],
   "source": [
    "# Get total\n",
    "h.sum()"
   ]
  },
  {
   "cell_type": "markdown",
   "metadata": {
    "ExecuteTime": {
     "end_time": "2021-10-29T22:05:51.335189Z",
     "start_time": "2021-10-29T22:05:51.322699Z"
    }
   },
   "source": [
    "### hist - properties (PlottableHistogram)"
   ]
  },
  {
   "cell_type": "code",
   "execution_count": 21,
   "metadata": {
    "ExecuteTime": {
     "end_time": "2021-10-30T04:47:01.417378Z",
     "start_time": "2021-10-30T04:47:01.397207Z"
    }
   },
   "outputs": [
    {
     "name": "stdout",
     "output_type": "stream",
     "text": [
      "[  0.   2.  14. 128. 328. 359. 147.  20.   2.   0.]\n",
      "[  0.   2.  14. 128. 328. 359. 147.  20.   2.   0.]\n",
      "Regular(10, 0, 10, underflow=False, name='x', label='Fancy display name')\n",
      "[0.5 1.5 2.5 3.5 4.5 5.5 6.5 7.5 8.5 9.5]\n"
     ]
    }
   ],
   "source": [
    "print(h.values())\n",
    "print(h.variances())\n",
    "print(h.axes[0])\n",
    "print(h.axes[0].centers)"
   ]
  },
  {
   "cell_type": "markdown",
   "metadata": {
    "ExecuteTime": {
     "end_time": "2021-10-29T18:20:29.509666Z",
     "start_time": "2021-10-29T18:20:29.499589Z"
    }
   },
   "source": [
    "## hist - multiple dimensions and indexing\n",
    "- analysis like example"
   ]
  },
  {
   "cell_type": "code",
   "execution_count": 22,
   "metadata": {
    "ExecuteTime": {
     "end_time": "2021-10-30T04:47:01.449389Z",
     "start_time": "2021-10-30T04:47:01.421763Z"
    }
   },
   "outputs": [
    {
     "data": {
      "text/html": [
       "<html>\n",
       "<div style=\"display:flex; align-items:center;\">\n",
       "<div style=\"width:290px;\">\n",
       "<svg xmlns=\"http://www.w3.org/2000/svg\" viewBox=\"-20 -270 290 290\">\n",
       "<text text-anchor=\"middle\" x=\"0\" y=\"13\" style=\"fill:currentColor;\">\n",
       "0\n",
       "</text>\n",
       "<text text-anchor=\"middle\" x=\"250\" y=\"13\" style=\"fill:currentColor;\">\n",
       "10\n",
       "</text>\n",
       "<text text-anchor=\"middle\" x=\"-10\" y=\"0\" style=\"fill:currentColor;\">\n",
       "0\n",
       "</text>\n",
       "<text text-anchor=\"middle\" x=\"-10\" y=\"-250\" style=\"fill:currentColor;\">\n",
       "2\n",
       "</text>\n",
       "<text text-anchor=\"middle\" x=\"125.0\" y=\"13\" style=\"fill:currentColor;\">\n",
       "x\n",
       "</text>\n",
       "<text text-anchor=\"middle\" x=\"-10\" y=\"-125.0\" transform=\"rotate(-90,-10,-125.0)\" style=\"fill:currentColor;\">\n",
       "dataset\n",
       "</text>\n",
       "<rect x=\"0.0\" y=\"-125.0\" width=\"25.0\" height=\"125.0\" opacity=\"0.0\" fill=\"currentColor\" stroke-width=\"0.1\"/>\n",
       "<rect x=\"25.0\" y=\"-125.0\" width=\"25.0\" height=\"125.0\" opacity=\"0.0\" fill=\"currentColor\" stroke-width=\"0.1\"/>\n",
       "<rect x=\"50.0\" y=\"-125.0\" width=\"25.0\" height=\"125.0\" opacity=\"0.0\" fill=\"currentColor\" stroke-width=\"0.1\"/>\n",
       "<rect x=\"75.0\" y=\"-125.0\" width=\"25.0\" height=\"125.0\" opacity=\"0.0\" fill=\"currentColor\" stroke-width=\"0.1\"/>\n",
       "<rect x=\"100.0\" y=\"-125.0\" width=\"25.0\" height=\"125.0\" opacity=\"0.0\" fill=\"currentColor\" stroke-width=\"0.1\"/>\n",
       "<rect x=\"125.0\" y=\"-125.0\" width=\"25.0\" height=\"125.0\" opacity=\"0.0\" fill=\"currentColor\" stroke-width=\"0.1\"/>\n",
       "<rect x=\"150.0\" y=\"-125.0\" width=\"25.0\" height=\"125.0\" opacity=\"0.0\" fill=\"currentColor\" stroke-width=\"0.1\"/>\n",
       "<rect x=\"175.0\" y=\"-125.0\" width=\"25.0\" height=\"125.0\" opacity=\"0.0\" fill=\"currentColor\" stroke-width=\"0.1\"/>\n",
       "<rect x=\"200.0\" y=\"-125.0\" width=\"25.0\" height=\"125.0\" opacity=\"0.0\" fill=\"currentColor\" stroke-width=\"0.1\"/>\n",
       "<rect x=\"225.0\" y=\"-125.0\" width=\"25.0\" height=\"125.0\" opacity=\"0.0\" fill=\"currentColor\" stroke-width=\"0.1\"/>\n",
       "<rect x=\"0.0\" y=\"-250.0\" width=\"25.0\" height=\"125.0\" opacity=\"0.0\" fill=\"currentColor\" stroke-width=\"0.1\"/>\n",
       "<rect x=\"25.0\" y=\"-250.0\" width=\"25.0\" height=\"125.0\" opacity=\"0.0\" fill=\"currentColor\" stroke-width=\"0.1\"/>\n",
       "<rect x=\"50.0\" y=\"-250.0\" width=\"25.0\" height=\"125.0\" opacity=\"0.0\" fill=\"currentColor\" stroke-width=\"0.1\"/>\n",
       "<rect x=\"75.0\" y=\"-250.0\" width=\"25.0\" height=\"125.0\" opacity=\"0.0\" fill=\"currentColor\" stroke-width=\"0.1\"/>\n",
       "<rect x=\"100.0\" y=\"-250.0\" width=\"25.0\" height=\"125.0\" opacity=\"0.0\" fill=\"currentColor\" stroke-width=\"0.1\"/>\n",
       "<rect x=\"125.0\" y=\"-250.0\" width=\"25.0\" height=\"125.0\" opacity=\"0.0\" fill=\"currentColor\" stroke-width=\"0.1\"/>\n",
       "<rect x=\"150.0\" y=\"-250.0\" width=\"25.0\" height=\"125.0\" opacity=\"0.0\" fill=\"currentColor\" stroke-width=\"0.1\"/>\n",
       "<rect x=\"175.0\" y=\"-250.0\" width=\"25.0\" height=\"125.0\" opacity=\"0.0\" fill=\"currentColor\" stroke-width=\"0.1\"/>\n",
       "<rect x=\"200.0\" y=\"-250.0\" width=\"25.0\" height=\"125.0\" opacity=\"0.0\" fill=\"currentColor\" stroke-width=\"0.1\"/>\n",
       "<rect x=\"225.0\" y=\"-250.0\" width=\"25.0\" height=\"125.0\" opacity=\"0.0\" fill=\"currentColor\" stroke-width=\"0.1\"/>\n",
       "</svg>\n",
       "</div>\n",
       "<div style=\"flex=grow:1;\">\n",
       "Regular(10, 0, 10, name='x', label='x')<br/>\n",
       "StrCategory(['A', 'B'], growth=True, name='dataset', label='dataset')<br/>\n",
       "<hr style=\"margin-top:.2em; margin-bottom:.2em;\"/>\n",
       "Weight() Σ=WeightedSum(value=0, variance=0)\n",
       "\n",
       "</div>\n",
       "</div>\n",
       "</html>"
      ],
      "text/plain": [
       "Hist(\n",
       "  Regular(10, 0, 10, name='x', label='x'),\n",
       "  StrCategory(['A', 'B'], growth=True, name='dataset', label='dataset'),\n",
       "  storage=Weight()) # Sum: WeightedSum(value=0, variance=0)"
      ]
     },
     "execution_count": 22,
     "metadata": {},
     "output_type": "execute_result"
    }
   ],
   "source": [
    "# Create a new hist\n",
    "h2d = hist.new.Reg(10, 0, 10, name='x').StrCat([\"A\", \"B\"], growth=True, name='dataset').Weight()\n",
    "h2d"
   ]
  },
  {
   "cell_type": "code",
   "execution_count": 23,
   "metadata": {
    "ExecuteTime": {
     "end_time": "2021-10-30T04:47:01.474392Z",
     "start_time": "2021-10-30T04:47:01.456098Z"
    }
   },
   "outputs": [
    {
     "data": {
      "text/html": [
       "<html>\n",
       "<div style=\"display:flex; align-items:center;\">\n",
       "<div style=\"width:290px;\">\n",
       "<svg xmlns=\"http://www.w3.org/2000/svg\" viewBox=\"-20 -270 290 290\">\n",
       "<text text-anchor=\"middle\" x=\"0\" y=\"13\" style=\"fill:currentColor;\">\n",
       "0\n",
       "</text>\n",
       "<text text-anchor=\"middle\" x=\"250\" y=\"13\" style=\"fill:currentColor;\">\n",
       "10\n",
       "</text>\n",
       "<text text-anchor=\"middle\" x=\"-10\" y=\"0\" style=\"fill:currentColor;\">\n",
       "0\n",
       "</text>\n",
       "<text text-anchor=\"middle\" x=\"-10\" y=\"-250\" style=\"fill:currentColor;\">\n",
       "3\n",
       "</text>\n",
       "<text text-anchor=\"middle\" x=\"125.0\" y=\"13\" style=\"fill:currentColor;\">\n",
       "x\n",
       "</text>\n",
       "<text text-anchor=\"middle\" x=\"-10\" y=\"-125.0\" transform=\"rotate(-90,-10,-125.0)\" style=\"fill:currentColor;\">\n",
       "dataset\n",
       "</text>\n",
       "<rect x=\"0.0\" y=\"-83.33333333333333\" width=\"25.0\" height=\"83.333\" opacity=\"0.020484171322160148\" fill=\"currentColor\" stroke-width=\"0.1\"/>\n",
       "<rect x=\"25.0\" y=\"-83.33333333333333\" width=\"25.0\" height=\"83.333\" opacity=\"0.11359404096834264\" fill=\"currentColor\" stroke-width=\"0.1\"/>\n",
       "<rect x=\"50.0\" y=\"-83.33333333333333\" width=\"25.0\" height=\"83.333\" opacity=\"0.3165735567970205\" fill=\"currentColor\" stroke-width=\"0.1\"/>\n",
       "<rect x=\"75.0\" y=\"-83.33333333333333\" width=\"25.0\" height=\"83.333\" opacity=\"0.32774674115456237\" fill=\"currentColor\" stroke-width=\"0.1\"/>\n",
       "<rect x=\"100.0\" y=\"-83.33333333333333\" width=\"25.0\" height=\"83.333\" opacity=\"0.13594040968342644\" fill=\"currentColor\" stroke-width=\"0.1\"/>\n",
       "<rect x=\"125.0\" y=\"-83.33333333333333\" width=\"25.0\" height=\"83.333\" opacity=\"0.013966480446927372\" fill=\"currentColor\" stroke-width=\"0.1\"/>\n",
       "<rect x=\"150.0\" y=\"-83.33333333333333\" width=\"25.0\" height=\"83.333\" opacity=\"0.0018621973929236497\" fill=\"currentColor\" stroke-width=\"0.1\"/>\n",
       "<rect x=\"175.0\" y=\"-83.33333333333333\" width=\"25.0\" height=\"83.333\" opacity=\"0.0\" fill=\"currentColor\" stroke-width=\"0.1\"/>\n",
       "<rect x=\"200.0\" y=\"-83.33333333333333\" width=\"25.0\" height=\"83.333\" opacity=\"0.0\" fill=\"currentColor\" stroke-width=\"0.1\"/>\n",
       "<rect x=\"225.0\" y=\"-83.33333333333333\" width=\"25.0\" height=\"83.333\" opacity=\"0.0\" fill=\"currentColor\" stroke-width=\"0.1\"/>\n",
       "<rect x=\"0.0\" y=\"-166.66666666666666\" width=\"25.0\" height=\"83.333\" opacity=\"0.0\" fill=\"currentColor\" stroke-width=\"0.1\"/>\n",
       "<rect x=\"25.0\" y=\"-166.66666666666666\" width=\"25.0\" height=\"83.333\" opacity=\"0.0037243947858472994\" fill=\"currentColor\" stroke-width=\"0.1\"/>\n",
       "<rect x=\"50.0\" y=\"-166.66666666666666\" width=\"25.0\" height=\"83.333\" opacity=\"0.06238361266294227\" fill=\"currentColor\" stroke-width=\"0.1\"/>\n",
       "<rect x=\"75.0\" y=\"-166.66666666666666\" width=\"25.0\" height=\"83.333\" opacity=\"0.3659217877094972\" fill=\"currentColor\" stroke-width=\"0.1\"/>\n",
       "<rect x=\"100.0\" y=\"-166.66666666666666\" width=\"25.0\" height=\"83.333\" opacity=\"0.9329608938547486\" fill=\"currentColor\" stroke-width=\"0.1\"/>\n",
       "<rect x=\"125.0\" y=\"-166.66666666666666\" width=\"25.0\" height=\"83.333\" opacity=\"1.0\" fill=\"currentColor\" stroke-width=\"0.1\"/>\n",
       "<rect x=\"150.0\" y=\"-166.66666666666666\" width=\"25.0\" height=\"83.333\" opacity=\"0.35661080074487894\" fill=\"currentColor\" stroke-width=\"0.1\"/>\n",
       "<rect x=\"175.0\" y=\"-166.66666666666666\" width=\"25.0\" height=\"83.333\" opacity=\"0.06983240223463687\" fill=\"currentColor\" stroke-width=\"0.1\"/>\n",
       "<rect x=\"200.0\" y=\"-166.66666666666666\" width=\"25.0\" height=\"83.333\" opacity=\"0.0018621973929236497\" fill=\"currentColor\" stroke-width=\"0.1\"/>\n",
       "<rect x=\"225.0\" y=\"-166.66666666666666\" width=\"25.0\" height=\"83.333\" opacity=\"0.0\" fill=\"currentColor\" stroke-width=\"0.1\"/>\n",
       "<rect x=\"0.0\" y=\"-250.0\" width=\"25.0\" height=\"83.333\" opacity=\"0.0\" fill=\"currentColor\" stroke-width=\"0.1\"/>\n",
       "<rect x=\"25.0\" y=\"-250.0\" width=\"25.0\" height=\"83.333\" opacity=\"0.0\" fill=\"currentColor\" stroke-width=\"0.1\"/>\n",
       "<rect x=\"50.0\" y=\"-250.0\" width=\"25.0\" height=\"83.333\" opacity=\"0.0\" fill=\"currentColor\" stroke-width=\"0.1\"/>\n",
       "<rect x=\"75.0\" y=\"-250.0\" width=\"25.0\" height=\"83.333\" opacity=\"0.0009310986964618248\" fill=\"currentColor\" stroke-width=\"0.1\"/>\n",
       "<rect x=\"100.0\" y=\"-250.0\" width=\"25.0\" height=\"83.333\" opacity=\"0.0446927374301676\" fill=\"currentColor\" stroke-width=\"0.1\"/>\n",
       "<rect x=\"125.0\" y=\"-250.0\" width=\"25.0\" height=\"83.333\" opacity=\"0.2467411545623836\" fill=\"currentColor\" stroke-width=\"0.1\"/>\n",
       "<rect x=\"150.0\" y=\"-250.0\" width=\"25.0\" height=\"83.333\" opacity=\"0.6089385474860335\" fill=\"currentColor\" stroke-width=\"0.1\"/>\n",
       "<rect x=\"175.0\" y=\"-250.0\" width=\"25.0\" height=\"83.333\" opacity=\"0.654562383612663\" fill=\"currentColor\" stroke-width=\"0.1\"/>\n",
       "<rect x=\"200.0\" y=\"-250.0\" width=\"25.0\" height=\"83.333\" opacity=\"0.2588454376163873\" fill=\"currentColor\" stroke-width=\"0.1\"/>\n",
       "<rect x=\"225.0\" y=\"-250.0\" width=\"25.0\" height=\"83.333\" opacity=\"0.04655493482309125\" fill=\"currentColor\" stroke-width=\"0.1\"/>\n",
       "</svg>\n",
       "</div>\n",
       "<div style=\"flex=grow:1;\">\n",
       "Regular(10, 0, 10, name='x', label='x')<br/>\n",
       "StrCategory(['A', 'B', 'C'], growth=True, name='dataset', label='dataset')<br/>\n",
       "<hr style=\"margin-top:.2em; margin-bottom:.2em;\"/>\n",
       "Weight() Σ=WeightedSum(value=5998, variance=5998) <em>(WeightedSum(value=6000, variance=6000) with flow)</em>\n",
       "\n",
       "</div>\n",
       "</div>\n",
       "</html>"
      ],
      "text/plain": [
       "Hist(\n",
       "  Regular(10, 0, 10, name='x', label='x'),\n",
       "  StrCategory(['A', 'B', 'C'], growth=True, name='dataset', label='dataset'),\n",
       "  storage=Weight()) # Sum: WeightedSum(value=5998, variance=5998) (WeightedSum(value=6000, variance=6000) with flow)"
      ]
     },
     "execution_count": 23,
     "metadata": {},
     "output_type": "execute_result"
    }
   ],
   "source": [
    "# Fill it\n",
    "h2d.fill(np.random.normal(3, 1, 1000), \"A\")\n",
    "h2d.fill(np.random.normal(5, 1, 3000), \"B\")\n",
    "h2d.fill(np.random.normal(7, 1, 2000), \"C\")\n",
    "h2d"
   ]
  },
  {
   "cell_type": "code",
   "execution_count": 24,
   "metadata": {
    "ExecuteTime": {
     "end_time": "2021-10-30T04:47:01.722757Z",
     "start_time": "2021-10-30T04:47:01.477555Z"
    }
   },
   "outputs": [
    {
     "name": "stderr",
     "output_type": "stream",
     "text": [
      "/opt/conda/lib/python3.8/site-packages/boost_histogram/_internal/hist.py:872: UserWarning: List indexing selection is experimental. Removed bins are not placed in overflow.\n",
      "  warnings.warn(\n"
     ]
    },
    {
     "data": {
      "text/plain": [
       "<matplotlib.legend.Legend at 0x7f331ebdd190>"
      ]
     },
     "execution_count": 24,
     "metadata": {},
     "output_type": "execute_result"
    },
    {
     "data": {
      "image/png": "[encoded data removed]",
      "text/plain": [
       "<Figure size 432x288 with 1 Axes>"
      ]
     },
     "metadata": {
      "needs_background": "light"
     },
     "output_type": "display_data"
    }
   ],
   "source": [
    "h2d[:6, [\"A\", \"B\"]].plot(stack=True, histtype='step', sort='y_r');\n",
    "plt.legend()"
   ]
  },
  {
   "cell_type": "code",
   "execution_count": 25,
   "metadata": {
    "ExecuteTime": {
     "end_time": "2021-10-30T04:47:02.037002Z",
     "start_time": "2021-10-30T04:47:01.725317Z"
    }
   },
   "outputs": [
    {
     "data": {
      "image/png": "[encoded data removed]",
      "text/plain": [
       "<Figure size 432x288 with 2 Axes>"
      ]
     },
     "metadata": {
      "needs_background": "light"
     },
     "output_type": "display_data"
    }
   ],
   "source": [
    "hep.hist2dplot(h2d, labels=True);"
   ]
  },
  {
   "cell_type": "markdown",
   "metadata": {},
   "source": [
    "### Analysis like example"
   ]
  },
  {
   "cell_type": "code",
   "execution_count": 26,
   "metadata": {
    "ExecuteTime": {
     "end_time": "2021-10-30T04:47:02.049010Z",
     "start_time": "2021-10-30T04:47:02.039011Z"
    }
   },
   "outputs": [],
   "source": [
    "hn = (hist.new.Reg(100, 0, 100, name='x', label='Observable')\n",
    "      .Var([0, 0.2, 0.5, 0.9, 1], name=\"tag\", label=\"Some MVA\")\n",
    "      .StrCat([\"A\"], growth=True, name='dataset')\n",
    "      .IntCat([0, 1, 2, 3], name='region')\n",
    "      .StrCat([\"A\"], growth=True, name='syst', label='Systematic')\n",
    "      .Weight()\n",
    "     )"
   ]
  },
  {
   "cell_type": "code",
   "execution_count": 27,
   "metadata": {
    "ExecuteTime": {
     "end_time": "2021-10-30T04:47:02.101004Z",
     "start_time": "2021-10-30T04:47:02.051700Z"
    }
   },
   "outputs": [
    {
     "data": {
      "text/plain": [
       "['C', 'E', 'C', 'C', 'C', 'E', 'C', 'E', 'D', 'C']"
      ]
     },
     "execution_count": 27,
     "metadata": {},
     "output_type": "execute_result"
    }
   ],
   "source": [
    "# Small random letter helper\n",
    "def rnd_letters(a=\"A\", z=\"Z\", N=10):\n",
    "    A, Z = np.array([a, z]).view(\"int32\") \n",
    "    return list(np.random.randint(low=A,high=Z,size=N,dtype=\"int32\").view(f\"U{N}\")[0])\n",
    "rnd_letters(\"C\", \"F\")"
   ]
  },
  {
   "cell_type": "code",
   "execution_count": 28,
   "metadata": {
    "ExecuteTime": {
     "end_time": "2021-10-30T04:47:03.003629Z",
     "start_time": "2021-10-30T04:47:02.102750Z"
    }
   },
   "outputs": [
    {
     "data": {
      "text/html": [
       "<html>\n",
       "<div style=\"display:flex; align-items:center;\">\n",
       "<div style=\"width:290px;\">\n",
       "<svg xmlns=\"http://www.w3.org/2000/svg\" viewBox=\"-10 -10 220 220\">\n",
       "<rect x=\"0\" y=\"0\" width=\"160\" height=\"160\" style=\"fill:white;opacity:.5;stroke-width:2;stroke:currentColor;\"/>\n",
       "<rect x=\"20\" y=\"20\" width=\"160\" height=\"160\" style=\"fill:white;opacity:.5;stroke-width:2;stroke:currentColor;\"/>\n",
       "<rect x=\"40\" y=\"40\" width=\"160\" height=\"160\" style=\"fill:white;opacity:.5;stroke-width:2;stroke:currentColor;\"/>\n",
       "<text x=\"120.0\" y=\"120.0\" style=\"font-size: 26pt; font-family: verdana; font-style: bold; fill: black;\" text-anchor=\"middle\" alignment-baseline=\"middle\">\n",
       "5D\n",
       "</text>\n",
       "</svg>\n",
       "</div>\n",
       "<div style=\"flex=grow:1;\">\n",
       "Regular(100, 0, 100, name='x', label='Observable')<br/>\n",
       "Variable([0, 0.2, 0.5, 0.9, 1], name='tag', label='Some MVA')<br/>\n",
       "StrCategory(['A', 'F', 'D', 'B', 'E', 'C'], growth=True, name='dataset', label='dataset')<br/>\n",
       "IntCategory([0, 1, 2, 3], name='region', label='region')<br/>\n",
       "StrCategory(['A', 'W', 'Q', 'T', 'Y', 'S', 'P', 'X', 'V', 'U', 'R'], growth=True, name='syst', label='Systematic')<br/>\n",
       "<hr style=\"margin-top:.2em; margin-bottom:.2em;\"/>\n",
       "Weight() Σ=WeightedSum(value=2.3883e+06, variance=2.3883e+06) <em>(WeightedSum(value=2.4e+06, variance=2.4e+06) with flow)</em>\n",
       "\n",
       "</div>\n",
       "</div>\n",
       "</html>"
      ],
      "text/plain": [
       "Hist(\n",
       "  Regular(100, 0, 100, name='x', label='Observable'),\n",
       "  Variable([0, 0.2, 0.5, 0.9, 1], name='tag', label='Some MVA'),\n",
       "  StrCategory(['A', 'F', 'D', 'B', 'E', 'C'], growth=True, name='dataset', label='dataset'),\n",
       "  IntCategory([0, 1, 2, 3], name='region', label='region'),\n",
       "  StrCategory(['A', 'W', 'Q', 'T', 'Y', 'S', 'P', 'X', 'V', 'U', 'R'], growth=True, name='syst', label='Systematic'),\n",
       "  storage=Weight()) # Sum: WeightedSum(value=2.3883e+06, variance=2.3883e+06) (WeightedSum(value=2.4e+06, variance=2.4e+06) with flow)"
      ]
     },
     "execution_count": 28,
     "metadata": {},
     "output_type": "execute_result"
    }
   ],
   "source": [
    "# And fill it\n",
    "N = 400000\n",
    "for sample in set(rnd_letters(\"A\", \"G\", 500)):\n",
    "    hn.fill(x = np.random.normal(np.random.randint(20, 80, 1), 10, N),\n",
    "            tag = np.random.uniform(0, 1, N),\n",
    "            dataset = sample,\n",
    "            region=np.random.randint(0, 4, N),\n",
    "            syst = rnd_letters(\"P\", \"Z\", N=N)\n",
    "            )\n",
    "hn"
   ]
  },
  {
   "cell_type": "code",
   "execution_count": 29,
   "metadata": {
    "ExecuteTime": {
     "end_time": "2021-10-30T04:47:03.076891Z",
     "start_time": "2021-10-30T04:47:03.006492Z"
    }
   },
   "outputs": [
    {
     "data": {
      "text/html": [
       "<html>\n",
       "<div style=\"display:flex; align-items:center;\">\n",
       "<div style=\"width:290px;\">\n",
       "<svg xmlns=\"http://www.w3.org/2000/svg\" viewBox=\"-20 -270 290 290\">\n",
       "<text text-anchor=\"middle\" x=\"0\" y=\"13\" style=\"fill:currentColor;\">\n",
       "0\n",
       "</text>\n",
       "<text text-anchor=\"middle\" x=\"250\" y=\"13\" style=\"fill:currentColor;\">\n",
       "100\n",
       "</text>\n",
       "<text text-anchor=\"middle\" x=\"-10\" y=\"0\" style=\"fill:currentColor;\">\n",
       "0\n",
       "</text>\n",
       "<text text-anchor=\"middle\" x=\"-10\" y=\"-250\" style=\"fill:currentColor;\">\n",
       "6\n",
       "</text>\n",
       "<text text-anchor=\"middle\" x=\"125.0\" y=\"13\" style=\"fill:currentColor;\">\n",
       "Observable\n",
       "</text>\n",
       "<text text-anchor=\"middle\" x=\"-10\" y=\"-125.0\" transform=\"rotate(-90,-10,-125.0)\" style=\"fill:currentColor;\">\n",
       "dataset\n",
       "</text>\n",
       "<rect x=\"0.0\" y=\"-41.666666666666664\" width=\"2.5\" height=\"41.667\" opacity=\"0.06912442396313363\" fill=\"currentColor\" stroke-width=\"0.1\"/>\n",
       "<rect x=\"2.5\" y=\"-41.666666666666664\" width=\"2.5\" height=\"41.667\" opacity=\"0.11059907834101383\" fill=\"currentColor\" stroke-width=\"0.1\"/>\n",
       "<rect x=\"5.0\" y=\"-41.666666666666664\" width=\"2.5\" height=\"41.667\" opacity=\"0.1152073732718894\" fill=\"currentColor\" stroke-width=\"0.1\"/>\n",
       "<rect x=\"7.5\" y=\"-41.666666666666664\" width=\"2.5\" height=\"41.667\" opacity=\"0.18433179723502305\" fill=\"currentColor\" stroke-width=\"0.1\"/>\n",
       "<rect x=\"10.0\" y=\"-41.666666666666664\" width=\"2.5\" height=\"41.667\" opacity=\"0.22119815668202766\" fill=\"currentColor\" stroke-width=\"0.1\"/>\n",
       "<rect x=\"12.5\" y=\"-41.666666666666664\" width=\"2.5\" height=\"41.667\" opacity=\"0.2488479262672811\" fill=\"currentColor\" stroke-width=\"0.1\"/>\n",
       "<rect x=\"15.0\" y=\"-41.666666666666664\" width=\"2.5\" height=\"41.667\" opacity=\"0.27188940092165875\" fill=\"currentColor\" stroke-width=\"0.1\"/>\n",
       "<rect x=\"17.5\" y=\"-41.666666666666664\" width=\"2.5\" height=\"41.667\" opacity=\"0.3456221198156685\" fill=\"currentColor\" stroke-width=\"0.1\"/>\n",
       "<rect x=\"20.0\" y=\"-41.666666666666664\" width=\"2.5\" height=\"41.667\" opacity=\"0.3548387096774194\" fill=\"currentColor\" stroke-width=\"0.1\"/>\n",
       "<rect x=\"22.5\" y=\"-41.666666666666664\" width=\"2.5\" height=\"41.667\" opacity=\"0.47926267281105994\" fill=\"currentColor\" stroke-width=\"0.1\"/>\n",
       "<rect x=\"25.0\" y=\"-41.666666666666664\" width=\"2.5\" height=\"41.667\" opacity=\"0.4746543778801843\" fill=\"currentColor\" stroke-width=\"0.1\"/>\n",
       "<rect x=\"27.5\" y=\"-41.666666666666664\" width=\"2.5\" height=\"41.667\" opacity=\"0.42857142857142855\" fill=\"currentColor\" stroke-width=\"0.1\"/>\n",
       "<rect x=\"30.0\" y=\"-41.666666666666664\" width=\"2.5\" height=\"41.667\" opacity=\"0.5898617511520736\" fill=\"currentColor\" stroke-width=\"0.1\"/>\n",
       "<rect x=\"32.5\" y=\"-41.666666666666664\" width=\"2.5\" height=\"41.667\" opacity=\"0.6682027649769574\" fill=\"currentColor\" stroke-width=\"0.1\"/>\n",
       "<rect x=\"35.0\" y=\"-41.666666666666664\" width=\"2.5\" height=\"41.667\" opacity=\"0.7603686635944713\" fill=\"currentColor\" stroke-width=\"0.1\"/>\n",
       "<rect x=\"37.5\" y=\"-41.666666666666664\" width=\"2.5\" height=\"41.667\" opacity=\"0.7511520737327189\" fill=\"currentColor\" stroke-width=\"0.1\"/>\n",
       "<rect x=\"40.0\" y=\"-41.666666666666664\" width=\"2.5\" height=\"41.667\" opacity=\"0.7972350230414746\" fill=\"currentColor\" stroke-width=\"0.1\"/>\n",
       "<rect x=\"42.5\" y=\"-41.666666666666664\" width=\"2.5\" height=\"41.667\" opacity=\"0.7373271889400922\" fill=\"currentColor\" stroke-width=\"0.1\"/>\n",
       "<rect x=\"45.0\" y=\"-41.666666666666664\" width=\"2.5\" height=\"41.667\" opacity=\"0.8801843317972351\" fill=\"currentColor\" stroke-width=\"0.1\"/>\n",
       "<rect x=\"47.5\" y=\"-41.666666666666664\" width=\"2.5\" height=\"41.667\" opacity=\"0.9400921658986174\" fill=\"currentColor\" stroke-width=\"0.1\"/>\n",
       "<rect x=\"50.0\" y=\"-41.666666666666664\" width=\"2.5\" height=\"41.667\" opacity=\"0.8525345622119815\" fill=\"currentColor\" stroke-width=\"0.1\"/>\n",
       "<rect x=\"52.5\" y=\"-41.666666666666664\" width=\"2.5\" height=\"41.667\" opacity=\"0.9907834101382489\" fill=\"currentColor\" stroke-width=\"0.1\"/>\n",
       "<rect x=\"55.0\" y=\"-41.666666666666664\" width=\"2.5\" height=\"41.667\" opacity=\"0.9907834101382489\" fill=\"currentColor\" stroke-width=\"0.1\"/>\n",
       "<rect x=\"57.5\" y=\"-41.666666666666664\" width=\"2.5\" height=\"41.667\" opacity=\"0.8847926267281107\" fill=\"currentColor\" stroke-width=\"0.1\"/>\n",
       "<rect x=\"60.0\" y=\"-41.666666666666664\" width=\"2.5\" height=\"41.667\" opacity=\"0.7511520737327189\" fill=\"currentColor\" stroke-width=\"0.1\"/>\n",
       "<rect x=\"62.5\" y=\"-41.666666666666664\" width=\"2.5\" height=\"41.667\" opacity=\"0.7788018433179724\" fill=\"currentColor\" stroke-width=\"0.1\"/>\n",
       "<rect x=\"65.0\" y=\"-41.666666666666664\" width=\"2.5\" height=\"41.667\" opacity=\"0.8064516129032258\" fill=\"currentColor\" stroke-width=\"0.1\"/>\n",
       "<rect x=\"67.5\" y=\"-41.666666666666664\" width=\"2.5\" height=\"41.667\" opacity=\"0.774193548387094\" fill=\"currentColor\" stroke-width=\"0.1\"/>\n",
       "<rect x=\"70.0\" y=\"-41.666666666666664\" width=\"2.5\" height=\"41.667\" opacity=\"0.6313364055299583\" fill=\"currentColor\" stroke-width=\"0.1\"/>\n",
       "<rect x=\"72.5\" y=\"-41.666666666666664\" width=\"2.5\" height=\"41.667\" opacity=\"0.7557603686635918\" fill=\"currentColor\" stroke-width=\"0.1\"/>\n",
       "<rect x=\"75.0\" y=\"-41.666666666666664\" width=\"2.5\" height=\"41.667\" opacity=\"0.6036866359447005\" fill=\"currentColor\" stroke-width=\"0.1\"/>\n",
       "<rect x=\"77.5\" y=\"-41.666666666666664\" width=\"2.5\" height=\"41.667\" opacity=\"0.5714285714285714\" fill=\"currentColor\" stroke-width=\"0.1\"/>\n",
       "<rect x=\"80.0\" y=\"-41.666666666666664\" width=\"2.5\" height=\"41.667\" opacity=\"0.5023041474654378\" fill=\"currentColor\" stroke-width=\"0.1\"/>\n",
       "<rect x=\"82.5\" y=\"-41.666666666666664\" width=\"2.5\" height=\"41.667\" opacity=\"0.48847926267281105\" fill=\"currentColor\" stroke-width=\"0.1\"/>\n",
       "<rect x=\"85.0\" y=\"-41.666666666666664\" width=\"2.5\" height=\"41.667\" opacity=\"0.39631336405529954\" fill=\"currentColor\" stroke-width=\"0.1\"/>\n",
       "<rect x=\"87.5\" y=\"-41.666666666666664\" width=\"2.5\" height=\"41.667\" opacity=\"0.38709677419354843\" fill=\"currentColor\" stroke-width=\"0.1\"/>\n",
       "<rect x=\"90.0\" y=\"-41.666666666666664\" width=\"2.5\" height=\"41.667\" opacity=\"0.31797235023041476\" fill=\"currentColor\" stroke-width=\"0.1\"/>\n",
       "<rect x=\"92.5\" y=\"-41.666666666666664\" width=\"2.5\" height=\"41.667\" opacity=\"0.23963133640552997\" fill=\"currentColor\" stroke-width=\"0.1\"/>\n",
       "<rect x=\"95.0\" y=\"-41.666666666666664\" width=\"2.5\" height=\"41.667\" opacity=\"0.22119815668202766\" fill=\"currentColor\" stroke-width=\"0.1\"/>\n",
       "<rect x=\"97.5\" y=\"-41.666666666666664\" width=\"2.5\" height=\"41.667\" opacity=\"0.13824884792626727\" fill=\"currentColor\" stroke-width=\"0.1\"/>\n",
       "<rect x=\"100.0\" y=\"-41.666666666666664\" width=\"2.5\" height=\"41.667\" opacity=\"0.13824884792626727\" fill=\"currentColor\" stroke-width=\"0.1\"/>\n",
       "<rect x=\"102.5\" y=\"-41.666666666666664\" width=\"2.5\" height=\"41.667\" opacity=\"0.12442396313364056\" fill=\"currentColor\" stroke-width=\"0.1\"/>\n",
       "<rect x=\"105.0\" y=\"-41.666666666666664\" width=\"2.5\" height=\"41.667\" opacity=\"0.10599078341013825\" fill=\"currentColor\" stroke-width=\"0.1\"/>\n",
       "<rect x=\"107.5\" y=\"-41.666666666666664\" width=\"2.5\" height=\"41.667\" opacity=\"0.10599078341013825\" fill=\"currentColor\" stroke-width=\"0.1\"/>\n",
       "<rect x=\"110.0\" y=\"-41.666666666666664\" width=\"2.5\" height=\"41.667\" opacity=\"0.06912442396313363\" fill=\"currentColor\" stroke-width=\"0.1\"/>\n",
       "<rect x=\"112.5\" y=\"-41.666666666666664\" width=\"2.5\" height=\"41.667\" opacity=\"0.09677419354838711\" fill=\"currentColor\" stroke-width=\"0.1\"/>\n",
       "<rect x=\"115.0\" y=\"-41.666666666666664\" width=\"2.5\" height=\"41.667\" opacity=\"0.0184331797235023\" fill=\"currentColor\" stroke-width=\"0.1\"/>\n",
       "<rect x=\"117.5\" y=\"-41.666666666666664\" width=\"2.5\" height=\"41.667\" opacity=\"0.04147465437788018\" fill=\"currentColor\" stroke-width=\"0.1\"/>\n",
       "<rect x=\"120.0\" y=\"-41.666666666666664\" width=\"2.5\" height=\"41.667\" opacity=\"0.03225806451612903\" fill=\"currentColor\" stroke-width=\"0.1\"/>\n",
       "<rect x=\"122.5\" y=\"-41.666666666666664\" width=\"2.5\" height=\"41.667\" opacity=\"0.013824884792626729\" fill=\"currentColor\" stroke-width=\"0.1\"/>\n",
       "<rect x=\"125.0\" y=\"-41.666666666666664\" width=\"2.5\" height=\"41.667\" opacity=\"0.03225806451612903\" fill=\"currentColor\" stroke-width=\"0.1\"/>\n",
       "<rect x=\"127.5\" y=\"-41.666666666666664\" width=\"2.5\" height=\"41.667\" opacity=\"0.00921658986175115\" fill=\"currentColor\" stroke-width=\"0.1\"/>\n",
       "<rect x=\"130.0\" y=\"-41.666666666666664\" width=\"2.5\" height=\"41.667\" opacity=\"0.013824884792626729\" fill=\"currentColor\" stroke-width=\"0.1\"/>\n",
       "<rect x=\"132.5\" y=\"-41.666666666666664\" width=\"2.5\" height=\"41.667\" opacity=\"0.004608294930875575\" fill=\"currentColor\" stroke-width=\"0.1\"/>\n",
       "<rect x=\"135.0\" y=\"-41.666666666666664\" width=\"2.5\" height=\"41.667\" opacity=\"0.009216589861751086\" fill=\"currentColor\" stroke-width=\"0.1\"/>\n",
       "<rect x=\"137.5\" y=\"-41.666666666666664\" width=\"2.5\" height=\"41.667\" opacity=\"0.00921658986175115\" fill=\"currentColor\" stroke-width=\"0.1\"/>\n",
       "<rect x=\"140.0\" y=\"-41.666666666666664\" width=\"2.5\" height=\"41.667\" opacity=\"0.0\" fill=\"currentColor\" stroke-width=\"0.1\"/>\n",
       "<rect x=\"142.5\" y=\"-41.666666666666664\" width=\"2.5\" height=\"41.667\" opacity=\"0.0\" fill=\"currentColor\" stroke-width=\"0.1\"/>\n",
       "<rect x=\"145.0\" y=\"-41.666666666666664\" width=\"2.5\" height=\"41.667\" opacity=\"0.0\" fill=\"currentColor\" stroke-width=\"0.1\"/>\n",
       "<rect x=\"147.5\" y=\"-41.666666666666664\" width=\"2.5\" height=\"41.667\" opacity=\"0.004608294930875575\" fill=\"currentColor\" stroke-width=\"0.1\"/>\n",
       "<rect x=\"150.0\" y=\"-41.666666666666664\" width=\"2.5\" height=\"41.667\" opacity=\"0.004608294930875575\" fill=\"currentColor\" stroke-width=\"0.1\"/>\n",
       "<rect x=\"152.5\" y=\"-41.666666666666664\" width=\"2.5\" height=\"41.667\" opacity=\"0.0\" fill=\"currentColor\" stroke-width=\"0.1\"/>\n",
       "<rect x=\"155.0\" y=\"-41.666666666666664\" width=\"2.5\" height=\"41.667\" opacity=\"0.004608294930875575\" fill=\"currentColor\" stroke-width=\"0.1\"/>\n",
       "<rect x=\"157.5\" y=\"-41.666666666666664\" width=\"2.5\" height=\"41.667\" opacity=\"0.0\" fill=\"currentColor\" stroke-width=\"0.1\"/>\n",
       "<rect x=\"160.0\" y=\"-41.666666666666664\" width=\"2.5\" height=\"41.667\" opacity=\"0.0\" fill=\"currentColor\" stroke-width=\"0.1\"/>\n",
       "<rect x=\"162.5\" y=\"-41.666666666666664\" width=\"2.5\" height=\"41.667\" opacity=\"0.0\" fill=\"currentColor\" stroke-width=\"0.1\"/>\n",
       "<rect x=\"165.0\" y=\"-41.666666666666664\" width=\"2.5\" height=\"41.667\" opacity=\"0.0\" fill=\"currentColor\" stroke-width=\"0.1\"/>\n",
       "<rect x=\"167.5\" y=\"-41.666666666666664\" width=\"2.5\" height=\"41.667\" opacity=\"0.0\" fill=\"currentColor\" stroke-width=\"0.1\"/>\n",
       "<rect x=\"170.0\" y=\"-41.666666666666664\" width=\"2.5\" height=\"41.667\" opacity=\"0.0\" fill=\"currentColor\" stroke-width=\"0.1\"/>\n",
       "<rect x=\"172.5\" y=\"-41.666666666666664\" width=\"2.5\" height=\"41.667\" opacity=\"0.0\" fill=\"currentColor\" stroke-width=\"0.1\"/>\n",
       "<rect x=\"175.0\" y=\"-41.666666666666664\" width=\"2.5\" height=\"41.667\" opacity=\"0.0\" fill=\"currentColor\" stroke-width=\"0.1\"/>\n",
       "<rect x=\"177.5\" y=\"-41.666666666666664\" width=\"2.5\" height=\"41.667\" opacity=\"0.0\" fill=\"currentColor\" stroke-width=\"0.1\"/>\n",
       "<rect x=\"180.0\" y=\"-41.666666666666664\" width=\"2.5\" height=\"41.667\" opacity=\"0.0\" fill=\"currentColor\" stroke-width=\"0.1\"/>\n",
       "<rect x=\"182.5\" y=\"-41.666666666666664\" width=\"2.5\" height=\"41.667\" opacity=\"0.0\" fill=\"currentColor\" stroke-width=\"0.1\"/>\n",
       "<rect x=\"185.0\" y=\"-41.666666666666664\" width=\"2.5\" height=\"41.667\" opacity=\"0.0\" fill=\"currentColor\" stroke-width=\"0.1\"/>\n",
       "<rect x=\"187.5\" y=\"-41.666666666666664\" width=\"2.5\" height=\"41.667\" opacity=\"0.0\" fill=\"currentColor\" stroke-width=\"0.1\"/>\n",
       "<rect x=\"190.0\" y=\"-41.666666666666664\" width=\"2.5\" height=\"41.667\" opacity=\"0.0\" fill=\"currentColor\" stroke-width=\"0.1\"/>\n",
       "<rect x=\"192.5\" y=\"-41.666666666666664\" width=\"2.5\" height=\"41.667\" opacity=\"0.0\" fill=\"currentColor\" stroke-width=\"0.1\"/>\n",
       "<rect x=\"195.0\" y=\"-41.666666666666664\" width=\"2.5\" height=\"41.667\" opacity=\"0.0\" fill=\"currentColor\" stroke-width=\"0.1\"/>\n",
       "<rect x=\"197.5\" y=\"-41.666666666666664\" width=\"2.5\" height=\"41.667\" opacity=\"0.0\" fill=\"currentColor\" stroke-width=\"0.1\"/>\n",
       "<rect x=\"200.0\" y=\"-41.666666666666664\" width=\"2.5\" height=\"41.667\" opacity=\"0.0\" fill=\"currentColor\" stroke-width=\"0.1\"/>\n",
       "<rect x=\"202.5\" y=\"-41.666666666666664\" width=\"2.5\" height=\"41.667\" opacity=\"0.0\" fill=\"currentColor\" stroke-width=\"0.1\"/>\n",
       "<rect x=\"205.0\" y=\"-41.666666666666664\" width=\"2.5\" height=\"41.667\" opacity=\"0.0\" fill=\"currentColor\" stroke-width=\"0.1\"/>\n",
       "<rect x=\"207.5\" y=\"-41.666666666666664\" width=\"2.5\" height=\"41.667\" opacity=\"0.0\" fill=\"currentColor\" stroke-width=\"0.1\"/>\n",
       "<rect x=\"210.0\" y=\"-41.666666666666664\" width=\"2.5\" height=\"41.667\" opacity=\"0.0\" fill=\"currentColor\" stroke-width=\"0.1\"/>\n",
       "<rect x=\"212.5\" y=\"-41.666666666666664\" width=\"2.5\" height=\"41.667\" opacity=\"0.0\" fill=\"currentColor\" stroke-width=\"0.1\"/>\n",
       "<rect x=\"215.0\" y=\"-41.666666666666664\" width=\"2.5\" height=\"41.667\" opacity=\"0.0\" fill=\"currentColor\" stroke-width=\"0.1\"/>\n",
       "<rect x=\"217.5\" y=\"-41.666666666666664\" width=\"2.5\" height=\"41.667\" opacity=\"0.0\" fill=\"currentColor\" stroke-width=\"0.1\"/>\n",
       "<rect x=\"220.0\" y=\"-41.666666666666664\" width=\"2.5\" height=\"41.667\" opacity=\"0.0\" fill=\"currentColor\" stroke-width=\"0.1\"/>\n",
       "<rect x=\"222.5\" y=\"-41.666666666666664\" width=\"2.5\" height=\"41.667\" opacity=\"0.0\" fill=\"currentColor\" stroke-width=\"0.1\"/>\n",
       "<rect x=\"225.0\" y=\"-41.666666666666664\" width=\"2.5\" height=\"41.667\" opacity=\"0.0\" fill=\"currentColor\" stroke-width=\"0.1\"/>\n",
       "<rect x=\"227.5\" y=\"-41.666666666666664\" width=\"2.5\" height=\"41.667\" opacity=\"0.0\" fill=\"currentColor\" stroke-width=\"0.1\"/>\n",
       "<rect x=\"230.0\" y=\"-41.666666666666664\" width=\"2.5\" height=\"41.667\" opacity=\"0.0\" fill=\"currentColor\" stroke-width=\"0.1\"/>\n",
       "<rect x=\"232.5\" y=\"-41.666666666666664\" width=\"2.5\" height=\"41.667\" opacity=\"0.0\" fill=\"currentColor\" stroke-width=\"0.1\"/>\n",
       "<rect x=\"235.0\" y=\"-41.666666666666664\" width=\"2.5\" height=\"41.667\" opacity=\"0.0\" fill=\"currentColor\" stroke-width=\"0.1\"/>\n",
       "<rect x=\"237.5\" y=\"-41.666666666666664\" width=\"2.5\" height=\"41.667\" opacity=\"0.0\" fill=\"currentColor\" stroke-width=\"0.1\"/>\n",
       "<rect x=\"240.0\" y=\"-41.666666666666664\" width=\"2.5\" height=\"41.667\" opacity=\"0.0\" fill=\"currentColor\" stroke-width=\"0.1\"/>\n",
       "<rect x=\"242.5\" y=\"-41.666666666666664\" width=\"2.5\" height=\"41.667\" opacity=\"0.0\" fill=\"currentColor\" stroke-width=\"0.1\"/>\n",
       "<rect x=\"245.0\" y=\"-41.666666666666664\" width=\"2.5\" height=\"41.667\" opacity=\"0.0\" fill=\"currentColor\" stroke-width=\"0.1\"/>\n",
       "<rect x=\"247.5\" y=\"-41.666666666666664\" width=\"2.5\" height=\"41.667\" opacity=\"0.0\" fill=\"currentColor\" stroke-width=\"0.1\"/>\n",
       "<rect x=\"0.0\" y=\"-83.33333333333333\" width=\"2.5\" height=\"41.667\" opacity=\"0.04608294930875576\" fill=\"currentColor\" stroke-width=\"0.1\"/>\n",
       "<rect x=\"2.5\" y=\"-83.33333333333333\" width=\"2.5\" height=\"41.667\" opacity=\"0.06451612903225806\" fill=\"currentColor\" stroke-width=\"0.1\"/>\n",
       "<rect x=\"5.0\" y=\"-83.33333333333333\" width=\"2.5\" height=\"41.667\" opacity=\"0.09216589861751152\" fill=\"currentColor\" stroke-width=\"0.1\"/>\n",
       "<rect x=\"7.5\" y=\"-83.33333333333333\" width=\"2.5\" height=\"41.667\" opacity=\"0.11059907834101383\" fill=\"currentColor\" stroke-width=\"0.1\"/>\n",
       "<rect x=\"10.0\" y=\"-83.33333333333333\" width=\"2.5\" height=\"41.667\" opacity=\"0.19354838709677422\" fill=\"currentColor\" stroke-width=\"0.1\"/>\n",
       "<rect x=\"12.5\" y=\"-83.33333333333333\" width=\"2.5\" height=\"41.667\" opacity=\"0.20276497695852536\" fill=\"currentColor\" stroke-width=\"0.1\"/>\n",
       "<rect x=\"15.0\" y=\"-83.33333333333333\" width=\"2.5\" height=\"41.667\" opacity=\"0.19815668202764958\" fill=\"currentColor\" stroke-width=\"0.1\"/>\n",
       "<rect x=\"17.5\" y=\"-83.33333333333333\" width=\"2.5\" height=\"41.667\" opacity=\"0.2488479262672813\" fill=\"currentColor\" stroke-width=\"0.1\"/>\n",
       "<rect x=\"20.0\" y=\"-83.33333333333333\" width=\"2.5\" height=\"41.667\" opacity=\"0.2534562211981567\" fill=\"currentColor\" stroke-width=\"0.1\"/>\n",
       "<rect x=\"22.5\" y=\"-83.33333333333333\" width=\"2.5\" height=\"41.667\" opacity=\"0.32718894009216587\" fill=\"currentColor\" stroke-width=\"0.1\"/>\n",
       "<rect x=\"25.0\" y=\"-83.33333333333333\" width=\"2.5\" height=\"41.667\" opacity=\"0.3548387096774194\" fill=\"currentColor\" stroke-width=\"0.1\"/>\n",
       "<rect x=\"27.5\" y=\"-83.33333333333333\" width=\"2.5\" height=\"41.667\" opacity=\"0.3410138248847926\" fill=\"currentColor\" stroke-width=\"0.1\"/>\n",
       "<rect x=\"30.0\" y=\"-83.33333333333333\" width=\"2.5\" height=\"41.667\" opacity=\"0.543778801843318\" fill=\"currentColor\" stroke-width=\"0.1\"/>\n",
       "<rect x=\"32.5\" y=\"-83.33333333333333\" width=\"2.5\" height=\"41.667\" opacity=\"0.5990783410138238\" fill=\"currentColor\" stroke-width=\"0.1\"/>\n",
       "<rect x=\"35.0\" y=\"-83.33333333333333\" width=\"2.5\" height=\"41.667\" opacity=\"0.5714285714285724\" fill=\"currentColor\" stroke-width=\"0.1\"/>\n",
       "<rect x=\"37.5\" y=\"-83.33333333333333\" width=\"2.5\" height=\"41.667\" opacity=\"0.6682027649769585\" fill=\"currentColor\" stroke-width=\"0.1\"/>\n",
       "<rect x=\"40.0\" y=\"-83.33333333333333\" width=\"2.5\" height=\"41.667\" opacity=\"0.7188940092165899\" fill=\"currentColor\" stroke-width=\"0.1\"/>\n",
       "<rect x=\"42.5\" y=\"-83.33333333333333\" width=\"2.5\" height=\"41.667\" opacity=\"0.912442396313364\" fill=\"currentColor\" stroke-width=\"0.1\"/>\n",
       "<rect x=\"45.0\" y=\"-83.33333333333333\" width=\"2.5\" height=\"41.667\" opacity=\"0.8064516129032258\" fill=\"currentColor\" stroke-width=\"0.1\"/>\n",
       "<rect x=\"47.5\" y=\"-83.33333333333333\" width=\"2.5\" height=\"41.667\" opacity=\"0.7788018433179724\" fill=\"currentColor\" stroke-width=\"0.1\"/>\n",
       "<rect x=\"50.0\" y=\"-83.33333333333333\" width=\"2.5\" height=\"41.667\" opacity=\"0.7880184331797235\" fill=\"currentColor\" stroke-width=\"0.1\"/>\n",
       "<rect x=\"52.5\" y=\"-83.33333333333333\" width=\"2.5\" height=\"41.667\" opacity=\"0.8341013824884792\" fill=\"currentColor\" stroke-width=\"0.1\"/>\n",
       "<rect x=\"55.0\" y=\"-83.33333333333333\" width=\"2.5\" height=\"41.667\" opacity=\"0.8433179723502303\" fill=\"currentColor\" stroke-width=\"0.1\"/>\n",
       "<rect x=\"57.5\" y=\"-83.33333333333333\" width=\"2.5\" height=\"41.667\" opacity=\"0.8663594470046083\" fill=\"currentColor\" stroke-width=\"0.1\"/>\n",
       "<rect x=\"60.0\" y=\"-83.33333333333333\" width=\"2.5\" height=\"41.667\" opacity=\"0.8571428571428571\" fill=\"currentColor\" stroke-width=\"0.1\"/>\n",
       "<rect x=\"62.5\" y=\"-83.33333333333333\" width=\"2.5\" height=\"41.667\" opacity=\"0.967741935483871\" fill=\"currentColor\" stroke-width=\"0.1\"/>\n",
       "<rect x=\"65.0\" y=\"-83.33333333333333\" width=\"2.5\" height=\"41.667\" opacity=\"0.9308755760368663\" fill=\"currentColor\" stroke-width=\"0.1\"/>\n",
       "<rect x=\"67.5\" y=\"-83.33333333333333\" width=\"2.5\" height=\"41.667\" opacity=\"0.8801843317972319\" fill=\"currentColor\" stroke-width=\"0.1\"/>\n",
       "<rect x=\"70.0\" y=\"-83.33333333333333\" width=\"2.5\" height=\"41.667\" opacity=\"0.7926267281106048\" fill=\"currentColor\" stroke-width=\"0.1\"/>\n",
       "<rect x=\"72.5\" y=\"-83.33333333333333\" width=\"2.5\" height=\"41.667\" opacity=\"0.774193548387094\" fill=\"currentColor\" stroke-width=\"0.1\"/>\n",
       "<rect x=\"75.0\" y=\"-83.33333333333333\" width=\"2.5\" height=\"41.667\" opacity=\"0.7557603686635944\" fill=\"currentColor\" stroke-width=\"0.1\"/>\n",
       "<rect x=\"77.5\" y=\"-83.33333333333333\" width=\"2.5\" height=\"41.667\" opacity=\"0.728110599078341\" fill=\"currentColor\" stroke-width=\"0.1\"/>\n",
       "<rect x=\"80.0\" y=\"-83.33333333333333\" width=\"2.5\" height=\"41.667\" opacity=\"0.6820276497695852\" fill=\"currentColor\" stroke-width=\"0.1\"/>\n",
       "<rect x=\"82.5\" y=\"-83.33333333333333\" width=\"2.5\" height=\"41.667\" opacity=\"0.5345622119815668\" fill=\"currentColor\" stroke-width=\"0.1\"/>\n",
       "<rect x=\"85.0\" y=\"-83.33333333333333\" width=\"2.5\" height=\"41.667\" opacity=\"0.5207373271889401\" fill=\"currentColor\" stroke-width=\"0.1\"/>\n",
       "<rect x=\"87.5\" y=\"-83.33333333333333\" width=\"2.5\" height=\"41.667\" opacity=\"0.5161290322580645\" fill=\"currentColor\" stroke-width=\"0.1\"/>\n",
       "<rect x=\"90.0\" y=\"-83.33333333333333\" width=\"2.5\" height=\"41.667\" opacity=\"0.38709677419354843\" fill=\"currentColor\" stroke-width=\"0.1\"/>\n",
       "<rect x=\"92.5\" y=\"-83.33333333333333\" width=\"2.5\" height=\"41.667\" opacity=\"0.4193548387096774\" fill=\"currentColor\" stroke-width=\"0.1\"/>\n",
       "<rect x=\"95.0\" y=\"-83.33333333333333\" width=\"2.5\" height=\"41.667\" opacity=\"0.3456221198156682\" fill=\"currentColor\" stroke-width=\"0.1\"/>\n",
       "<rect x=\"97.5\" y=\"-83.33333333333333\" width=\"2.5\" height=\"41.667\" opacity=\"0.2626728110599078\" fill=\"currentColor\" stroke-width=\"0.1\"/>\n",
       "<rect x=\"100.0\" y=\"-83.33333333333333\" width=\"2.5\" height=\"41.667\" opacity=\"0.22580645161290322\" fill=\"currentColor\" stroke-width=\"0.1\"/>\n",
       "<rect x=\"102.5\" y=\"-83.33333333333333\" width=\"2.5\" height=\"41.667\" opacity=\"0.20276497695852536\" fill=\"currentColor\" stroke-width=\"0.1\"/>\n",
       "<rect x=\"105.0\" y=\"-83.33333333333333\" width=\"2.5\" height=\"41.667\" opacity=\"0.15207373271889402\" fill=\"currentColor\" stroke-width=\"0.1\"/>\n",
       "<rect x=\"107.5\" y=\"-83.33333333333333\" width=\"2.5\" height=\"41.667\" opacity=\"0.1658986175115207\" fill=\"currentColor\" stroke-width=\"0.1\"/>\n",
       "<rect x=\"110.0\" y=\"-83.33333333333333\" width=\"2.5\" height=\"41.667\" opacity=\"0.11981566820276499\" fill=\"currentColor\" stroke-width=\"0.1\"/>\n",
       "<rect x=\"112.5\" y=\"-83.33333333333333\" width=\"2.5\" height=\"41.667\" opacity=\"0.07834101382488479\" fill=\"currentColor\" stroke-width=\"0.1\"/>\n",
       "<rect x=\"115.0\" y=\"-83.33333333333333\" width=\"2.5\" height=\"41.667\" opacity=\"0.08755760368663595\" fill=\"currentColor\" stroke-width=\"0.1\"/>\n",
       "<rect x=\"117.5\" y=\"-83.33333333333333\" width=\"2.5\" height=\"41.667\" opacity=\"0.05990783410138249\" fill=\"currentColor\" stroke-width=\"0.1\"/>\n",
       "<rect x=\"120.0\" y=\"-83.33333333333333\" width=\"2.5\" height=\"41.667\" opacity=\"0.04608294930875576\" fill=\"currentColor\" stroke-width=\"0.1\"/>\n",
       "<rect x=\"122.5\" y=\"-83.33333333333333\" width=\"2.5\" height=\"41.667\" opacity=\"0.04147465437788018\" fill=\"currentColor\" stroke-width=\"0.1\"/>\n",
       "<rect x=\"125.0\" y=\"-83.33333333333333\" width=\"2.5\" height=\"41.667\" opacity=\"0.027649769585253458\" fill=\"currentColor\" stroke-width=\"0.1\"/>\n",
       "<rect x=\"127.5\" y=\"-83.33333333333333\" width=\"2.5\" height=\"41.667\" opacity=\"0.0184331797235023\" fill=\"currentColor\" stroke-width=\"0.1\"/>\n",
       "<rect x=\"130.0\" y=\"-83.33333333333333\" width=\"2.5\" height=\"41.667\" opacity=\"0.0184331797235023\" fill=\"currentColor\" stroke-width=\"0.1\"/>\n",
       "<rect x=\"132.5\" y=\"-83.33333333333333\" width=\"2.5\" height=\"41.667\" opacity=\"0.013824884792626729\" fill=\"currentColor\" stroke-width=\"0.1\"/>\n",
       "<rect x=\"135.0\" y=\"-83.33333333333333\" width=\"2.5\" height=\"41.667\" opacity=\"0.009216589861751086\" fill=\"currentColor\" stroke-width=\"0.1\"/>\n",
       "<rect x=\"137.5\" y=\"-83.33333333333333\" width=\"2.5\" height=\"41.667\" opacity=\"0.004608294930875575\" fill=\"currentColor\" stroke-width=\"0.1\"/>\n",
       "<rect x=\"140.0\" y=\"-83.33333333333333\" width=\"2.5\" height=\"41.667\" opacity=\"0.009216589861751282\" fill=\"currentColor\" stroke-width=\"0.1\"/>\n",
       "<rect x=\"142.5\" y=\"-83.33333333333333\" width=\"2.5\" height=\"41.667\" opacity=\"0.0\" fill=\"currentColor\" stroke-width=\"0.1\"/>\n",
       "<rect x=\"145.0\" y=\"-83.33333333333333\" width=\"2.5\" height=\"41.667\" opacity=\"0.0\" fill=\"currentColor\" stroke-width=\"0.1\"/>\n",
       "<rect x=\"147.5\" y=\"-83.33333333333333\" width=\"2.5\" height=\"41.667\" opacity=\"0.00921658986175115\" fill=\"currentColor\" stroke-width=\"0.1\"/>\n",
       "<rect x=\"150.0\" y=\"-83.33333333333333\" width=\"2.5\" height=\"41.667\" opacity=\"0.004608294930875575\" fill=\"currentColor\" stroke-width=\"0.1\"/>\n",
       "<rect x=\"152.5\" y=\"-83.33333333333333\" width=\"2.5\" height=\"41.667\" opacity=\"0.0\" fill=\"currentColor\" stroke-width=\"0.1\"/>\n",
       "<rect x=\"155.0\" y=\"-83.33333333333333\" width=\"2.5\" height=\"41.667\" opacity=\"0.0\" fill=\"currentColor\" stroke-width=\"0.1\"/>\n",
       "<rect x=\"157.5\" y=\"-83.33333333333333\" width=\"2.5\" height=\"41.667\" opacity=\"0.0\" fill=\"currentColor\" stroke-width=\"0.1\"/>\n",
       "<rect x=\"160.0\" y=\"-83.33333333333333\" width=\"2.5\" height=\"41.667\" opacity=\"0.0\" fill=\"currentColor\" stroke-width=\"0.1\"/>\n",
       "<rect x=\"162.5\" y=\"-83.33333333333333\" width=\"2.5\" height=\"41.667\" opacity=\"0.0\" fill=\"currentColor\" stroke-width=\"0.1\"/>\n",
       "<rect x=\"165.0\" y=\"-83.33333333333333\" width=\"2.5\" height=\"41.667\" opacity=\"0.0\" fill=\"currentColor\" stroke-width=\"0.1\"/>\n",
       "<rect x=\"167.5\" y=\"-83.33333333333333\" width=\"2.5\" height=\"41.667\" opacity=\"0.0\" fill=\"currentColor\" stroke-width=\"0.1\"/>\n",
       "<rect x=\"170.0\" y=\"-83.33333333333333\" width=\"2.5\" height=\"41.667\" opacity=\"0.0\" fill=\"currentColor\" stroke-width=\"0.1\"/>\n",
       "<rect x=\"172.5\" y=\"-83.33333333333333\" width=\"2.5\" height=\"41.667\" opacity=\"0.0\" fill=\"currentColor\" stroke-width=\"0.1\"/>\n",
       "<rect x=\"175.0\" y=\"-83.33333333333333\" width=\"2.5\" height=\"41.667\" opacity=\"0.0\" fill=\"currentColor\" stroke-width=\"0.1\"/>\n",
       "<rect x=\"177.5\" y=\"-83.33333333333333\" width=\"2.5\" height=\"41.667\" opacity=\"0.0\" fill=\"currentColor\" stroke-width=\"0.1\"/>\n",
       "<rect x=\"180.0\" y=\"-83.33333333333333\" width=\"2.5\" height=\"41.667\" opacity=\"0.0\" fill=\"currentColor\" stroke-width=\"0.1\"/>\n",
       "<rect x=\"182.5\" y=\"-83.33333333333333\" width=\"2.5\" height=\"41.667\" opacity=\"0.0\" fill=\"currentColor\" stroke-width=\"0.1\"/>\n",
       "<rect x=\"185.0\" y=\"-83.33333333333333\" width=\"2.5\" height=\"41.667\" opacity=\"0.0\" fill=\"currentColor\" stroke-width=\"0.1\"/>\n",
       "<rect x=\"187.5\" y=\"-83.33333333333333\" width=\"2.5\" height=\"41.667\" opacity=\"0.0\" fill=\"currentColor\" stroke-width=\"0.1\"/>\n",
       "<rect x=\"190.0\" y=\"-83.33333333333333\" width=\"2.5\" height=\"41.667\" opacity=\"0.0\" fill=\"currentColor\" stroke-width=\"0.1\"/>\n",
       "<rect x=\"192.5\" y=\"-83.33333333333333\" width=\"2.5\" height=\"41.667\" opacity=\"0.0\" fill=\"currentColor\" stroke-width=\"0.1\"/>\n",
       "<rect x=\"195.0\" y=\"-83.33333333333333\" width=\"2.5\" height=\"41.667\" opacity=\"0.0\" fill=\"currentColor\" stroke-width=\"0.1\"/>\n",
       "<rect x=\"197.5\" y=\"-83.33333333333333\" width=\"2.5\" height=\"41.667\" opacity=\"0.0\" fill=\"currentColor\" stroke-width=\"0.1\"/>\n",
       "<rect x=\"200.0\" y=\"-83.33333333333333\" width=\"2.5\" height=\"41.667\" opacity=\"0.0\" fill=\"currentColor\" stroke-width=\"0.1\"/>\n",
       "<rect x=\"202.5\" y=\"-83.33333333333333\" width=\"2.5\" height=\"41.667\" opacity=\"0.0\" fill=\"currentColor\" stroke-width=\"0.1\"/>\n",
       "<rect x=\"205.0\" y=\"-83.33333333333333\" width=\"2.5\" height=\"41.667\" opacity=\"0.0\" fill=\"currentColor\" stroke-width=\"0.1\"/>\n",
       "<rect x=\"207.5\" y=\"-83.33333333333333\" width=\"2.5\" height=\"41.667\" opacity=\"0.0\" fill=\"currentColor\" stroke-width=\"0.1\"/>\n",
       "<rect x=\"210.0\" y=\"-83.33333333333333\" width=\"2.5\" height=\"41.667\" opacity=\"0.0\" fill=\"currentColor\" stroke-width=\"0.1\"/>\n",
       "<rect x=\"212.5\" y=\"-83.33333333333333\" width=\"2.5\" height=\"41.667\" opacity=\"0.0\" fill=\"currentColor\" stroke-width=\"0.1\"/>\n",
       "<rect x=\"215.0\" y=\"-83.33333333333333\" width=\"2.5\" height=\"41.667\" opacity=\"0.0\" fill=\"currentColor\" stroke-width=\"0.1\"/>\n",
       "<rect x=\"217.5\" y=\"-83.33333333333333\" width=\"2.5\" height=\"41.667\" opacity=\"0.0\" fill=\"currentColor\" stroke-width=\"0.1\"/>\n",
       "<rect x=\"220.0\" y=\"-83.33333333333333\" width=\"2.5\" height=\"41.667\" opacity=\"0.0\" fill=\"currentColor\" stroke-width=\"0.1\"/>\n",
       "<rect x=\"222.5\" y=\"-83.33333333333333\" width=\"2.5\" height=\"41.667\" opacity=\"0.0\" fill=\"currentColor\" stroke-width=\"0.1\"/>\n",
       "<rect x=\"225.0\" y=\"-83.33333333333333\" width=\"2.5\" height=\"41.667\" opacity=\"0.0\" fill=\"currentColor\" stroke-width=\"0.1\"/>\n",
       "<rect x=\"227.5\" y=\"-83.33333333333333\" width=\"2.5\" height=\"41.667\" opacity=\"0.0\" fill=\"currentColor\" stroke-width=\"0.1\"/>\n",
       "<rect x=\"230.0\" y=\"-83.33333333333333\" width=\"2.5\" height=\"41.667\" opacity=\"0.0\" fill=\"currentColor\" stroke-width=\"0.1\"/>\n",
       "<rect x=\"232.5\" y=\"-83.33333333333333\" width=\"2.5\" height=\"41.667\" opacity=\"0.0\" fill=\"currentColor\" stroke-width=\"0.1\"/>\n",
       "<rect x=\"235.0\" y=\"-83.33333333333333\" width=\"2.5\" height=\"41.667\" opacity=\"0.0\" fill=\"currentColor\" stroke-width=\"0.1\"/>\n",
       "<rect x=\"237.5\" y=\"-83.33333333333333\" width=\"2.5\" height=\"41.667\" opacity=\"0.0\" fill=\"currentColor\" stroke-width=\"0.1\"/>\n",
       "<rect x=\"240.0\" y=\"-83.33333333333333\" width=\"2.5\" height=\"41.667\" opacity=\"0.0\" fill=\"currentColor\" stroke-width=\"0.1\"/>\n",
       "<rect x=\"242.5\" y=\"-83.33333333333333\" width=\"2.5\" height=\"41.667\" opacity=\"0.0\" fill=\"currentColor\" stroke-width=\"0.1\"/>\n",
       "<rect x=\"245.0\" y=\"-83.33333333333333\" width=\"2.5\" height=\"41.667\" opacity=\"0.0\" fill=\"currentColor\" stroke-width=\"0.1\"/>\n",
       "<rect x=\"247.5\" y=\"-83.33333333333333\" width=\"2.5\" height=\"41.667\" opacity=\"0.0\" fill=\"currentColor\" stroke-width=\"0.1\"/>\n",
       "<rect x=\"0.0\" y=\"-125.0\" width=\"2.5\" height=\"41.667\" opacity=\"0.0\" fill=\"currentColor\" stroke-width=\"0.1\"/>\n",
       "<rect x=\"2.5\" y=\"-125.0\" width=\"2.5\" height=\"41.667\" opacity=\"0.0\" fill=\"currentColor\" stroke-width=\"0.1\"/>\n",
       "<rect x=\"5.0\" y=\"-125.0\" width=\"2.5\" height=\"41.667\" opacity=\"0.0\" fill=\"currentColor\" stroke-width=\"0.1\"/>\n",
       "<rect x=\"7.5\" y=\"-125.0\" width=\"2.5\" height=\"41.667\" opacity=\"0.0\" fill=\"currentColor\" stroke-width=\"0.1\"/>\n",
       "<rect x=\"10.0\" y=\"-125.0\" width=\"2.5\" height=\"41.667\" opacity=\"0.0\" fill=\"currentColor\" stroke-width=\"0.1\"/>\n",
       "<rect x=\"12.5\" y=\"-125.0\" width=\"2.5\" height=\"41.667\" opacity=\"0.0\" fill=\"currentColor\" stroke-width=\"0.1\"/>\n",
       "<rect x=\"15.0\" y=\"-125.0\" width=\"2.5\" height=\"41.667\" opacity=\"0.0\" fill=\"currentColor\" stroke-width=\"0.1\"/>\n",
       "<rect x=\"17.5\" y=\"-125.0\" width=\"2.5\" height=\"41.667\" opacity=\"0.0\" fill=\"currentColor\" stroke-width=\"0.1\"/>\n",
       "<rect x=\"20.0\" y=\"-125.0\" width=\"2.5\" height=\"41.667\" opacity=\"0.0\" fill=\"currentColor\" stroke-width=\"0.1\"/>\n",
       "<rect x=\"22.5\" y=\"-125.0\" width=\"2.5\" height=\"41.667\" opacity=\"0.0\" fill=\"currentColor\" stroke-width=\"0.1\"/>\n",
       "<rect x=\"25.0\" y=\"-125.0\" width=\"2.5\" height=\"41.667\" opacity=\"0.0\" fill=\"currentColor\" stroke-width=\"0.1\"/>\n",
       "<rect x=\"27.5\" y=\"-125.0\" width=\"2.5\" height=\"41.667\" opacity=\"0.0\" fill=\"currentColor\" stroke-width=\"0.1\"/>\n",
       "<rect x=\"30.0\" y=\"-125.0\" width=\"2.5\" height=\"41.667\" opacity=\"0.0\" fill=\"currentColor\" stroke-width=\"0.1\"/>\n",
       "<rect x=\"32.5\" y=\"-125.0\" width=\"2.5\" height=\"41.667\" opacity=\"0.0\" fill=\"currentColor\" stroke-width=\"0.1\"/>\n",
       "<rect x=\"35.0\" y=\"-125.0\" width=\"2.5\" height=\"41.667\" opacity=\"0.0\" fill=\"currentColor\" stroke-width=\"0.1\"/>\n",
       "<rect x=\"37.5\" y=\"-125.0\" width=\"2.5\" height=\"41.667\" opacity=\"0.0\" fill=\"currentColor\" stroke-width=\"0.1\"/>\n",
       "<rect x=\"40.0\" y=\"-125.0\" width=\"2.5\" height=\"41.667\" opacity=\"0.0\" fill=\"currentColor\" stroke-width=\"0.1\"/>\n",
       "<rect x=\"42.5\" y=\"-125.0\" width=\"2.5\" height=\"41.667\" opacity=\"0.0\" fill=\"currentColor\" stroke-width=\"0.1\"/>\n",
       "<rect x=\"45.0\" y=\"-125.0\" width=\"2.5\" height=\"41.667\" opacity=\"0.0\" fill=\"currentColor\" stroke-width=\"0.1\"/>\n",
       "<rect x=\"47.5\" y=\"-125.0\" width=\"2.5\" height=\"41.667\" opacity=\"0.0\" fill=\"currentColor\" stroke-width=\"0.1\"/>\n",
       "<rect x=\"50.0\" y=\"-125.0\" width=\"2.5\" height=\"41.667\" opacity=\"0.0\" fill=\"currentColor\" stroke-width=\"0.1\"/>\n",
       "<rect x=\"52.5\" y=\"-125.0\" width=\"2.5\" height=\"41.667\" opacity=\"0.0\" fill=\"currentColor\" stroke-width=\"0.1\"/>\n",
       "<rect x=\"55.0\" y=\"-125.0\" width=\"2.5\" height=\"41.667\" opacity=\"0.0\" fill=\"currentColor\" stroke-width=\"0.1\"/>\n",
       "<rect x=\"57.5\" y=\"-125.0\" width=\"2.5\" height=\"41.667\" opacity=\"0.0\" fill=\"currentColor\" stroke-width=\"0.1\"/>\n",
       "<rect x=\"60.0\" y=\"-125.0\" width=\"2.5\" height=\"41.667\" opacity=\"0.0\" fill=\"currentColor\" stroke-width=\"0.1\"/>\n",
       "<rect x=\"62.5\" y=\"-125.0\" width=\"2.5\" height=\"41.667\" opacity=\"0.0\" fill=\"currentColor\" stroke-width=\"0.1\"/>\n",
       "<rect x=\"65.0\" y=\"-125.0\" width=\"2.5\" height=\"41.667\" opacity=\"0.0\" fill=\"currentColor\" stroke-width=\"0.1\"/>\n",
       "<rect x=\"67.5\" y=\"-125.0\" width=\"2.5\" height=\"41.667\" opacity=\"0.0\" fill=\"currentColor\" stroke-width=\"0.1\"/>\n",
       "<rect x=\"70.0\" y=\"-125.0\" width=\"2.5\" height=\"41.667\" opacity=\"0.0\" fill=\"currentColor\" stroke-width=\"0.1\"/>\n",
       "<rect x=\"72.5\" y=\"-125.0\" width=\"2.5\" height=\"41.667\" opacity=\"0.0\" fill=\"currentColor\" stroke-width=\"0.1\"/>\n",
       "<rect x=\"75.0\" y=\"-125.0\" width=\"2.5\" height=\"41.667\" opacity=\"0.0\" fill=\"currentColor\" stroke-width=\"0.1\"/>\n",
       "<rect x=\"77.5\" y=\"-125.0\" width=\"2.5\" height=\"41.667\" opacity=\"0.0\" fill=\"currentColor\" stroke-width=\"0.1\"/>\n",
       "<rect x=\"80.0\" y=\"-125.0\" width=\"2.5\" height=\"41.667\" opacity=\"0.0\" fill=\"currentColor\" stroke-width=\"0.1\"/>\n",
       "<rect x=\"82.5\" y=\"-125.0\" width=\"2.5\" height=\"41.667\" opacity=\"0.004608294930875575\" fill=\"currentColor\" stroke-width=\"0.1\"/>\n",
       "<rect x=\"85.0\" y=\"-125.0\" width=\"2.5\" height=\"41.667\" opacity=\"0.0\" fill=\"currentColor\" stroke-width=\"0.1\"/>\n",
       "<rect x=\"87.5\" y=\"-125.0\" width=\"2.5\" height=\"41.667\" opacity=\"0.0\" fill=\"currentColor\" stroke-width=\"0.1\"/>\n",
       "<rect x=\"90.0\" y=\"-125.0\" width=\"2.5\" height=\"41.667\" opacity=\"0.0\" fill=\"currentColor\" stroke-width=\"0.1\"/>\n",
       "<rect x=\"92.5\" y=\"-125.0\" width=\"2.5\" height=\"41.667\" opacity=\"0.0\" fill=\"currentColor\" stroke-width=\"0.1\"/>\n",
       "<rect x=\"95.0\" y=\"-125.0\" width=\"2.5\" height=\"41.667\" opacity=\"0.0\" fill=\"currentColor\" stroke-width=\"0.1\"/>\n",
       "<rect x=\"97.5\" y=\"-125.0\" width=\"2.5\" height=\"41.667\" opacity=\"0.0\" fill=\"currentColor\" stroke-width=\"0.1\"/>\n",
       "<rect x=\"100.0\" y=\"-125.0\" width=\"2.5\" height=\"41.667\" opacity=\"0.0\" fill=\"currentColor\" stroke-width=\"0.1\"/>\n",
       "<rect x=\"102.5\" y=\"-125.0\" width=\"2.5\" height=\"41.667\" opacity=\"0.0184331797235023\" fill=\"currentColor\" stroke-width=\"0.1\"/>\n",
       "<rect x=\"105.0\" y=\"-125.0\" width=\"2.5\" height=\"41.667\" opacity=\"0.0\" fill=\"currentColor\" stroke-width=\"0.1\"/>\n",
       "<rect x=\"107.5\" y=\"-125.0\" width=\"2.5\" height=\"41.667\" opacity=\"0.004608294930875575\" fill=\"currentColor\" stroke-width=\"0.1\"/>\n",
       "<rect x=\"110.0\" y=\"-125.0\" width=\"2.5\" height=\"41.667\" opacity=\"0.00921658986175115\" fill=\"currentColor\" stroke-width=\"0.1\"/>\n",
       "<rect x=\"112.5\" y=\"-125.0\" width=\"2.5\" height=\"41.667\" opacity=\"0.013824884792626729\" fill=\"currentColor\" stroke-width=\"0.1\"/>\n",
       "<rect x=\"115.0\" y=\"-125.0\" width=\"2.5\" height=\"41.667\" opacity=\"0.013824884792626729\" fill=\"currentColor\" stroke-width=\"0.1\"/>\n",
       "<rect x=\"117.5\" y=\"-125.0\" width=\"2.5\" height=\"41.667\" opacity=\"0.06451612903225806\" fill=\"currentColor\" stroke-width=\"0.1\"/>\n",
       "<rect x=\"120.0\" y=\"-125.0\" width=\"2.5\" height=\"41.667\" opacity=\"0.02304147465437788\" fill=\"currentColor\" stroke-width=\"0.1\"/>\n",
       "<rect x=\"122.5\" y=\"-125.0\" width=\"2.5\" height=\"41.667\" opacity=\"0.02304147465437788\" fill=\"currentColor\" stroke-width=\"0.1\"/>\n",
       "<rect x=\"125.0\" y=\"-125.0\" width=\"2.5\" height=\"41.667\" opacity=\"0.055299539170506916\" fill=\"currentColor\" stroke-width=\"0.1\"/>\n",
       "<rect x=\"127.5\" y=\"-125.0\" width=\"2.5\" height=\"41.667\" opacity=\"0.04608294930875576\" fill=\"currentColor\" stroke-width=\"0.1\"/>\n",
       "<rect x=\"130.0\" y=\"-125.0\" width=\"2.5\" height=\"41.667\" opacity=\"0.05990783410138249\" fill=\"currentColor\" stroke-width=\"0.1\"/>\n",
       "<rect x=\"132.5\" y=\"-125.0\" width=\"2.5\" height=\"41.667\" opacity=\"0.10599078341013825\" fill=\"currentColor\" stroke-width=\"0.1\"/>\n",
       "<rect x=\"135.0\" y=\"-125.0\" width=\"2.5\" height=\"41.667\" opacity=\"0.11981566820276413\" fill=\"currentColor\" stroke-width=\"0.1\"/>\n",
       "<rect x=\"137.5\" y=\"-125.0\" width=\"2.5\" height=\"41.667\" opacity=\"0.1336405529953917\" fill=\"currentColor\" stroke-width=\"0.1\"/>\n",
       "<rect x=\"140.0\" y=\"-125.0\" width=\"2.5\" height=\"41.667\" opacity=\"0.12903225806451796\" fill=\"currentColor\" stroke-width=\"0.1\"/>\n",
       "<rect x=\"142.5\" y=\"-125.0\" width=\"2.5\" height=\"41.667\" opacity=\"0.2073732718894009\" fill=\"currentColor\" stroke-width=\"0.1\"/>\n",
       "<rect x=\"145.0\" y=\"-125.0\" width=\"2.5\" height=\"41.667\" opacity=\"0.21658986175115053\" fill=\"currentColor\" stroke-width=\"0.1\"/>\n",
       "<rect x=\"147.5\" y=\"-125.0\" width=\"2.5\" height=\"41.667\" opacity=\"0.2995391705069125\" fill=\"currentColor\" stroke-width=\"0.1\"/>\n",
       "<rect x=\"150.0\" y=\"-125.0\" width=\"2.5\" height=\"41.667\" opacity=\"0.27649769585253453\" fill=\"currentColor\" stroke-width=\"0.1\"/>\n",
       "<rect x=\"152.5\" y=\"-125.0\" width=\"2.5\" height=\"41.667\" opacity=\"0.3778801843317972\" fill=\"currentColor\" stroke-width=\"0.1\"/>\n",
       "<rect x=\"155.0\" y=\"-125.0\" width=\"2.5\" height=\"41.667\" opacity=\"0.423963133640553\" fill=\"currentColor\" stroke-width=\"0.1\"/>\n",
       "<rect x=\"157.5\" y=\"-125.0\" width=\"2.5\" height=\"41.667\" opacity=\"0.4930875576036866\" fill=\"currentColor\" stroke-width=\"0.1\"/>\n",
       "<rect x=\"160.0\" y=\"-125.0\" width=\"2.5\" height=\"41.667\" opacity=\"0.5806451612903225\" fill=\"currentColor\" stroke-width=\"0.1\"/>\n",
       "<rect x=\"162.5\" y=\"-125.0\" width=\"2.5\" height=\"41.667\" opacity=\"0.6451612903225806\" fill=\"currentColor\" stroke-width=\"0.1\"/>\n",
       "<rect x=\"165.0\" y=\"-125.0\" width=\"2.5\" height=\"41.667\" opacity=\"0.6497695852534562\" fill=\"currentColor\" stroke-width=\"0.1\"/>\n",
       "<rect x=\"167.5\" y=\"-125.0\" width=\"2.5\" height=\"41.667\" opacity=\"0.6359447004608295\" fill=\"currentColor\" stroke-width=\"0.1\"/>\n",
       "<rect x=\"170.0\" y=\"-125.0\" width=\"2.5\" height=\"41.667\" opacity=\"0.7188940092165899\" fill=\"currentColor\" stroke-width=\"0.1\"/>\n",
       "<rect x=\"172.5\" y=\"-125.0\" width=\"2.5\" height=\"41.667\" opacity=\"0.783410138248848\" fill=\"currentColor\" stroke-width=\"0.1\"/>\n",
       "<rect x=\"175.0\" y=\"-125.0\" width=\"2.5\" height=\"41.667\" opacity=\"0.8018433179723502\" fill=\"currentColor\" stroke-width=\"0.1\"/>\n",
       "<rect x=\"177.5\" y=\"-125.0\" width=\"2.5\" height=\"41.667\" opacity=\"0.8617511520737327\" fill=\"currentColor\" stroke-width=\"0.1\"/>\n",
       "<rect x=\"180.0\" y=\"-125.0\" width=\"2.5\" height=\"41.667\" opacity=\"0.9262672811059908\" fill=\"currentColor\" stroke-width=\"0.1\"/>\n",
       "<rect x=\"182.5\" y=\"-125.0\" width=\"2.5\" height=\"41.667\" opacity=\"0.9815668202764977\" fill=\"currentColor\" stroke-width=\"0.1\"/>\n",
       "<rect x=\"185.0\" y=\"-125.0\" width=\"2.5\" height=\"41.667\" opacity=\"0.9078341013824884\" fill=\"currentColor\" stroke-width=\"0.1\"/>\n",
       "<rect x=\"187.5\" y=\"-125.0\" width=\"2.5\" height=\"41.667\" opacity=\"0.9308755760368663\" fill=\"currentColor\" stroke-width=\"0.1\"/>\n",
       "<rect x=\"190.0\" y=\"-125.0\" width=\"2.5\" height=\"41.667\" opacity=\"0.9815668202764977\" fill=\"currentColor\" stroke-width=\"0.1\"/>\n",
       "<rect x=\"192.5\" y=\"-125.0\" width=\"2.5\" height=\"41.667\" opacity=\"0.8986175115207373\" fill=\"currentColor\" stroke-width=\"0.1\"/>\n",
       "<rect x=\"195.0\" y=\"-125.0\" width=\"2.5\" height=\"41.667\" opacity=\"0.728110599078341\" fill=\"currentColor\" stroke-width=\"0.1\"/>\n",
       "<rect x=\"197.5\" y=\"-125.0\" width=\"2.5\" height=\"41.667\" opacity=\"0.7373271889400922\" fill=\"currentColor\" stroke-width=\"0.1\"/>\n",
       "<rect x=\"200.0\" y=\"-125.0\" width=\"2.5\" height=\"41.667\" opacity=\"0.7142857142857143\" fill=\"currentColor\" stroke-width=\"0.1\"/>\n",
       "<rect x=\"202.5\" y=\"-125.0\" width=\"2.5\" height=\"41.667\" opacity=\"0.7741935483870969\" fill=\"currentColor\" stroke-width=\"0.1\"/>\n",
       "<rect x=\"205.0\" y=\"-125.0\" width=\"2.5\" height=\"41.667\" opacity=\"0.7373271889400922\" fill=\"currentColor\" stroke-width=\"0.1\"/>\n",
       "<rect x=\"207.5\" y=\"-125.0\" width=\"2.5\" height=\"41.667\" opacity=\"0.695852534562212\" fill=\"currentColor\" stroke-width=\"0.1\"/>\n",
       "<rect x=\"210.0\" y=\"-125.0\" width=\"2.5\" height=\"41.667\" opacity=\"0.4377880184331797\" fill=\"currentColor\" stroke-width=\"0.1\"/>\n",
       "<rect x=\"212.5\" y=\"-125.0\" width=\"2.5\" height=\"41.667\" opacity=\"0.5576036866359447\" fill=\"currentColor\" stroke-width=\"0.1\"/>\n",
       "<rect x=\"215.0\" y=\"-125.0\" width=\"2.5\" height=\"41.667\" opacity=\"0.5345622119815668\" fill=\"currentColor\" stroke-width=\"0.1\"/>\n",
       "<rect x=\"217.5\" y=\"-125.0\" width=\"2.5\" height=\"41.667\" opacity=\"0.4700460829493087\" fill=\"currentColor\" stroke-width=\"0.1\"/>\n",
       "<rect x=\"220.0\" y=\"-125.0\" width=\"2.5\" height=\"41.667\" opacity=\"0.4055299539170507\" fill=\"currentColor\" stroke-width=\"0.1\"/>\n",
       "<rect x=\"222.5\" y=\"-125.0\" width=\"2.5\" height=\"41.667\" opacity=\"0.2488479262672811\" fill=\"currentColor\" stroke-width=\"0.1\"/>\n",
       "<rect x=\"225.0\" y=\"-125.0\" width=\"2.5\" height=\"41.667\" opacity=\"0.3087557603686636\" fill=\"currentColor\" stroke-width=\"0.1\"/>\n",
       "<rect x=\"227.5\" y=\"-125.0\" width=\"2.5\" height=\"41.667\" opacity=\"0.23502304147465436\" fill=\"currentColor\" stroke-width=\"0.1\"/>\n",
       "<rect x=\"230.0\" y=\"-125.0\" width=\"2.5\" height=\"41.667\" opacity=\"0.2073732718894009\" fill=\"currentColor\" stroke-width=\"0.1\"/>\n",
       "<rect x=\"232.5\" y=\"-125.0\" width=\"2.5\" height=\"41.667\" opacity=\"0.17972350230414746\" fill=\"currentColor\" stroke-width=\"0.1\"/>\n",
       "<rect x=\"235.0\" y=\"-125.0\" width=\"2.5\" height=\"41.667\" opacity=\"0.12442396313364056\" fill=\"currentColor\" stroke-width=\"0.1\"/>\n",
       "<rect x=\"237.5\" y=\"-125.0\" width=\"2.5\" height=\"41.667\" opacity=\"0.11059907834101383\" fill=\"currentColor\" stroke-width=\"0.1\"/>\n",
       "<rect x=\"240.0\" y=\"-125.0\" width=\"2.5\" height=\"41.667\" opacity=\"0.0737327188940092\" fill=\"currentColor\" stroke-width=\"0.1\"/>\n",
       "<rect x=\"242.5\" y=\"-125.0\" width=\"2.5\" height=\"41.667\" opacity=\"0.06912442396313363\" fill=\"currentColor\" stroke-width=\"0.1\"/>\n",
       "<rect x=\"245.0\" y=\"-125.0\" width=\"2.5\" height=\"41.667\" opacity=\"0.055299539170506916\" fill=\"currentColor\" stroke-width=\"0.1\"/>\n",
       "<rect x=\"247.5\" y=\"-125.0\" width=\"2.5\" height=\"41.667\" opacity=\"0.055299539170506916\" fill=\"currentColor\" stroke-width=\"0.1\"/>\n",
       "<rect x=\"0.0\" y=\"-166.66666666666666\" width=\"2.5\" height=\"41.667\" opacity=\"0.0\" fill=\"currentColor\" stroke-width=\"0.1\"/>\n",
       "<rect x=\"2.5\" y=\"-166.66666666666666\" width=\"2.5\" height=\"41.667\" opacity=\"0.0\" fill=\"currentColor\" stroke-width=\"0.1\"/>\n",
       "<rect x=\"5.0\" y=\"-166.66666666666666\" width=\"2.5\" height=\"41.667\" opacity=\"0.0\" fill=\"currentColor\" stroke-width=\"0.1\"/>\n",
       "<rect x=\"7.5\" y=\"-166.66666666666666\" width=\"2.5\" height=\"41.667\" opacity=\"0.0\" fill=\"currentColor\" stroke-width=\"0.1\"/>\n",
       "<rect x=\"10.0\" y=\"-166.66666666666666\" width=\"2.5\" height=\"41.667\" opacity=\"0.0\" fill=\"currentColor\" stroke-width=\"0.1\"/>\n",
       "<rect x=\"12.5\" y=\"-166.66666666666666\" width=\"2.5\" height=\"41.667\" opacity=\"0.0\" fill=\"currentColor\" stroke-width=\"0.1\"/>\n",
       "<rect x=\"15.0\" y=\"-166.66666666666666\" width=\"2.5\" height=\"41.667\" opacity=\"0.0\" fill=\"currentColor\" stroke-width=\"0.1\"/>\n",
       "<rect x=\"17.5\" y=\"-166.66666666666666\" width=\"2.5\" height=\"41.667\" opacity=\"0.0\" fill=\"currentColor\" stroke-width=\"0.1\"/>\n",
       "<rect x=\"20.0\" y=\"-166.66666666666666\" width=\"2.5\" height=\"41.667\" opacity=\"0.0\" fill=\"currentColor\" stroke-width=\"0.1\"/>\n",
       "<rect x=\"22.5\" y=\"-166.66666666666666\" width=\"2.5\" height=\"41.667\" opacity=\"0.0\" fill=\"currentColor\" stroke-width=\"0.1\"/>\n",
       "<rect x=\"25.0\" y=\"-166.66666666666666\" width=\"2.5\" height=\"41.667\" opacity=\"0.0\" fill=\"currentColor\" stroke-width=\"0.1\"/>\n",
       "<rect x=\"27.5\" y=\"-166.66666666666666\" width=\"2.5\" height=\"41.667\" opacity=\"0.0\" fill=\"currentColor\" stroke-width=\"0.1\"/>\n",
       "<rect x=\"30.0\" y=\"-166.66666666666666\" width=\"2.5\" height=\"41.667\" opacity=\"0.0\" fill=\"currentColor\" stroke-width=\"0.1\"/>\n",
       "<rect x=\"32.5\" y=\"-166.66666666666666\" width=\"2.5\" height=\"41.667\" opacity=\"0.0\" fill=\"currentColor\" stroke-width=\"0.1\"/>\n",
       "<rect x=\"35.0\" y=\"-166.66666666666666\" width=\"2.5\" height=\"41.667\" opacity=\"0.0\" fill=\"currentColor\" stroke-width=\"0.1\"/>\n",
       "<rect x=\"37.5\" y=\"-166.66666666666666\" width=\"2.5\" height=\"41.667\" opacity=\"0.0\" fill=\"currentColor\" stroke-width=\"0.1\"/>\n",
       "<rect x=\"40.0\" y=\"-166.66666666666666\" width=\"2.5\" height=\"41.667\" opacity=\"0.0\" fill=\"currentColor\" stroke-width=\"0.1\"/>\n",
       "<rect x=\"42.5\" y=\"-166.66666666666666\" width=\"2.5\" height=\"41.667\" opacity=\"0.0\" fill=\"currentColor\" stroke-width=\"0.1\"/>\n",
       "<rect x=\"45.0\" y=\"-166.66666666666666\" width=\"2.5\" height=\"41.667\" opacity=\"0.0\" fill=\"currentColor\" stroke-width=\"0.1\"/>\n",
       "<rect x=\"47.5\" y=\"-166.66666666666666\" width=\"2.5\" height=\"41.667\" opacity=\"0.004608294930875575\" fill=\"currentColor\" stroke-width=\"0.1\"/>\n",
       "<rect x=\"50.0\" y=\"-166.66666666666666\" width=\"2.5\" height=\"41.667\" opacity=\"0.0\" fill=\"currentColor\" stroke-width=\"0.1\"/>\n",
       "<rect x=\"52.5\" y=\"-166.66666666666666\" width=\"2.5\" height=\"41.667\" opacity=\"0.0\" fill=\"currentColor\" stroke-width=\"0.1\"/>\n",
       "<rect x=\"55.0\" y=\"-166.66666666666666\" width=\"2.5\" height=\"41.667\" opacity=\"0.0\" fill=\"currentColor\" stroke-width=\"0.1\"/>\n",
       "<rect x=\"57.5\" y=\"-166.66666666666666\" width=\"2.5\" height=\"41.667\" opacity=\"0.0\" fill=\"currentColor\" stroke-width=\"0.1\"/>\n",
       "<rect x=\"60.0\" y=\"-166.66666666666666\" width=\"2.5\" height=\"41.667\" opacity=\"0.0\" fill=\"currentColor\" stroke-width=\"0.1\"/>\n",
       "<rect x=\"62.5\" y=\"-166.66666666666666\" width=\"2.5\" height=\"41.667\" opacity=\"0.0\" fill=\"currentColor\" stroke-width=\"0.1\"/>\n",
       "<rect x=\"65.0\" y=\"-166.66666666666666\" width=\"2.5\" height=\"41.667\" opacity=\"0.0\" fill=\"currentColor\" stroke-width=\"0.1\"/>\n",
       "<rect x=\"67.5\" y=\"-166.66666666666666\" width=\"2.5\" height=\"41.667\" opacity=\"0.0046082949308755596\" fill=\"currentColor\" stroke-width=\"0.1\"/>\n",
       "<rect x=\"70.0\" y=\"-166.66666666666666\" width=\"2.5\" height=\"41.667\" opacity=\"0.004608294930875609\" fill=\"currentColor\" stroke-width=\"0.1\"/>\n",
       "<rect x=\"72.5\" y=\"-166.66666666666666\" width=\"2.5\" height=\"41.667\" opacity=\"0.0\" fill=\"currentColor\" stroke-width=\"0.1\"/>\n",
       "<rect x=\"75.0\" y=\"-166.66666666666666\" width=\"2.5\" height=\"41.667\" opacity=\"0.0\" fill=\"currentColor\" stroke-width=\"0.1\"/>\n",
       "<rect x=\"77.5\" y=\"-166.66666666666666\" width=\"2.5\" height=\"41.667\" opacity=\"0.004608294930875575\" fill=\"currentColor\" stroke-width=\"0.1\"/>\n",
       "<rect x=\"80.0\" y=\"-166.66666666666666\" width=\"2.5\" height=\"41.667\" opacity=\"0.004608294930875575\" fill=\"currentColor\" stroke-width=\"0.1\"/>\n",
       "<rect x=\"82.5\" y=\"-166.66666666666666\" width=\"2.5\" height=\"41.667\" opacity=\"0.00921658986175115\" fill=\"currentColor\" stroke-width=\"0.1\"/>\n",
       "<rect x=\"85.0\" y=\"-166.66666666666666\" width=\"2.5\" height=\"41.667\" opacity=\"0.00921658986175115\" fill=\"currentColor\" stroke-width=\"0.1\"/>\n",
       "<rect x=\"87.5\" y=\"-166.66666666666666\" width=\"2.5\" height=\"41.667\" opacity=\"0.02304147465437788\" fill=\"currentColor\" stroke-width=\"0.1\"/>\n",
       "<rect x=\"90.0\" y=\"-166.66666666666666\" width=\"2.5\" height=\"41.667\" opacity=\"0.013824884792626729\" fill=\"currentColor\" stroke-width=\"0.1\"/>\n",
       "<rect x=\"92.5\" y=\"-166.66666666666666\" width=\"2.5\" height=\"41.667\" opacity=\"0.013824884792626729\" fill=\"currentColor\" stroke-width=\"0.1\"/>\n",
       "<rect x=\"95.0\" y=\"-166.66666666666666\" width=\"2.5\" height=\"41.667\" opacity=\"0.055299539170506916\" fill=\"currentColor\" stroke-width=\"0.1\"/>\n",
       "<rect x=\"97.5\" y=\"-166.66666666666666\" width=\"2.5\" height=\"41.667\" opacity=\"0.0368663594470046\" fill=\"currentColor\" stroke-width=\"0.1\"/>\n",
       "<rect x=\"100.0\" y=\"-166.66666666666666\" width=\"2.5\" height=\"41.667\" opacity=\"0.05990783410138249\" fill=\"currentColor\" stroke-width=\"0.1\"/>\n",
       "<rect x=\"102.5\" y=\"-166.66666666666666\" width=\"2.5\" height=\"41.667\" opacity=\"0.0368663594470046\" fill=\"currentColor\" stroke-width=\"0.1\"/>\n",
       "<rect x=\"105.0\" y=\"-166.66666666666666\" width=\"2.5\" height=\"41.667\" opacity=\"0.13824884792626727\" fill=\"currentColor\" stroke-width=\"0.1\"/>\n",
       "<rect x=\"107.5\" y=\"-166.66666666666666\" width=\"2.5\" height=\"41.667\" opacity=\"0.10138248847926268\" fill=\"currentColor\" stroke-width=\"0.1\"/>\n",
       "<rect x=\"110.0\" y=\"-166.66666666666666\" width=\"2.5\" height=\"41.667\" opacity=\"0.12442396313364056\" fill=\"currentColor\" stroke-width=\"0.1\"/>\n",
       "<rect x=\"112.5\" y=\"-166.66666666666666\" width=\"2.5\" height=\"41.667\" opacity=\"0.1705069124423963\" fill=\"currentColor\" stroke-width=\"0.1\"/>\n",
       "<rect x=\"115.0\" y=\"-166.66666666666666\" width=\"2.5\" height=\"41.667\" opacity=\"0.21658986175115208\" fill=\"currentColor\" stroke-width=\"0.1\"/>\n",
       "<rect x=\"117.5\" y=\"-166.66666666666666\" width=\"2.5\" height=\"41.667\" opacity=\"0.1889400921658986\" fill=\"currentColor\" stroke-width=\"0.1\"/>\n",
       "<rect x=\"120.0\" y=\"-166.66666666666666\" width=\"2.5\" height=\"41.667\" opacity=\"0.25806451612903225\" fill=\"currentColor\" stroke-width=\"0.1\"/>\n",
       "<rect x=\"122.5\" y=\"-166.66666666666666\" width=\"2.5\" height=\"41.667\" opacity=\"0.28110599078341014\" fill=\"currentColor\" stroke-width=\"0.1\"/>\n",
       "<rect x=\"125.0\" y=\"-166.66666666666666\" width=\"2.5\" height=\"41.667\" opacity=\"0.4147465437788018\" fill=\"currentColor\" stroke-width=\"0.1\"/>\n",
       "<rect x=\"127.5\" y=\"-166.66666666666666\" width=\"2.5\" height=\"41.667\" opacity=\"0.423963133640553\" fill=\"currentColor\" stroke-width=\"0.1\"/>\n",
       "<rect x=\"130.0\" y=\"-166.66666666666666\" width=\"2.5\" height=\"41.667\" opacity=\"0.45161290322580644\" fill=\"currentColor\" stroke-width=\"0.1\"/>\n",
       "<rect x=\"132.5\" y=\"-166.66666666666666\" width=\"2.5\" height=\"41.667\" opacity=\"0.4976958525345622\" fill=\"currentColor\" stroke-width=\"0.1\"/>\n",
       "<rect x=\"135.0\" y=\"-166.66666666666666\" width=\"2.5\" height=\"41.667\" opacity=\"0.5668202764976918\" fill=\"currentColor\" stroke-width=\"0.1\"/>\n",
       "<rect x=\"137.5\" y=\"-166.66666666666666\" width=\"2.5\" height=\"41.667\" opacity=\"0.6036866359447005\" fill=\"currentColor\" stroke-width=\"0.1\"/>\n",
       "<rect x=\"140.0\" y=\"-166.66666666666666\" width=\"2.5\" height=\"41.667\" opacity=\"0.6682027649769681\" fill=\"currentColor\" stroke-width=\"0.1\"/>\n",
       "<rect x=\"142.5\" y=\"-166.66666666666666\" width=\"2.5\" height=\"41.667\" opacity=\"0.7188940092165899\" fill=\"currentColor\" stroke-width=\"0.1\"/>\n",
       "<rect x=\"145.0\" y=\"-166.66666666666666\" width=\"2.5\" height=\"41.667\" opacity=\"0.9032258064516064\" fill=\"currentColor\" stroke-width=\"0.1\"/>\n",
       "<rect x=\"147.5\" y=\"-166.66666666666666\" width=\"2.5\" height=\"41.667\" opacity=\"0.8294930875576036\" fill=\"currentColor\" stroke-width=\"0.1\"/>\n",
       "<rect x=\"150.0\" y=\"-166.66666666666666\" width=\"2.5\" height=\"41.667\" opacity=\"0.8617511520737327\" fill=\"currentColor\" stroke-width=\"0.1\"/>\n",
       "<rect x=\"152.5\" y=\"-166.66666666666666\" width=\"2.5\" height=\"41.667\" opacity=\"0.8847926267281107\" fill=\"currentColor\" stroke-width=\"0.1\"/>\n",
       "<rect x=\"155.0\" y=\"-166.66666666666666\" width=\"2.5\" height=\"41.667\" opacity=\"0.8387096774193548\" fill=\"currentColor\" stroke-width=\"0.1\"/>\n",
       "<rect x=\"157.5\" y=\"-166.66666666666666\" width=\"2.5\" height=\"41.667\" opacity=\"1.0\" fill=\"currentColor\" stroke-width=\"0.1\"/>\n",
       "<rect x=\"160.0\" y=\"-166.66666666666666\" width=\"2.5\" height=\"41.667\" opacity=\"0.8801843317972351\" fill=\"currentColor\" stroke-width=\"0.1\"/>\n",
       "<rect x=\"162.5\" y=\"-166.66666666666666\" width=\"2.5\" height=\"41.667\" opacity=\"0.9815668202764977\" fill=\"currentColor\" stroke-width=\"0.1\"/>\n",
       "<rect x=\"165.0\" y=\"-166.66666666666666\" width=\"2.5\" height=\"41.667\" opacity=\"0.9354838709677419\" fill=\"currentColor\" stroke-width=\"0.1\"/>\n",
       "<rect x=\"167.5\" y=\"-166.66666666666666\" width=\"2.5\" height=\"41.667\" opacity=\"0.9308755760368663\" fill=\"currentColor\" stroke-width=\"0.1\"/>\n",
       "<rect x=\"170.0\" y=\"-166.66666666666666\" width=\"2.5\" height=\"41.667\" opacity=\"0.7788018433179724\" fill=\"currentColor\" stroke-width=\"0.1\"/>\n",
       "<rect x=\"172.5\" y=\"-166.66666666666666\" width=\"2.5\" height=\"41.667\" opacity=\"0.783410138248848\" fill=\"currentColor\" stroke-width=\"0.1\"/>\n",
       "<rect x=\"175.0\" y=\"-166.66666666666666\" width=\"2.5\" height=\"41.667\" opacity=\"0.6820276497695852\" fill=\"currentColor\" stroke-width=\"0.1\"/>\n",
       "<rect x=\"177.5\" y=\"-166.66666666666666\" width=\"2.5\" height=\"41.667\" opacity=\"0.6221198156682027\" fill=\"currentColor\" stroke-width=\"0.1\"/>\n",
       "<rect x=\"180.0\" y=\"-166.66666666666666\" width=\"2.5\" height=\"41.667\" opacity=\"0.6543778801843317\" fill=\"currentColor\" stroke-width=\"0.1\"/>\n",
       "<rect x=\"182.5\" y=\"-166.66666666666666\" width=\"2.5\" height=\"41.667\" opacity=\"0.543778801843318\" fill=\"currentColor\" stroke-width=\"0.1\"/>\n",
       "<rect x=\"185.0\" y=\"-166.66666666666666\" width=\"2.5\" height=\"41.667\" opacity=\"0.5299539170506913\" fill=\"currentColor\" stroke-width=\"0.1\"/>\n",
       "<rect x=\"187.5\" y=\"-166.66666666666666\" width=\"2.5\" height=\"41.667\" opacity=\"0.45161290322580644\" fill=\"currentColor\" stroke-width=\"0.1\"/>\n",
       "<rect x=\"190.0\" y=\"-166.66666666666666\" width=\"2.5\" height=\"41.667\" opacity=\"0.41013824884792627\" fill=\"currentColor\" stroke-width=\"0.1\"/>\n",
       "<rect x=\"192.5\" y=\"-166.66666666666666\" width=\"2.5\" height=\"41.667\" opacity=\"0.35944700460829493\" fill=\"currentColor\" stroke-width=\"0.1\"/>\n",
       "<rect x=\"195.0\" y=\"-166.66666666666666\" width=\"2.5\" height=\"41.667\" opacity=\"0.3502304147465438\" fill=\"currentColor\" stroke-width=\"0.1\"/>\n",
       "<rect x=\"197.5\" y=\"-166.66666666666666\" width=\"2.5\" height=\"41.667\" opacity=\"0.271889400921659\" fill=\"currentColor\" stroke-width=\"0.1\"/>\n",
       "<rect x=\"200.0\" y=\"-166.66666666666666\" width=\"2.5\" height=\"41.667\" opacity=\"0.22580645161290322\" fill=\"currentColor\" stroke-width=\"0.1\"/>\n",
       "<rect x=\"202.5\" y=\"-166.66666666666666\" width=\"2.5\" height=\"41.667\" opacity=\"0.19815668202764977\" fill=\"currentColor\" stroke-width=\"0.1\"/>\n",
       "<rect x=\"205.0\" y=\"-166.66666666666666\" width=\"2.5\" height=\"41.667\" opacity=\"0.16129032258064516\" fill=\"currentColor\" stroke-width=\"0.1\"/>\n",
       "<rect x=\"207.5\" y=\"-166.66666666666666\" width=\"2.5\" height=\"41.667\" opacity=\"0.10599078341013825\" fill=\"currentColor\" stroke-width=\"0.1\"/>\n",
       "<rect x=\"210.0\" y=\"-166.66666666666666\" width=\"2.5\" height=\"41.667\" opacity=\"0.14285714285714285\" fill=\"currentColor\" stroke-width=\"0.1\"/>\n",
       "<rect x=\"212.5\" y=\"-166.66666666666666\" width=\"2.5\" height=\"41.667\" opacity=\"0.13824884792626727\" fill=\"currentColor\" stroke-width=\"0.1\"/>\n",
       "<rect x=\"215.0\" y=\"-166.66666666666666\" width=\"2.5\" height=\"41.667\" opacity=\"0.07834101382488479\" fill=\"currentColor\" stroke-width=\"0.1\"/>\n",
       "<rect x=\"217.5\" y=\"-166.66666666666666\" width=\"2.5\" height=\"41.667\" opacity=\"0.07834101382488479\" fill=\"currentColor\" stroke-width=\"0.1\"/>\n",
       "<rect x=\"220.0\" y=\"-166.66666666666666\" width=\"2.5\" height=\"41.667\" opacity=\"0.05069124423963134\" fill=\"currentColor\" stroke-width=\"0.1\"/>\n",
       "<rect x=\"222.5\" y=\"-166.66666666666666\" width=\"2.5\" height=\"41.667\" opacity=\"0.03225806451612903\" fill=\"currentColor\" stroke-width=\"0.1\"/>\n",
       "<rect x=\"225.0\" y=\"-166.66666666666666\" width=\"2.5\" height=\"41.667\" opacity=\"0.03225806451612903\" fill=\"currentColor\" stroke-width=\"0.1\"/>\n",
       "<rect x=\"227.5\" y=\"-166.66666666666666\" width=\"2.5\" height=\"41.667\" opacity=\"0.0184331797235023\" fill=\"currentColor\" stroke-width=\"0.1\"/>\n",
       "<rect x=\"230.0\" y=\"-166.66666666666666\" width=\"2.5\" height=\"41.667\" opacity=\"0.013824884792626729\" fill=\"currentColor\" stroke-width=\"0.1\"/>\n",
       "<rect x=\"232.5\" y=\"-166.66666666666666\" width=\"2.5\" height=\"41.667\" opacity=\"0.004608294930875575\" fill=\"currentColor\" stroke-width=\"0.1\"/>\n",
       "<rect x=\"235.0\" y=\"-166.66666666666666\" width=\"2.5\" height=\"41.667\" opacity=\"0.00921658986175115\" fill=\"currentColor\" stroke-width=\"0.1\"/>\n",
       "<rect x=\"237.5\" y=\"-166.66666666666666\" width=\"2.5\" height=\"41.667\" opacity=\"0.004608294930875575\" fill=\"currentColor\" stroke-width=\"0.1\"/>\n",
       "<rect x=\"240.0\" y=\"-166.66666666666666\" width=\"2.5\" height=\"41.667\" opacity=\"0.004608294930875575\" fill=\"currentColor\" stroke-width=\"0.1\"/>\n",
       "<rect x=\"242.5\" y=\"-166.66666666666666\" width=\"2.5\" height=\"41.667\" opacity=\"0.0\" fill=\"currentColor\" stroke-width=\"0.1\"/>\n",
       "<rect x=\"245.0\" y=\"-166.66666666666666\" width=\"2.5\" height=\"41.667\" opacity=\"0.0\" fill=\"currentColor\" stroke-width=\"0.1\"/>\n",
       "<rect x=\"247.5\" y=\"-166.66666666666666\" width=\"2.5\" height=\"41.667\" opacity=\"0.0\" fill=\"currentColor\" stroke-width=\"0.1\"/>\n",
       "<rect x=\"0.0\" y=\"-208.33333333333334\" width=\"2.5\" height=\"41.667\" opacity=\"0.0\" fill=\"currentColor\" stroke-width=\"0.1\"/>\n",
       "<rect x=\"2.5\" y=\"-208.33333333333334\" width=\"2.5\" height=\"41.667\" opacity=\"0.0\" fill=\"currentColor\" stroke-width=\"0.1\"/>\n",
       "<rect x=\"5.0\" y=\"-208.33333333333334\" width=\"2.5\" height=\"41.667\" opacity=\"0.0\" fill=\"currentColor\" stroke-width=\"0.1\"/>\n",
       "<rect x=\"7.5\" y=\"-208.33333333333334\" width=\"2.5\" height=\"41.667\" opacity=\"0.0\" fill=\"currentColor\" stroke-width=\"0.1\"/>\n",
       "<rect x=\"10.0\" y=\"-208.33333333333334\" width=\"2.5\" height=\"41.667\" opacity=\"0.0\" fill=\"currentColor\" stroke-width=\"0.1\"/>\n",
       "<rect x=\"12.5\" y=\"-208.33333333333334\" width=\"2.5\" height=\"41.667\" opacity=\"0.0\" fill=\"currentColor\" stroke-width=\"0.1\"/>\n",
       "<rect x=\"15.0\" y=\"-208.33333333333334\" width=\"2.5\" height=\"41.667\" opacity=\"0.0\" fill=\"currentColor\" stroke-width=\"0.1\"/>\n",
       "<rect x=\"17.5\" y=\"-208.33333333333334\" width=\"2.5\" height=\"41.667\" opacity=\"0.0\" fill=\"currentColor\" stroke-width=\"0.1\"/>\n",
       "<rect x=\"20.0\" y=\"-208.33333333333334\" width=\"2.5\" height=\"41.667\" opacity=\"0.0\" fill=\"currentColor\" stroke-width=\"0.1\"/>\n",
       "<rect x=\"22.5\" y=\"-208.33333333333334\" width=\"2.5\" height=\"41.667\" opacity=\"0.0\" fill=\"currentColor\" stroke-width=\"0.1\"/>\n",
       "<rect x=\"25.0\" y=\"-208.33333333333334\" width=\"2.5\" height=\"41.667\" opacity=\"0.0\" fill=\"currentColor\" stroke-width=\"0.1\"/>\n",
       "<rect x=\"27.5\" y=\"-208.33333333333334\" width=\"2.5\" height=\"41.667\" opacity=\"0.0\" fill=\"currentColor\" stroke-width=\"0.1\"/>\n",
       "<rect x=\"30.0\" y=\"-208.33333333333334\" width=\"2.5\" height=\"41.667\" opacity=\"0.0\" fill=\"currentColor\" stroke-width=\"0.1\"/>\n",
       "<rect x=\"32.5\" y=\"-208.33333333333334\" width=\"2.5\" height=\"41.667\" opacity=\"0.0\" fill=\"currentColor\" stroke-width=\"0.1\"/>\n",
       "<rect x=\"35.0\" y=\"-208.33333333333334\" width=\"2.5\" height=\"41.667\" opacity=\"0.0\" fill=\"currentColor\" stroke-width=\"0.1\"/>\n",
       "<rect x=\"37.5\" y=\"-208.33333333333334\" width=\"2.5\" height=\"41.667\" opacity=\"0.0\" fill=\"currentColor\" stroke-width=\"0.1\"/>\n",
       "<rect x=\"40.0\" y=\"-208.33333333333334\" width=\"2.5\" height=\"41.667\" opacity=\"0.0\" fill=\"currentColor\" stroke-width=\"0.1\"/>\n",
       "<rect x=\"42.5\" y=\"-208.33333333333334\" width=\"2.5\" height=\"41.667\" opacity=\"0.0\" fill=\"currentColor\" stroke-width=\"0.1\"/>\n",
       "<rect x=\"45.0\" y=\"-208.33333333333334\" width=\"2.5\" height=\"41.667\" opacity=\"0.0\" fill=\"currentColor\" stroke-width=\"0.1\"/>\n",
       "<rect x=\"47.5\" y=\"-208.33333333333334\" width=\"2.5\" height=\"41.667\" opacity=\"0.00921658986175115\" fill=\"currentColor\" stroke-width=\"0.1\"/>\n",
       "<rect x=\"50.0\" y=\"-208.33333333333334\" width=\"2.5\" height=\"41.667\" opacity=\"0.004608294930875575\" fill=\"currentColor\" stroke-width=\"0.1\"/>\n",
       "<rect x=\"52.5\" y=\"-208.33333333333334\" width=\"2.5\" height=\"41.667\" opacity=\"0.00921658986175115\" fill=\"currentColor\" stroke-width=\"0.1\"/>\n",
       "<rect x=\"55.0\" y=\"-208.33333333333334\" width=\"2.5\" height=\"41.667\" opacity=\"0.00921658986175115\" fill=\"currentColor\" stroke-width=\"0.1\"/>\n",
       "<rect x=\"57.5\" y=\"-208.33333333333334\" width=\"2.5\" height=\"41.667\" opacity=\"0.00921658986175115\" fill=\"currentColor\" stroke-width=\"0.1\"/>\n",
       "<rect x=\"60.0\" y=\"-208.33333333333334\" width=\"2.5\" height=\"41.667\" opacity=\"0.00921658986175115\" fill=\"currentColor\" stroke-width=\"0.1\"/>\n",
       "<rect x=\"62.5\" y=\"-208.33333333333334\" width=\"2.5\" height=\"41.667\" opacity=\"0.004608294930875575\" fill=\"currentColor\" stroke-width=\"0.1\"/>\n",
       "<rect x=\"65.0\" y=\"-208.33333333333334\" width=\"2.5\" height=\"41.667\" opacity=\"0.00921658986175115\" fill=\"currentColor\" stroke-width=\"0.1\"/>\n",
       "<rect x=\"67.5\" y=\"-208.33333333333334\" width=\"2.5\" height=\"41.667\" opacity=\"0.013824884792626679\" fill=\"currentColor\" stroke-width=\"0.1\"/>\n",
       "<rect x=\"70.0\" y=\"-208.33333333333334\" width=\"2.5\" height=\"41.667\" opacity=\"0.018433179723502436\" fill=\"currentColor\" stroke-width=\"0.1\"/>\n",
       "<rect x=\"72.5\" y=\"-208.33333333333334\" width=\"2.5\" height=\"41.667\" opacity=\"0.027649769585253357\" fill=\"currentColor\" stroke-width=\"0.1\"/>\n",
       "<rect x=\"75.0\" y=\"-208.33333333333334\" width=\"2.5\" height=\"41.667\" opacity=\"0.055299539170506916\" fill=\"currentColor\" stroke-width=\"0.1\"/>\n",
       "<rect x=\"77.5\" y=\"-208.33333333333334\" width=\"2.5\" height=\"41.667\" opacity=\"0.07834101382488479\" fill=\"currentColor\" stroke-width=\"0.1\"/>\n",
       "<rect x=\"80.0\" y=\"-208.33333333333334\" width=\"2.5\" height=\"41.667\" opacity=\"0.04147465437788018\" fill=\"currentColor\" stroke-width=\"0.1\"/>\n",
       "<rect x=\"82.5\" y=\"-208.33333333333334\" width=\"2.5\" height=\"41.667\" opacity=\"0.055299539170506916\" fill=\"currentColor\" stroke-width=\"0.1\"/>\n",
       "<rect x=\"85.0\" y=\"-208.33333333333334\" width=\"2.5\" height=\"41.667\" opacity=\"0.11059907834101383\" fill=\"currentColor\" stroke-width=\"0.1\"/>\n",
       "<rect x=\"87.5\" y=\"-208.33333333333334\" width=\"2.5\" height=\"41.667\" opacity=\"0.12442396313364056\" fill=\"currentColor\" stroke-width=\"0.1\"/>\n",
       "<rect x=\"90.0\" y=\"-208.33333333333334\" width=\"2.5\" height=\"41.667\" opacity=\"0.22119815668202766\" fill=\"currentColor\" stroke-width=\"0.1\"/>\n",
       "<rect x=\"92.5\" y=\"-208.33333333333334\" width=\"2.5\" height=\"41.667\" opacity=\"0.1889400921658986\" fill=\"currentColor\" stroke-width=\"0.1\"/>\n",
       "<rect x=\"95.0\" y=\"-208.33333333333334\" width=\"2.5\" height=\"41.667\" opacity=\"0.2073732718894009\" fill=\"currentColor\" stroke-width=\"0.1\"/>\n",
       "<rect x=\"97.5\" y=\"-208.33333333333334\" width=\"2.5\" height=\"41.667\" opacity=\"0.3087557603686636\" fill=\"currentColor\" stroke-width=\"0.1\"/>\n",
       "<rect x=\"100.0\" y=\"-208.33333333333334\" width=\"2.5\" height=\"41.667\" opacity=\"0.3225806451612903\" fill=\"currentColor\" stroke-width=\"0.1\"/>\n",
       "<rect x=\"102.5\" y=\"-208.33333333333334\" width=\"2.5\" height=\"41.667\" opacity=\"0.31797235023041476\" fill=\"currentColor\" stroke-width=\"0.1\"/>\n",
       "<rect x=\"105.0\" y=\"-208.33333333333334\" width=\"2.5\" height=\"41.667\" opacity=\"0.3778801843317972\" fill=\"currentColor\" stroke-width=\"0.1\"/>\n",
       "<rect x=\"107.5\" y=\"-208.33333333333334\" width=\"2.5\" height=\"41.667\" opacity=\"0.4838709677419355\" fill=\"currentColor\" stroke-width=\"0.1\"/>\n",
       "<rect x=\"110.0\" y=\"-208.33333333333334\" width=\"2.5\" height=\"41.667\" opacity=\"0.6036866359447005\" fill=\"currentColor\" stroke-width=\"0.1\"/>\n",
       "<rect x=\"112.5\" y=\"-208.33333333333334\" width=\"2.5\" height=\"41.667\" opacity=\"0.6405529953917051\" fill=\"currentColor\" stroke-width=\"0.1\"/>\n",
       "<rect x=\"115.0\" y=\"-208.33333333333334\" width=\"2.5\" height=\"41.667\" opacity=\"0.6036866359447005\" fill=\"currentColor\" stroke-width=\"0.1\"/>\n",
       "<rect x=\"117.5\" y=\"-208.33333333333334\" width=\"2.5\" height=\"41.667\" opacity=\"0.6820276497695852\" fill=\"currentColor\" stroke-width=\"0.1\"/>\n",
       "<rect x=\"120.0\" y=\"-208.33333333333334\" width=\"2.5\" height=\"41.667\" opacity=\"0.5668202764976958\" fill=\"currentColor\" stroke-width=\"0.1\"/>\n",
       "<rect x=\"122.5\" y=\"-208.33333333333334\" width=\"2.5\" height=\"41.667\" opacity=\"0.8110599078341014\" fill=\"currentColor\" stroke-width=\"0.1\"/>\n",
       "<rect x=\"125.0\" y=\"-208.33333333333334\" width=\"2.5\" height=\"41.667\" opacity=\"0.9631336405529954\" fill=\"currentColor\" stroke-width=\"0.1\"/>\n",
       "<rect x=\"127.5\" y=\"-208.33333333333334\" width=\"2.5\" height=\"41.667\" opacity=\"0.8018433179723502\" fill=\"currentColor\" stroke-width=\"0.1\"/>\n",
       "<rect x=\"130.0\" y=\"-208.33333333333334\" width=\"2.5\" height=\"41.667\" opacity=\"0.7972350230414746\" fill=\"currentColor\" stroke-width=\"0.1\"/>\n",
       "<rect x=\"132.5\" y=\"-208.33333333333334\" width=\"2.5\" height=\"41.667\" opacity=\"0.8847926267281107\" fill=\"currentColor\" stroke-width=\"0.1\"/>\n",
       "<rect x=\"135.0\" y=\"-208.33333333333334\" width=\"2.5\" height=\"41.667\" opacity=\"0.9769585253456152\" fill=\"currentColor\" stroke-width=\"0.1\"/>\n",
       "<rect x=\"137.5\" y=\"-208.33333333333334\" width=\"2.5\" height=\"41.667\" opacity=\"0.9354838709677419\" fill=\"currentColor\" stroke-width=\"0.1\"/>\n",
       "<rect x=\"140.0\" y=\"-208.33333333333334\" width=\"2.5\" height=\"41.667\" opacity=\"0.8709677419354963\" fill=\"currentColor\" stroke-width=\"0.1\"/>\n",
       "<rect x=\"142.5\" y=\"-208.33333333333334\" width=\"2.5\" height=\"41.667\" opacity=\"0.9769585253456221\" fill=\"currentColor\" stroke-width=\"0.1\"/>\n",
       "<rect x=\"145.0\" y=\"-208.33333333333334\" width=\"2.5\" height=\"41.667\" opacity=\"0.9308755760368597\" fill=\"currentColor\" stroke-width=\"0.1\"/>\n",
       "<rect x=\"147.5\" y=\"-208.33333333333334\" width=\"2.5\" height=\"41.667\" opacity=\"0.9216589861751152\" fill=\"currentColor\" stroke-width=\"0.1\"/>\n",
       "<rect x=\"150.0\" y=\"-208.33333333333334\" width=\"2.5\" height=\"41.667\" opacity=\"0.8064516129032258\" fill=\"currentColor\" stroke-width=\"0.1\"/>\n",
       "<rect x=\"152.5\" y=\"-208.33333333333334\" width=\"2.5\" height=\"41.667\" opacity=\"0.6912442396313364\" fill=\"currentColor\" stroke-width=\"0.1\"/>\n",
       "<rect x=\"155.0\" y=\"-208.33333333333334\" width=\"2.5\" height=\"41.667\" opacity=\"0.6774193548387096\" fill=\"currentColor\" stroke-width=\"0.1\"/>\n",
       "<rect x=\"157.5\" y=\"-208.33333333333334\" width=\"2.5\" height=\"41.667\" opacity=\"0.7004608294930876\" fill=\"currentColor\" stroke-width=\"0.1\"/>\n",
       "<rect x=\"160.0\" y=\"-208.33333333333334\" width=\"2.5\" height=\"41.667\" opacity=\"0.5852534562211981\" fill=\"currentColor\" stroke-width=\"0.1\"/>\n",
       "<rect x=\"162.5\" y=\"-208.33333333333334\" width=\"2.5\" height=\"41.667\" opacity=\"0.4700460829493087\" fill=\"currentColor\" stroke-width=\"0.1\"/>\n",
       "<rect x=\"165.0\" y=\"-208.33333333333334\" width=\"2.5\" height=\"41.667\" opacity=\"0.4608294930875576\" fill=\"currentColor\" stroke-width=\"0.1\"/>\n",
       "<rect x=\"167.5\" y=\"-208.33333333333334\" width=\"2.5\" height=\"41.667\" opacity=\"0.33640552995391704\" fill=\"currentColor\" stroke-width=\"0.1\"/>\n",
       "<rect x=\"170.0\" y=\"-208.33333333333334\" width=\"2.5\" height=\"41.667\" opacity=\"0.31797235023041476\" fill=\"currentColor\" stroke-width=\"0.1\"/>\n",
       "<rect x=\"172.5\" y=\"-208.33333333333334\" width=\"2.5\" height=\"41.667\" opacity=\"0.38709677419354843\" fill=\"currentColor\" stroke-width=\"0.1\"/>\n",
       "<rect x=\"175.0\" y=\"-208.33333333333334\" width=\"2.5\" height=\"41.667\" opacity=\"0.2626728110599078\" fill=\"currentColor\" stroke-width=\"0.1\"/>\n",
       "<rect x=\"177.5\" y=\"-208.33333333333334\" width=\"2.5\" height=\"41.667\" opacity=\"0.2672811059907834\" fill=\"currentColor\" stroke-width=\"0.1\"/>\n",
       "<rect x=\"180.0\" y=\"-208.33333333333334\" width=\"2.5\" height=\"41.667\" opacity=\"0.2488479262672811\" fill=\"currentColor\" stroke-width=\"0.1\"/>\n",
       "<rect x=\"182.5\" y=\"-208.33333333333334\" width=\"2.5\" height=\"41.667\" opacity=\"0.14285714285714285\" fill=\"currentColor\" stroke-width=\"0.1\"/>\n",
       "<rect x=\"185.0\" y=\"-208.33333333333334\" width=\"2.5\" height=\"41.667\" opacity=\"0.1336405529953917\" fill=\"currentColor\" stroke-width=\"0.1\"/>\n",
       "<rect x=\"187.5\" y=\"-208.33333333333334\" width=\"2.5\" height=\"41.667\" opacity=\"0.10599078341013825\" fill=\"currentColor\" stroke-width=\"0.1\"/>\n",
       "<rect x=\"190.0\" y=\"-208.33333333333334\" width=\"2.5\" height=\"41.667\" opacity=\"0.05990783410138249\" fill=\"currentColor\" stroke-width=\"0.1\"/>\n",
       "<rect x=\"192.5\" y=\"-208.33333333333334\" width=\"2.5\" height=\"41.667\" opacity=\"0.08294930875576036\" fill=\"currentColor\" stroke-width=\"0.1\"/>\n",
       "<rect x=\"195.0\" y=\"-208.33333333333334\" width=\"2.5\" height=\"41.667\" opacity=\"0.03225806451612903\" fill=\"currentColor\" stroke-width=\"0.1\"/>\n",
       "<rect x=\"197.5\" y=\"-208.33333333333334\" width=\"2.5\" height=\"41.667\" opacity=\"0.03225806451612903\" fill=\"currentColor\" stroke-width=\"0.1\"/>\n",
       "<rect x=\"200.0\" y=\"-208.33333333333334\" width=\"2.5\" height=\"41.667\" opacity=\"0.05069124423963134\" fill=\"currentColor\" stroke-width=\"0.1\"/>\n",
       "<rect x=\"202.5\" y=\"-208.33333333333334\" width=\"2.5\" height=\"41.667\" opacity=\"0.027649769585253458\" fill=\"currentColor\" stroke-width=\"0.1\"/>\n",
       "<rect x=\"205.0\" y=\"-208.33333333333334\" width=\"2.5\" height=\"41.667\" opacity=\"0.03225806451612903\" fill=\"currentColor\" stroke-width=\"0.1\"/>\n",
       "<rect x=\"207.5\" y=\"-208.33333333333334\" width=\"2.5\" height=\"41.667\" opacity=\"0.004608294930875575\" fill=\"currentColor\" stroke-width=\"0.1\"/>\n",
       "<rect x=\"210.0\" y=\"-208.33333333333334\" width=\"2.5\" height=\"41.667\" opacity=\"0.02304147465437788\" fill=\"currentColor\" stroke-width=\"0.1\"/>\n",
       "<rect x=\"212.5\" y=\"-208.33333333333334\" width=\"2.5\" height=\"41.667\" opacity=\"0.0184331797235023\" fill=\"currentColor\" stroke-width=\"0.1\"/>\n",
       "<rect x=\"215.0\" y=\"-208.33333333333334\" width=\"2.5\" height=\"41.667\" opacity=\"0.004608294930875575\" fill=\"currentColor\" stroke-width=\"0.1\"/>\n",
       "<rect x=\"217.5\" y=\"-208.33333333333334\" width=\"2.5\" height=\"41.667\" opacity=\"0.0\" fill=\"currentColor\" stroke-width=\"0.1\"/>\n",
       "<rect x=\"220.0\" y=\"-208.33333333333334\" width=\"2.5\" height=\"41.667\" opacity=\"0.0\" fill=\"currentColor\" stroke-width=\"0.1\"/>\n",
       "<rect x=\"222.5\" y=\"-208.33333333333334\" width=\"2.5\" height=\"41.667\" opacity=\"0.0\" fill=\"currentColor\" stroke-width=\"0.1\"/>\n",
       "<rect x=\"225.0\" y=\"-208.33333333333334\" width=\"2.5\" height=\"41.667\" opacity=\"0.0\" fill=\"currentColor\" stroke-width=\"0.1\"/>\n",
       "<rect x=\"227.5\" y=\"-208.33333333333334\" width=\"2.5\" height=\"41.667\" opacity=\"0.0\" fill=\"currentColor\" stroke-width=\"0.1\"/>\n",
       "<rect x=\"230.0\" y=\"-208.33333333333334\" width=\"2.5\" height=\"41.667\" opacity=\"0.0\" fill=\"currentColor\" stroke-width=\"0.1\"/>\n",
       "<rect x=\"232.5\" y=\"-208.33333333333334\" width=\"2.5\" height=\"41.667\" opacity=\"0.0\" fill=\"currentColor\" stroke-width=\"0.1\"/>\n",
       "<rect x=\"235.0\" y=\"-208.33333333333334\" width=\"2.5\" height=\"41.667\" opacity=\"0.0\" fill=\"currentColor\" stroke-width=\"0.1\"/>\n",
       "<rect x=\"237.5\" y=\"-208.33333333333334\" width=\"2.5\" height=\"41.667\" opacity=\"0.0\" fill=\"currentColor\" stroke-width=\"0.1\"/>\n",
       "<rect x=\"240.0\" y=\"-208.33333333333334\" width=\"2.5\" height=\"41.667\" opacity=\"0.0\" fill=\"currentColor\" stroke-width=\"0.1\"/>\n",
       "<rect x=\"242.5\" y=\"-208.33333333333334\" width=\"2.5\" height=\"41.667\" opacity=\"0.0\" fill=\"currentColor\" stroke-width=\"0.1\"/>\n",
       "<rect x=\"245.0\" y=\"-208.33333333333334\" width=\"2.5\" height=\"41.667\" opacity=\"0.0\" fill=\"currentColor\" stroke-width=\"0.1\"/>\n",
       "<rect x=\"247.5\" y=\"-208.33333333333334\" width=\"2.5\" height=\"41.667\" opacity=\"0.0\" fill=\"currentColor\" stroke-width=\"0.1\"/>\n",
       "<rect x=\"0.0\" y=\"-250.0\" width=\"2.5\" height=\"41.667\" opacity=\"0.0\" fill=\"currentColor\" stroke-width=\"0.1\"/>\n",
       "<rect x=\"2.5\" y=\"-250.0\" width=\"2.5\" height=\"41.667\" opacity=\"0.0184331797235023\" fill=\"currentColor\" stroke-width=\"0.1\"/>\n",
       "<rect x=\"5.0\" y=\"-250.0\" width=\"2.5\" height=\"41.667\" opacity=\"0.00921658986175115\" fill=\"currentColor\" stroke-width=\"0.1\"/>\n",
       "<rect x=\"7.5\" y=\"-250.0\" width=\"2.5\" height=\"41.667\" opacity=\"0.027649769585253458\" fill=\"currentColor\" stroke-width=\"0.1\"/>\n",
       "<rect x=\"10.0\" y=\"-250.0\" width=\"2.5\" height=\"41.667\" opacity=\"0.02304147465437788\" fill=\"currentColor\" stroke-width=\"0.1\"/>\n",
       "<rect x=\"12.5\" y=\"-250.0\" width=\"2.5\" height=\"41.667\" opacity=\"0.03225806451612903\" fill=\"currentColor\" stroke-width=\"0.1\"/>\n",
       "<rect x=\"15.0\" y=\"-250.0\" width=\"2.5\" height=\"41.667\" opacity=\"0.032258064516129004\" fill=\"currentColor\" stroke-width=\"0.1\"/>\n",
       "<rect x=\"17.5\" y=\"-250.0\" width=\"2.5\" height=\"41.667\" opacity=\"0.05529953917050696\" fill=\"currentColor\" stroke-width=\"0.1\"/>\n",
       "<rect x=\"20.0\" y=\"-250.0\" width=\"2.5\" height=\"41.667\" opacity=\"0.06912442396313363\" fill=\"currentColor\" stroke-width=\"0.1\"/>\n",
       "<rect x=\"22.5\" y=\"-250.0\" width=\"2.5\" height=\"41.667\" opacity=\"0.09677419354838711\" fill=\"currentColor\" stroke-width=\"0.1\"/>\n",
       "<rect x=\"25.0\" y=\"-250.0\" width=\"2.5\" height=\"41.667\" opacity=\"0.10599078341013825\" fill=\"currentColor\" stroke-width=\"0.1\"/>\n",
       "<rect x=\"27.5\" y=\"-250.0\" width=\"2.5\" height=\"41.667\" opacity=\"0.10599078341013825\" fill=\"currentColor\" stroke-width=\"0.1\"/>\n",
       "<rect x=\"30.0\" y=\"-250.0\" width=\"2.5\" height=\"41.667\" opacity=\"0.1658986175115207\" fill=\"currentColor\" stroke-width=\"0.1\"/>\n",
       "<rect x=\"32.5\" y=\"-250.0\" width=\"2.5\" height=\"41.667\" opacity=\"0.1889400921658983\" fill=\"currentColor\" stroke-width=\"0.1\"/>\n",
       "<rect x=\"35.0\" y=\"-250.0\" width=\"2.5\" height=\"41.667\" opacity=\"0.14746543778801868\" fill=\"currentColor\" stroke-width=\"0.1\"/>\n",
       "<rect x=\"37.5\" y=\"-250.0\" width=\"2.5\" height=\"41.667\" opacity=\"0.24423963133640553\" fill=\"currentColor\" stroke-width=\"0.1\"/>\n",
       "<rect x=\"40.0\" y=\"-250.0\" width=\"2.5\" height=\"41.667\" opacity=\"0.3410138248847926\" fill=\"currentColor\" stroke-width=\"0.1\"/>\n",
       "<rect x=\"42.5\" y=\"-250.0\" width=\"2.5\" height=\"41.667\" opacity=\"0.2672811059907834\" fill=\"currentColor\" stroke-width=\"0.1\"/>\n",
       "<rect x=\"45.0\" y=\"-250.0\" width=\"2.5\" height=\"41.667\" opacity=\"0.41013824884792627\" fill=\"currentColor\" stroke-width=\"0.1\"/>\n",
       "<rect x=\"47.5\" y=\"-250.0\" width=\"2.5\" height=\"41.667\" opacity=\"0.39631336405529954\" fill=\"currentColor\" stroke-width=\"0.1\"/>\n",
       "<rect x=\"50.0\" y=\"-250.0\" width=\"2.5\" height=\"41.667\" opacity=\"0.47926267281105994\" fill=\"currentColor\" stroke-width=\"0.1\"/>\n",
       "<rect x=\"52.5\" y=\"-250.0\" width=\"2.5\" height=\"41.667\" opacity=\"0.5668202764976958\" fill=\"currentColor\" stroke-width=\"0.1\"/>\n",
       "<rect x=\"55.0\" y=\"-250.0\" width=\"2.5\" height=\"41.667\" opacity=\"0.6129032258064516\" fill=\"currentColor\" stroke-width=\"0.1\"/>\n",
       "<rect x=\"57.5\" y=\"-250.0\" width=\"2.5\" height=\"41.667\" opacity=\"0.5161290322580645\" fill=\"currentColor\" stroke-width=\"0.1\"/>\n",
       "<rect x=\"60.0\" y=\"-250.0\" width=\"2.5\" height=\"41.667\" opacity=\"0.6728110599078341\" fill=\"currentColor\" stroke-width=\"0.1\"/>\n",
       "<rect x=\"62.5\" y=\"-250.0\" width=\"2.5\" height=\"41.667\" opacity=\"0.6912442396313364\" fill=\"currentColor\" stroke-width=\"0.1\"/>\n",
       "<rect x=\"65.0\" y=\"-250.0\" width=\"2.5\" height=\"41.667\" opacity=\"0.7926267281105991\" fill=\"currentColor\" stroke-width=\"0.1\"/>\n",
       "<rect x=\"67.5\" y=\"-250.0\" width=\"2.5\" height=\"41.667\" opacity=\"0.8018433179723473\" fill=\"currentColor\" stroke-width=\"0.1\"/>\n",
       "<rect x=\"70.0\" y=\"-250.0\" width=\"2.5\" height=\"41.667\" opacity=\"0.7834101382488535\" fill=\"currentColor\" stroke-width=\"0.1\"/>\n",
       "<rect x=\"72.5\" y=\"-250.0\" width=\"2.5\" height=\"41.667\" opacity=\"0.8341013824884762\" fill=\"currentColor\" stroke-width=\"0.1\"/>\n",
       "<rect x=\"75.0\" y=\"-250.0\" width=\"2.5\" height=\"41.667\" opacity=\"0.8571428571428571\" fill=\"currentColor\" stroke-width=\"0.1\"/>\n",
       "<rect x=\"77.5\" y=\"-250.0\" width=\"2.5\" height=\"41.667\" opacity=\"0.967741935483871\" fill=\"currentColor\" stroke-width=\"0.1\"/>\n",
       "<rect x=\"80.0\" y=\"-250.0\" width=\"2.5\" height=\"41.667\" opacity=\"0.8110599078341014\" fill=\"currentColor\" stroke-width=\"0.1\"/>\n",
       "<rect x=\"82.5\" y=\"-250.0\" width=\"2.5\" height=\"41.667\" opacity=\"0.783410138248848\" fill=\"currentColor\" stroke-width=\"0.1\"/>\n",
       "<rect x=\"85.0\" y=\"-250.0\" width=\"2.5\" height=\"41.667\" opacity=\"0.8202764976958525\" fill=\"currentColor\" stroke-width=\"0.1\"/>\n",
       "<rect x=\"87.5\" y=\"-250.0\" width=\"2.5\" height=\"41.667\" opacity=\"0.7557603686635944\" fill=\"currentColor\" stroke-width=\"0.1\"/>\n",
       "<rect x=\"90.0\" y=\"-250.0\" width=\"2.5\" height=\"41.667\" opacity=\"0.7188940092165899\" fill=\"currentColor\" stroke-width=\"0.1\"/>\n",
       "<rect x=\"92.5\" y=\"-250.0\" width=\"2.5\" height=\"41.667\" opacity=\"0.8617511520737327\" fill=\"currentColor\" stroke-width=\"0.1\"/>\n",
       "<rect x=\"95.0\" y=\"-250.0\" width=\"2.5\" height=\"41.667\" opacity=\"0.9032258064516129\" fill=\"currentColor\" stroke-width=\"0.1\"/>\n",
       "<rect x=\"97.5\" y=\"-250.0\" width=\"2.5\" height=\"41.667\" opacity=\"0.5714285714285714\" fill=\"currentColor\" stroke-width=\"0.1\"/>\n",
       "<rect x=\"100.0\" y=\"-250.0\" width=\"2.5\" height=\"41.667\" opacity=\"0.7419354838709677\" fill=\"currentColor\" stroke-width=\"0.1\"/>\n",
       "<rect x=\"102.5\" y=\"-250.0\" width=\"2.5\" height=\"41.667\" opacity=\"0.5668202764976958\" fill=\"currentColor\" stroke-width=\"0.1\"/>\n",
       "<rect x=\"105.0\" y=\"-250.0\" width=\"2.5\" height=\"41.667\" opacity=\"0.631336405529954\" fill=\"currentColor\" stroke-width=\"0.1\"/>\n",
       "<rect x=\"107.5\" y=\"-250.0\" width=\"2.5\" height=\"41.667\" opacity=\"0.42857142857142855\" fill=\"currentColor\" stroke-width=\"0.1\"/>\n",
       "<rect x=\"110.0\" y=\"-250.0\" width=\"2.5\" height=\"41.667\" opacity=\"0.47926267281105994\" fill=\"currentColor\" stroke-width=\"0.1\"/>\n",
       "<rect x=\"112.5\" y=\"-250.0\" width=\"2.5\" height=\"41.667\" opacity=\"0.3502304147465438\" fill=\"currentColor\" stroke-width=\"0.1\"/>\n",
       "<rect x=\"115.0\" y=\"-250.0\" width=\"2.5\" height=\"41.667\" opacity=\"0.2534562211981567\" fill=\"currentColor\" stroke-width=\"0.1\"/>\n",
       "<rect x=\"117.5\" y=\"-250.0\" width=\"2.5\" height=\"41.667\" opacity=\"0.2995391705069125\" fill=\"currentColor\" stroke-width=\"0.1\"/>\n",
       "<rect x=\"120.0\" y=\"-250.0\" width=\"2.5\" height=\"41.667\" opacity=\"0.18433179723502305\" fill=\"currentColor\" stroke-width=\"0.1\"/>\n",
       "<rect x=\"122.5\" y=\"-250.0\" width=\"2.5\" height=\"41.667\" opacity=\"0.2672811059907834\" fill=\"currentColor\" stroke-width=\"0.1\"/>\n",
       "<rect x=\"125.0\" y=\"-250.0\" width=\"2.5\" height=\"41.667\" opacity=\"0.1705069124423963\" fill=\"currentColor\" stroke-width=\"0.1\"/>\n",
       "<rect x=\"127.5\" y=\"-250.0\" width=\"2.5\" height=\"41.667\" opacity=\"0.13824884792626727\" fill=\"currentColor\" stroke-width=\"0.1\"/>\n",
       "<rect x=\"130.0\" y=\"-250.0\" width=\"2.5\" height=\"41.667\" opacity=\"0.12442396313364056\" fill=\"currentColor\" stroke-width=\"0.1\"/>\n",
       "<rect x=\"132.5\" y=\"-250.0\" width=\"2.5\" height=\"41.667\" opacity=\"0.12442396313364056\" fill=\"currentColor\" stroke-width=\"0.1\"/>\n",
       "<rect x=\"135.0\" y=\"-250.0\" width=\"2.5\" height=\"41.667\" opacity=\"0.06912442396313315\" fill=\"currentColor\" stroke-width=\"0.1\"/>\n",
       "<rect x=\"137.5\" y=\"-250.0\" width=\"2.5\" height=\"41.667\" opacity=\"0.0368663594470046\" fill=\"currentColor\" stroke-width=\"0.1\"/>\n",
       "<rect x=\"140.0\" y=\"-250.0\" width=\"2.5\" height=\"41.667\" opacity=\"0.06912442396313463\" fill=\"currentColor\" stroke-width=\"0.1\"/>\n",
       "<rect x=\"142.5\" y=\"-250.0\" width=\"2.5\" height=\"41.667\" opacity=\"0.0368663594470046\" fill=\"currentColor\" stroke-width=\"0.1\"/>\n",
       "<rect x=\"145.0\" y=\"-250.0\" width=\"2.5\" height=\"41.667\" opacity=\"0.023041474654377714\" fill=\"currentColor\" stroke-width=\"0.1\"/>\n",
       "<rect x=\"147.5\" y=\"-250.0\" width=\"2.5\" height=\"41.667\" opacity=\"0.00921658986175115\" fill=\"currentColor\" stroke-width=\"0.1\"/>\n",
       "<rect x=\"150.0\" y=\"-250.0\" width=\"2.5\" height=\"41.667\" opacity=\"0.00921658986175115\" fill=\"currentColor\" stroke-width=\"0.1\"/>\n",
       "<rect x=\"152.5\" y=\"-250.0\" width=\"2.5\" height=\"41.667\" opacity=\"0.0184331797235023\" fill=\"currentColor\" stroke-width=\"0.1\"/>\n",
       "<rect x=\"155.0\" y=\"-250.0\" width=\"2.5\" height=\"41.667\" opacity=\"0.0184331797235023\" fill=\"currentColor\" stroke-width=\"0.1\"/>\n",
       "<rect x=\"157.5\" y=\"-250.0\" width=\"2.5\" height=\"41.667\" opacity=\"0.004608294930875575\" fill=\"currentColor\" stroke-width=\"0.1\"/>\n",
       "<rect x=\"160.0\" y=\"-250.0\" width=\"2.5\" height=\"41.667\" opacity=\"0.00921658986175115\" fill=\"currentColor\" stroke-width=\"0.1\"/>\n",
       "<rect x=\"162.5\" y=\"-250.0\" width=\"2.5\" height=\"41.667\" opacity=\"0.004608294930875575\" fill=\"currentColor\" stroke-width=\"0.1\"/>\n",
       "<rect x=\"165.0\" y=\"-250.0\" width=\"2.5\" height=\"41.667\" opacity=\"0.004608294930875575\" fill=\"currentColor\" stroke-width=\"0.1\"/>\n",
       "<rect x=\"167.5\" y=\"-250.0\" width=\"2.5\" height=\"41.667\" opacity=\"0.0\" fill=\"currentColor\" stroke-width=\"0.1\"/>\n",
       "<rect x=\"170.0\" y=\"-250.0\" width=\"2.5\" height=\"41.667\" opacity=\"0.0\" fill=\"currentColor\" stroke-width=\"0.1\"/>\n",
       "<rect x=\"172.5\" y=\"-250.0\" width=\"2.5\" height=\"41.667\" opacity=\"0.0\" fill=\"currentColor\" stroke-width=\"0.1\"/>\n",
       "<rect x=\"175.0\" y=\"-250.0\" width=\"2.5\" height=\"41.667\" opacity=\"0.0\" fill=\"currentColor\" stroke-width=\"0.1\"/>\n",
       "<rect x=\"177.5\" y=\"-250.0\" width=\"2.5\" height=\"41.667\" opacity=\"0.0\" fill=\"currentColor\" stroke-width=\"0.1\"/>\n",
       "<rect x=\"180.0\" y=\"-250.0\" width=\"2.5\" height=\"41.667\" opacity=\"0.0\" fill=\"currentColor\" stroke-width=\"0.1\"/>\n",
       "<rect x=\"182.5\" y=\"-250.0\" width=\"2.5\" height=\"41.667\" opacity=\"0.0\" fill=\"currentColor\" stroke-width=\"0.1\"/>\n",
       "<rect x=\"185.0\" y=\"-250.0\" width=\"2.5\" height=\"41.667\" opacity=\"0.0\" fill=\"currentColor\" stroke-width=\"0.1\"/>\n",
       "<rect x=\"187.5\" y=\"-250.0\" width=\"2.5\" height=\"41.667\" opacity=\"0.0\" fill=\"currentColor\" stroke-width=\"0.1\"/>\n",
       "<rect x=\"190.0\" y=\"-250.0\" width=\"2.5\" height=\"41.667\" opacity=\"0.0\" fill=\"currentColor\" stroke-width=\"0.1\"/>\n",
       "<rect x=\"192.5\" y=\"-250.0\" width=\"2.5\" height=\"41.667\" opacity=\"0.0\" fill=\"currentColor\" stroke-width=\"0.1\"/>\n",
       "<rect x=\"195.0\" y=\"-250.0\" width=\"2.5\" height=\"41.667\" opacity=\"0.0\" fill=\"currentColor\" stroke-width=\"0.1\"/>\n",
       "<rect x=\"197.5\" y=\"-250.0\" width=\"2.5\" height=\"41.667\" opacity=\"0.0\" fill=\"currentColor\" stroke-width=\"0.1\"/>\n",
       "<rect x=\"200.0\" y=\"-250.0\" width=\"2.5\" height=\"41.667\" opacity=\"0.0\" fill=\"currentColor\" stroke-width=\"0.1\"/>\n",
       "<rect x=\"202.5\" y=\"-250.0\" width=\"2.5\" height=\"41.667\" opacity=\"0.0\" fill=\"currentColor\" stroke-width=\"0.1\"/>\n",
       "<rect x=\"205.0\" y=\"-250.0\" width=\"2.5\" height=\"41.667\" opacity=\"0.0\" fill=\"currentColor\" stroke-width=\"0.1\"/>\n",
       "<rect x=\"207.5\" y=\"-250.0\" width=\"2.5\" height=\"41.667\" opacity=\"0.0\" fill=\"currentColor\" stroke-width=\"0.1\"/>\n",
       "<rect x=\"210.0\" y=\"-250.0\" width=\"2.5\" height=\"41.667\" opacity=\"0.0\" fill=\"currentColor\" stroke-width=\"0.1\"/>\n",
       "<rect x=\"212.5\" y=\"-250.0\" width=\"2.5\" height=\"41.667\" opacity=\"0.0\" fill=\"currentColor\" stroke-width=\"0.1\"/>\n",
       "<rect x=\"215.0\" y=\"-250.0\" width=\"2.5\" height=\"41.667\" opacity=\"0.0\" fill=\"currentColor\" stroke-width=\"0.1\"/>\n",
       "<rect x=\"217.5\" y=\"-250.0\" width=\"2.5\" height=\"41.667\" opacity=\"0.0\" fill=\"currentColor\" stroke-width=\"0.1\"/>\n",
       "<rect x=\"220.0\" y=\"-250.0\" width=\"2.5\" height=\"41.667\" opacity=\"0.0\" fill=\"currentColor\" stroke-width=\"0.1\"/>\n",
       "<rect x=\"222.5\" y=\"-250.0\" width=\"2.5\" height=\"41.667\" opacity=\"0.0\" fill=\"currentColor\" stroke-width=\"0.1\"/>\n",
       "<rect x=\"225.0\" y=\"-250.0\" width=\"2.5\" height=\"41.667\" opacity=\"0.0\" fill=\"currentColor\" stroke-width=\"0.1\"/>\n",
       "<rect x=\"227.5\" y=\"-250.0\" width=\"2.5\" height=\"41.667\" opacity=\"0.0\" fill=\"currentColor\" stroke-width=\"0.1\"/>\n",
       "<rect x=\"230.0\" y=\"-250.0\" width=\"2.5\" height=\"41.667\" opacity=\"0.0\" fill=\"currentColor\" stroke-width=\"0.1\"/>\n",
       "<rect x=\"232.5\" y=\"-250.0\" width=\"2.5\" height=\"41.667\" opacity=\"0.0\" fill=\"currentColor\" stroke-width=\"0.1\"/>\n",
       "<rect x=\"235.0\" y=\"-250.0\" width=\"2.5\" height=\"41.667\" opacity=\"0.0\" fill=\"currentColor\" stroke-width=\"0.1\"/>\n",
       "<rect x=\"237.5\" y=\"-250.0\" width=\"2.5\" height=\"41.667\" opacity=\"0.0\" fill=\"currentColor\" stroke-width=\"0.1\"/>\n",
       "<rect x=\"240.0\" y=\"-250.0\" width=\"2.5\" height=\"41.667\" opacity=\"0.0\" fill=\"currentColor\" stroke-width=\"0.1\"/>\n",
       "<rect x=\"242.5\" y=\"-250.0\" width=\"2.5\" height=\"41.667\" opacity=\"0.0\" fill=\"currentColor\" stroke-width=\"0.1\"/>\n",
       "<rect x=\"245.0\" y=\"-250.0\" width=\"2.5\" height=\"41.667\" opacity=\"0.0\" fill=\"currentColor\" stroke-width=\"0.1\"/>\n",
       "<rect x=\"247.5\" y=\"-250.0\" width=\"2.5\" height=\"41.667\" opacity=\"0.0\" fill=\"currentColor\" stroke-width=\"0.1\"/>\n",
       "</svg>\n",
       "</div>\n",
       "<div style=\"flex=grow:1;\">\n",
       "Regular(100, 0, 100, name='x', label='Observable')<br/>\n",
       "StrCategory(['A', 'F', 'D', 'B', 'E', 'C'], growth=True, name='dataset', label='dataset')<br/>\n",
       "<hr style=\"margin-top:.2em; margin-bottom:.2em;\"/>\n",
       "Weight() Σ=WeightedSum(value=29664, variance=29664) <em>(WeightedSum(value=29804, variance=29804) with flow)</em>\n",
       "\n",
       "</div>\n",
       "</div>\n",
       "</html>"
      ],
      "text/plain": [
       "Hist(\n",
       "  Regular(100, 0, 100, name='x', label='Observable'),\n",
       "  StrCategory(['A', 'F', 'D', 'B', 'E', 'C'], growth=True, name='dataset', label='dataset'),\n",
       "  storage=Weight()) # Sum: WeightedSum(value=29664, variance=29664) (WeightedSum(value=29804, variance=29804) with flow)"
      ]
     },
     "execution_count": 29,
     "metadata": {},
     "output_type": "execute_result"
    }
   ],
   "source": [
    "# Simple slices\n",
    "hn[:, 0.5j:len:sum, :, 0, \"X\"]"
   ]
  },
  {
   "cell_type": "code",
   "execution_count": 30,
   "metadata": {
    "ExecuteTime": {
     "end_time": "2021-10-30T04:47:03.335722Z",
     "start_time": "2021-10-30T04:47:03.079290Z"
    }
   },
   "outputs": [
    {
     "data": {
      "image/png": "[encoded data removed]",
      "text/plain": [
       "<Figure size 432x288 with 1 Axes>"
      ]
     },
     "metadata": {
      "needs_background": "light"
     },
     "output_type": "display_data"
    }
   ],
   "source": [
    "# Slice by name\n",
    "s = hist.tag.Slicer()\n",
    "hn[{'tag': s[0.5j:len:sum], 'region': 0, 'syst': \"X\"}].plot();\n",
    "plt.legend();"
   ]
  },
  {
   "cell_type": "markdown",
   "metadata": {
    "ExecuteTime": {
     "end_time": "2021-10-30T04:30:26.809109Z",
     "start_time": "2021-10-30T04:30:26.798378Z"
    }
   },
   "source": [
    "### Scale \"sample\" by \"cross-section\""
   ]
  },
  {
   "cell_type": "code",
   "execution_count": 31,
   "metadata": {
    "ExecuteTime": {
     "end_time": "2021-10-30T04:47:03.609428Z",
     "start_time": "2021-10-30T04:47:03.338224Z"
    }
   },
   "outputs": [
    {
     "data": {
      "image/png": "[encoded data removed]",
      "text/plain": [
       "<Figure size 432x288 with 1 Axes>"
      ]
     },
     "metadata": {
      "needs_background": "light"
     },
     "output_type": "display_data"
    }
   ],
   "source": [
    "hn[{'dataset': \"A\"}] = hn[{'dataset': \"A\"}].view() * 2.5\n",
    "\n",
    "hn[{'tag': s[0.5j:len:sum], 'region': 0, 'syst': \"X\"}].plot();\n",
    "plt.legend();"
   ]
  },
  {
   "cell_type": "markdown",
   "metadata": {},
   "source": [
    "### Group datasets (to be replaced by native hist function)"
   ]
  },
  {
   "cell_type": "code",
   "execution_count": 32,
   "metadata": {
    "ExecuteTime": {
     "end_time": "2021-10-30T04:47:03.915773Z",
     "start_time": "2021-10-30T04:47:03.612354Z"
    },
    "code_folding": [
     0
    ]
   },
   "outputs": [
    {
     "data": {
      "image/png": "[encoded data removed]",
      "text/plain": [
       "<Figure size 432x288 with 1 Axes>"
      ]
     },
     "metadata": {
      "needs_background": "light"
     },
     "output_type": "display_data"
    }
   ],
   "source": [
    "def groupby(h, groupmap, axis='dataset'):\n",
    "    new = hist.Hist(*[ax for ax in h.axes if ax.name != axis], \n",
    "                hist.axis.StrCategory(groupmap.keys(), name=axis, growth=True), \n",
    "                hist.storage.Weight()\n",
    "          )\n",
    "\n",
    "    for name, cats in groupmap.items():\n",
    "        grouped = sum([h[{axis: name}] for name in cats])\n",
    "        new[{axis: name}] = grouped.view(flow=True)\n",
    "    return new\n",
    "\n",
    "groupby(hn, {\"d1\": [\"A\", \"B\", \"C\"], 'd2': [\"D\", \"E\", 'F']})[{'tag': s[0.5j:len:sum], 'region': 0, 'syst': \"X\"}].plot();\n",
    "plt.legend();"
   ]
  },
  {
   "cell_type": "markdown",
   "metadata": {},
   "source": [
    "### Desired end goal - 1D templates of each sample, passing a cut, per region per systematic"
   ]
  },
  {
   "cell_type": "code",
   "execution_count": 33,
   "metadata": {
    "ExecuteTime": {
     "end_time": "2021-10-30T04:47:04.072441Z",
     "start_time": "2021-10-30T04:47:03.920426Z"
    }
   },
   "outputs": [],
   "source": [
    "cut = {'tag': s[0.5j:len:sum]} # Events passing 0.5 threshold\n",
    "\n",
    "templates = {}\n",
    "for sample in hn.axes['dataset']:\n",
    "    for region in hn.axes['region']:\n",
    "        for syst in hn.axes['syst']:\n",
    "            template_name = f\"region{region}_{sample}_sys{syst}\"\n",
    "            templates[template_name] = hn[{**cut, 'dataset': sample, 'region': region, 'syst': syst}]"
   ]
  },
  {
   "cell_type": "code",
   "execution_count": 34,
   "metadata": {
    "ExecuteTime": {
     "end_time": "2021-10-30T04:47:04.097973Z",
     "start_time": "2021-10-30T04:47:04.074822Z"
    }
   },
   "outputs": [
    {
     "data": {
      "text/html": [
       "<html>\n",
       "<div style=\"display:flex; align-items:center;\">\n",
       "<div style=\"width:290px;\">\n",
       "<svg xmlns=\"http://www.w3.org/2000/svg\" viewBox=\"-10 -105 270 120\">\n",
       "<line x1=\"-5\" y1=\"0\" x2=\"255\" y2=\"0\" style=\"fill:none;stroke-width:2;stroke:currentColor\"/>\n",
       "<text text-anchor=\"middle\" x=\"0\" y=\"15\" style=\"fill:currentColor;\">\n",
       "0\n",
       "</text>\n",
       "<text text-anchor=\"middle\" x=\"250\" y=\"15\" style=\"fill:currentColor;\">\n",
       "100\n",
       "</text>\n",
       "<text text-anchor=\"middle\" x=\"125.0\" y=\"15\" style=\"fill:currentColor;\">\n",
       "Observable\n",
       "</text>\n",
       "<polyline points=\"  0,0   0,-0 2.5,-0 2.5,-0   5,-0   5,-0 7.5,-0 7.5,-0  10,-0  10,-0 12.5,-0 12.5,-0  15,-0  15,-0 17.5,-0 17.5,-0  20,-0  20,-0 22.5,-0 22.5,-0  25,-0  25,-0 27.5,-0 27.5,-0  30,-0  30,-0 32.5,-0 32.5,-0  35,-0  35,-0 37.5,-0 37.5,-0  40,-0  40,-0 42.5,-0 42.5,-0  45,-0  45,-0 47.5,-0 47.5,-0.461  50,-0.461  50,-0 52.5,-0 52.5,-0  55,-0  55,-0 57.5,-0 57.5,-0  60,-0  60,-0 62.5,-0 62.5,-0  65,-0  65,-0 67.5,-0 67.5,-0.461  70,-0.461  70,-0.461 72.5,-0.461 72.5,-0  75,-0  75,-0 77.5,-0 77.5,-0.461  80,-0.461  80,-0.461 82.5,-0.461 82.5,-0.922  85,-0.922  85,-0.922 87.5,-0.922 87.5,-2.3  90,-2.3  90,-1.38 92.5,-1.38 92.5,-1.38  95,-1.38  95,-5.53 97.5,-5.53 97.5,-3.69 100,-3.69 100,-5.99 102.5,-5.99 102.5,-3.69 105,-3.69 105,-13.8 107.5,-13.8 107.5,-10.1 110,-10.1 110,-12.4 112.5,-12.4 112.5,-17.1 115,-17.1 115,-21.7 117.5,-21.7 117.5,-18.9 120,-18.9 120,-25.8 122.5,-25.8 122.5,-28.1 125,-28.1 125,-41.5 127.5,-41.5 127.5,-42.4 130,-42.4 130,-45.2 132.5,-45.2 132.5,-49.8 135,-49.8 135,-56.7 137.5,-56.7 137.5,-60.4 140,-60.4 140,-66.8 142.5,-66.8 142.5,-71.9 145,-71.9 145,-90.3 147.5,-90.3 147.5,-82.9 150,-82.9 150,-86.2 152.5,-86.2 152.5,-88.5 155,-88.5 155,-83.9 157.5,-83.9 157.5,-100 160,-100 160,-88 162.5,-88 162.5,-98.2 165,-98.2 165,-93.5 167.5,-93.5 167.5,-93.1 170,-93.1 170,-77.9 172.5,-77.9 172.5,-78.3 175,-78.3 175,-68.2 177.5,-68.2 177.5,-62.2 180,-62.2 180,-65.4 182.5,-65.4 182.5,-54.4 185,-54.4 185,-53 187.5,-53 187.5,-45.2 190,-45.2 190,-41 192.5,-41 192.5,-35.9 195,-35.9 195,-35 197.5,-35 197.5,-27.2 200,-27.2 200,-22.6 202.5,-22.6 202.5,-19.8 205,-19.8 205,-16.1 207.5,-16.1 207.5,-10.6 210,-10.6 210,-14.3 212.5,-14.3 212.5,-13.8 215,-13.8 215,-7.83 217.5,-7.83 217.5,-7.83 220,-7.83 220,-5.07 222.5,-5.07 222.5,-3.23 225,-3.23 225,-3.23 227.5,-3.23 227.5,-1.84 230,-1.84 230,-1.38 232.5,-1.38 232.5,-0.461 235,-0.461 235,-0.922 237.5,-0.922 237.5,-0.461 240,-0.461 240,-0.461 242.5,-0.461 242.5,-0 245,-0 245,-0 247.5,-0 247.5,-0 250,-0 250,0\" style=\"fill:none; stroke:currentColor;\"/>\n",
       "</svg>\n",
       "</div>\n",
       "<div style=\"flex=grow:1;\">\n",
       "Regular(100, 0, 100, name='x', label='Observable')<br/>\n",
       "<hr style=\"margin-top:.2em; margin-bottom:.2em;\"/>\n",
       "Weight() Σ=WeightedSum(value=4967, variance=4967)\n",
       "\n",
       "</div>\n",
       "</div>\n",
       "</html>"
      ],
      "text/plain": [
       "Hist(Regular(100, 0, 100, name='x', label='Observable'), storage=Weight()) # Sum: WeightedSum(value=4967, variance=4967)"
      ]
     },
     "execution_count": 34,
     "metadata": {},
     "output_type": "execute_result"
    }
   ],
   "source": [
    "templates['region0_B_sysX']\n",
    "\n",
    "# and write these via uproot"
   ]
  },
  {
   "cell_type": "code",
   "execution_count": null,
   "metadata": {},
   "outputs": [],
   "source": []
  },
  {
   "cell_type": "markdown",
   "metadata": {},
   "source": [
    "# Styling with mplhep\n",
    "- Primary purpose of `mplhep` is to serve and distribute styles \n",
    "    - **ALICE**\n",
    "    - **ATLAS**\n",
    "    - **CMS**\n",
    "    - **LHCb**\n",
    "- To ensure plots looks the same on any framework fonts need to be included\n",
    " - I am liable to go on a rant, so suffice to say:\n",
    " - We package an open look-alike of Helvetica called Tex Gyre Heros"
   ]
  },
  {
   "cell_type": "code",
   "execution_count": 35,
   "metadata": {
    "ExecuteTime": {
     "end_time": "2021-10-30T04:47:04.758106Z",
     "start_time": "2021-10-30T04:47:04.101788Z"
    }
   },
   "outputs": [
    {
     "data": {
      "image/png": "[encoded data removed]",
      "text/plain": [
       "<Figure size 600x400 with 1 Axes>"
      ]
     },
     "metadata": {},
     "output_type": "display_data"
    }
   ],
   "source": [
    "hep.style.use([hep.style.ATLAS, {'figure.figsize': (6, 4)}])\n",
    "hep.histplot(np.histogram(np.random.normal(10, 3, 1000)));\n",
    "hep.atlas.label();"
   ]
  },
  {
   "cell_type": "code",
   "execution_count": 36,
   "metadata": {
    "ExecuteTime": {
     "end_time": "2021-10-30T04:47:05.822924Z",
     "start_time": "2021-10-30T04:47:04.761420Z"
    }
   },
   "outputs": [
    {
     "data": {
      "image/png": "[encoded data removed]",
      "text/plain": [
       "<Figure size 1800x300 with 5 Axes>"
      ]
     },
     "metadata": {},
     "output_type": "display_data"
    }
   ],
   "source": [
    "hep.style.use()\n",
    "fig, axs = plt.subplots(1, 5, figsize=(18, 3))\n",
    "for i, ax in enumerate(axs):\n",
    "    hep.cms.label(ax=ax, loc=i)"
   ]
  },
  {
   "cell_type": "code",
   "execution_count": null,
   "metadata": {},
   "outputs": [],
   "source": []
  }
 ],
 "metadata": {
  "kernelspec": {
   "display_name": "Python 3 (ipykernel)",
   "language": "python",
   "name": "python3"
  },
  "language_info": {
   "codemirror_mode": {
    "name": "ipython",
    "version": 3
   },
   "file_extension": ".py",
   "mimetype": "text/x-python",
   "name": "python",
   "nbconvert_exporter": "python",
   "pygments_lexer": "ipython3",
   "version": "3.8.12"
  }
 },
 "nbformat": 4,
 "nbformat_minor": 4
}
