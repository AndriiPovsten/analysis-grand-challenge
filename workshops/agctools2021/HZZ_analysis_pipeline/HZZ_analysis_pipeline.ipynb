{
 "cells": [
  {
   "cell_type": "markdown",
   "id": "b23ee171",
   "metadata": {},
   "source": [
    "# ATLAS Open Data H>ZZ* with ServiceX, coffea, cabinetry & pyhf"
   ]
  },
  {
   "cell_type": "code",
   "execution_count": 1,
   "id": "71b3fd2d",
   "metadata": {},
   "outputs": [],
   "source": [
    "import asyncio\n",
    "import os\n",
    "import re\n",
    "import time\n",
    "\n",
    "import cabinetry\n",
    "from coffea.processor import servicex\n",
    "from func_adl import ObjectStream\n",
    "from func_adl_servicex import ServiceXSourceUpROOT\n",
    "import hist\n",
    "import matplotlib.pyplot as plt\n",
    "import numpy as np\n",
    "import pyhf\n",
    "from servicex.servicex import ServiceXDataset\n",
    "import uproot\n",
    "\n",
    "import utils\n",
    "from utils import infofile  # contains cross-section information\n",
    "\n",
    "utils.clean_up()  # delete output from previous runs of notebook (optional)\n",
    "utils.set_logging()"
   ]
  },
  {
   "cell_type": "markdown",
   "id": "6b1c2b2a",
   "metadata": {},
   "source": [
    "to-do:\n",
    "\n",
    "    - streamlining and cleanup\n",
    "    - cuts with func_adl\n",
    "    - possibly outsourcing systematics into functions\n",
    "    - possibly re-binning for fit\n",
    "    - exercises"
   ]
  },
  {
   "cell_type": "markdown",
   "id": "aea8a1cc",
   "metadata": {},
   "source": [
    "## Introduction"
   ]
  },
  {
   "cell_type": "markdown",
   "id": "1551acd1",
   "metadata": {},
   "source": [
    "We are going to use the ATLAS Open Data for this demonstration, in particular a H>ZZ* analysis. Find more information on the [ATLAS Open Data documentation](http://opendata.atlas.cern/release/2020/documentation/physics/FL2.html) and in [ATL-OREACH-PUB-2020-001](https://cds.cern.ch/record/2707171). The datasets used are [10.7483/OPENDATA.ATLAS.2Y1T.TLGL](http://doi.org/10.7483/OPENDATA.ATLAS.2Y1T.TLGL). The material in this notebook is based on the [ATLAS Open Data notebooks](https://github.com/atlas-outreach-data-tools/notebooks-collection-opendata), a [PyHEP 2021 ServiceX demo](https://github.com/gordonwatts/pyhep-2021-SX-OpenDataDemo), and [Storm Lin's adoption](https://github.com/stormsomething/CoffeaHZZAnalysis) of this analysis.\n",
    "\n",
    "This notebook is meant as a **technical demonstration**. In particular, the systematic uncertainties defined are purely to demonstrate aspects of realistic workflows, and are not meant to be meaningful physically. The fit performed to data consequently also only demonstrate technical aspects. If you are interested about the physics of H>ZZ*, check out for example the actual ATLAS cross-section measurement: [Eur. Phys. J. C 80 (2020) 942](https://atlas.web.cern.ch/Atlas/GROUPS/PHYSICS/PAPERS/HIGG-2018-29/)."
   ]
  },
  {
   "cell_type": "code",
   "execution_count": 2,
   "id": "24197a9f",
   "metadata": {},
   "outputs": [],
   "source": [
    "prefix = (\n",
    "    \"root://eospublic.cern.ch//eos/opendata/atlas/OutreachDatasets/2020-01-22/4lep/\"\n",
    ")\n",
    "\n",
    "fileset = {\n",
    "    \"Data\": [\n",
    "        prefix + \"Data/data_A.4lep.root\",\n",
    "        prefix + \"Data/data_B.4lep.root\",\n",
    "        prefix + \"Data/data_C.4lep.root\",\n",
    "        prefix + \"Data/data_D.4lep.root\",\n",
    "    ],\n",
    "    \"Background $Z,tt^{bar}$\": [\n",
    "        prefix + \"MC/mc_361106.Zee.4lep.root\",\n",
    "        prefix + \"MC/mc_361107.Zmumu.4lep.root\",\n",
    "        prefix + \"MC/mc_410000.ttbar_lep.4lep.root\",\n",
    "    ],\n",
    "    \"Background $ZZ^{star}$\": [prefix + \"MC/mc_363490.llll.4lep.root\"],\n",
    "    \"Signal ($m_H$ = 125 GeV)\": [\n",
    "        prefix + \"MC/mc_345060.ggH125_ZZ4lep.4lep.root\",\n",
    "        prefix + \"MC/mc_344235.VBFH125_ZZ4lep.4lep.root\",\n",
    "        prefix + \"MC/mc_341964.WH125_ZZ4lep.4lep.root\",\n",
    "        prefix + \"MC/mc_341947.ZH125_ZZ4lep.4lep.root\",\n",
    "    ],\n",
    "}"
   ]
  },
  {
   "cell_type": "markdown",
   "id": "1a8d21bc",
   "metadata": {},
   "source": [
    "## Setting up a query with `func_adl`"
   ]
  },
  {
   "cell_type": "markdown",
   "id": "a6bcc6e3",
   "metadata": {},
   "source": [
    "`func_adl` for lepton selection, and the datasource is provided for a given query (which will be given by `good_leptons`).\n",
    "\n",
    "**systematic uncertainty**: scale factor variation, applied already at event selection stage. Imagine that this could be a calculation that requires a lot of different variables which are no longer needed downstream afterwards, so it makes sense to do it here."
   ]
  },
  {
   "cell_type": "code",
   "execution_count": 3,
   "id": "31361726",
   "metadata": {},
   "outputs": [],
   "source": [
    "def good_leptons(source: ObjectStream) -> ObjectStream:\n",
    "    \"\"\"Select out all good leptons from each event. Return their pt, eta, phi, and E, and other\n",
    "    things needed downstream.\n",
    "\n",
    "    Because uproot doesn't tie together the objects, we can't do any cuts at this point.\n",
    "    \"\"\"\n",
    "    return source.Select(\n",
    "        lambda e: {\n",
    "            \"lep_pt\": e.lep_pt,\n",
    "            \"lep_eta\": e.lep_eta,\n",
    "            \"lep_phi\": e.lep_phi,\n",
    "            \"lep_energy\": e.lep_E,\n",
    "            \"lep_charge\": e.lep_charge,\n",
    "            \"lep_typeid\": e.lep_type,\n",
    "            \"mcWeight\": e.mcWeight,\n",
    "            \"scaleFactor\": e.scaleFactor_ELE\n",
    "            * e.scaleFactor_MUON\n",
    "            * e.scaleFactor_LepTRIGGER\n",
    "            * e.scaleFactor_PILEUP,\n",
    "            # scale factor systematic variation example\n",
    "            \"scaleFactorUP\": e.scaleFactor_ELE\n",
    "            * e.scaleFactor_MUON\n",
    "            * e.scaleFactor_LepTRIGGER\n",
    "            * e.scaleFactor_PILEUP\n",
    "            * 1.2,\n",
    "            \"scaleFactorDOWN\": e.scaleFactor_ELE\n",
    "            * e.scaleFactor_MUON\n",
    "            * e.scaleFactor_LepTRIGGER\n",
    "            * e.scaleFactor_PILEUP\n",
    "            * 0.8,\n",
    "        }\n",
    "    )\n",
    "\n",
    "\n",
    "def make_datasource(name: str, query: ObjectStream):\n",
    "    \"\"\"Create a ServiceX Datasource for a particular ATLAS Open data file\"\"\"\n",
    "    datasets = [ServiceXDataset(fileset[name], backend_name=\"uproot\")]\n",
    "    return servicex.DataSource(\n",
    "        query=query, metadata={\"dataset_category\": name}, datasets=datasets\n",
    "    )"
   ]
  },
  {
   "cell_type": "markdown",
   "id": "f53de594",
   "metadata": {},
   "source": [
    "## Processing `ServiceX`-provided data with `coffea`\n",
    "\n",
    "Event weighting: look up cross-section from a provided utility file, and correctly normalize all events."
   ]
  },
  {
   "cell_type": "code",
   "execution_count": 4,
   "id": "be2a6ed2",
   "metadata": {},
   "outputs": [],
   "source": [
    "def get_xsec_weight(sample):\n",
    "    lumi = 10_000  # pb^-1 for data_A, data_B, data_C, data_D\n",
    "    xsec_map = infofile.infos[sample]  # dictionary with event weighting information\n",
    "    xsec_weight = (lumi * xsec_map[\"xsec\"]) / (\n",
    "        xsec_map[\"sumw\"] * xsec_map[\"red_eff\"]\n",
    "    )  # *1000 to go from fb-1 to pb-1\n",
    "    return xsec_weight  # return cross-section weight"
   ]
  },
  {
   "cell_type": "markdown",
   "id": "51b14ccb",
   "metadata": {},
   "source": [
    "Cuts to apply:\n",
    "- two opposite flavor leptons (total lepton charge is 0)\n",
    "- lepton types: 4 electrons, 4 muons, or 2 electrons + 2 muons"
   ]
  },
  {
   "cell_type": "code",
   "execution_count": 5,
   "id": "1515ec6b",
   "metadata": {},
   "outputs": [],
   "source": [
    "def cut_lep_charge(lep_charge):\n",
    "    # lepton charge sum should be 0\n",
    "    return (\n",
    "        lep_charge[:, 0] + lep_charge[:, 1] + lep_charge[:, 2] + lep_charge[:, 3]\n",
    "    ) == 0\n",
    "\n",
    "\n",
    "def cut_lep_type(lep_type):\n",
    "    # for an electron, lep_type is 11, and for a muon it is 13\n",
    "    # keep events of type eeee, mumumumu, eemumu\n",
    "    sum_lep_type = lep_type[:, 0] + lep_type[:, 1] + lep_type[:, 2] + lep_type[:, 3]\n",
    "    return (sum_lep_type == 44) | (sum_lep_type == 48) | (sum_lep_type == 52)"
   ]
  },
  {
   "cell_type": "markdown",
   "id": "c2cfd064",
   "metadata": {},
   "source": [
    "Set up the `coffea` processor. It will apply cuts, calculate the four-lepton invariant mass, and fill a histogram.\n",
    "\n",
    "**systematic uncertainty**: m4l variation, applied in the processor to remaining events. This might for example be the result of applying a tool performing a computationally expensive calculation, which should only be run for events where it is needed."
   ]
  },
  {
   "cell_type": "code",
   "execution_count": 6,
   "id": "f451f832",
   "metadata": {},
   "outputs": [],
   "source": [
    "class HZZAnalysis(servicex.Analysis):\n",
    "    def process(self, events):\n",
    "        # type of dataset being processed, provided via metadata (comes originally from fileset)\n",
    "        dataset_category = events.metadata[\"dataset_category\"]\n",
    "        \n",
    "        # Get lepton information from events\n",
    "        leptons = events.lep\n",
    "\n",
    "        # Cut events based on lepton charge, then update leptons\n",
    "        events = events[cut_lep_charge(leptons.charge)]\n",
    "        leptons = events.lep\n",
    "\n",
    "        # Cut events based on lepton type, then update leptons\n",
    "        events = events[cut_lep_type(leptons.typeid)]\n",
    "        leptons = events.lep\n",
    "\n",
    "        # Calculate the mllll for each remaining event\n",
    "        mllll = (\n",
    "            leptons[:, 0] + leptons[:, 1] + leptons[:, 2] + leptons[:, 3]\n",
    "        ).mass / 1000\n",
    "\n",
    "        # histogram holding outputs, for data just binned in m4l\n",
    "        mllllhist_data = hist.Hist.new.Reg(\n",
    "            34, 80, 250, name=\"mllll\", label=\"$\\mathrm{m_{4l}}$ [GeV]\"\n",
    "        ).Weight()\n",
    "\n",
    "        # three histogram axes for MC: m4l, category, and variation (nominal and systematic variations)\n",
    "        mllllhist_MC = (\n",
    "            hist.Hist.new.Reg(\n",
    "                34, 80, 250, name=\"mllll\", label=\"$\\mathrm{m_{4l}}$ [GeV]\"\n",
    "            )\n",
    "            .StrCat(\n",
    "                [\n",
    "                    \"Background $Z,tt^{bar}$\",\n",
    "                    \"Background $ZZ^{star}$\",\n",
    "                    \"Signal ($m_H$ = 125 GeV)\",\n",
    "                ],\n",
    "                name=\"dataset\",\n",
    "            )\n",
    "            .StrCat(\n",
    "                [\"nominal\", \"scaleFactorUP\", \"scaleFactorDOWN\", \"m4lUP\", \"m4lDOWN\"],\n",
    "                name=\"variation\",\n",
    "            )\n",
    "            .Weight()\n",
    "        )\n",
    "\n",
    "        if dataset_category == \"Data\":\n",
    "            # Create and fill a histogram for mllll\n",
    "            mllllhist_data.fill(mllll=mllll)\n",
    "\n",
    "        else:\n",
    "            # Extract the sample name from the filename metadata with regex\n",
    "            sample = re.findall(r\"mc_\\d+\\.(.+)\\.4lep\", events.metadata[\"filename\"])[0]\n",
    "\n",
    "            # Calculate the event weights\n",
    "            basic_weight = get_xsec_weight(sample) * events.mcWeight\n",
    "            totalWeights = basic_weight * events.scaleFactor\n",
    "            totalWeightsUp = basic_weight * events.scaleFactorUP\n",
    "            totalWeightsDown = basic_weight * events.scaleFactorDOWN\n",
    "\n",
    "            # Create and fill a weighted histogram for mllll\n",
    "            mllllhist_MC.fill(\n",
    "                mllll=mllll, dataset=dataset_category, variation=\"nominal\", weight=totalWeights\n",
    "            )\n",
    "\n",
    "            mllllhist_MC.fill(\n",
    "                mllll=mllll,\n",
    "                dataset=dataset_category,\n",
    "                variation=\"scaleFactorUP\",\n",
    "                weight=totalWeightsUp,\n",
    "            )\n",
    "            mllllhist_MC.fill(\n",
    "                mllll=mllll,\n",
    "                dataset=dataset_category,\n",
    "                variation=\"scaleFactorDOWN\",\n",
    "                weight=totalWeightsDown,\n",
    "            )\n",
    "\n",
    "            mllllhist_MC.fill(\n",
    "                mllll=mllll * 1.1,\n",
    "                dataset=dataset_category,\n",
    "                variation=\"m4lUP\",\n",
    "                weight=totalWeights,\n",
    "            )\n",
    "            mllllhist_MC.fill(\n",
    "                mllll=mllll * 0.9,\n",
    "                dataset=dataset_category,\n",
    "                variation=\"m4lDOWN\",\n",
    "                weight=totalWeights,\n",
    "            )\n",
    "\n",
    "        return {\"data\": mllllhist_data, \"MC\": mllllhist_MC}"
   ]
  },
  {
   "cell_type": "markdown",
   "id": "a54c2ad5",
   "metadata": {},
   "source": [
    "## Producing the desired histograms\n",
    "\n",
    "Define a function performing event selection and histogram accumulation."
   ]
  },
  {
   "cell_type": "code",
   "execution_count": 7,
   "id": "6ec9ce14",
   "metadata": {},
   "outputs": [],
   "source": [
    "async def produce_all_histograms():\n",
    "    \"\"\"Run on a known analysis file/files and return the result.\n",
    "    Should be fine to start many of these at once.\n",
    "    \"\"\"\n",
    "    # Create the query\n",
    "    ds = ServiceXSourceUpROOT(\"cernopendata://dummy\", \"mini\", backend_name=\"uproot\")\n",
    "    ds.return_qastle = True\n",
    "    lepton_query = good_leptons(ds)\n",
    "\n",
    "    if os.environ.get(\"LABEXTENTION_FACTORY_MODULE\") == \"coffea_casa\":\n",
    "        # use DaskExecutor on coffea-casa\n",
    "        executor = servicex.DaskExecutor(client_addr=\"tls://localhost:8786\")\n",
    "    else:\n",
    "        executor = servicex.LocalExecutor()\n",
    "\n",
    "    datasources = [make_datasource(ds_name, lepton_query) for ds_name in fileset.keys()]\n",
    "\n",
    "    # Create the analysis processor\n",
    "    analysis_processor = HZZAnalysis()\n",
    "\n",
    "    async def run_updates_stream(accumulator_stream, name):\n",
    "        \"\"\"Run to get the last item in the stream\"\"\"\n",
    "        coffea_info = None\n",
    "        try:\n",
    "            async for coffea_info in accumulator_stream:\n",
    "                pass\n",
    "        except Exception as e:\n",
    "            raise Exception(f\"Failure while processing {name}\") from e\n",
    "        return coffea_info\n",
    "\n",
    "    all_histogram_dicts = await asyncio.gather(\n",
    "        *[\n",
    "            run_updates_stream(\n",
    "                executor.execute(analysis_processor, source), source.metadata[\"dataset_category\"]\n",
    "            )\n",
    "            for source in datasources\n",
    "        ]\n",
    "    )\n",
    "    full_data_histogram = sum([h[\"data\"] for h in all_histogram_dicts])\n",
    "    full_mc_histogram = sum([h[\"MC\"] for h in all_histogram_dicts])\n",
    "\n",
    "    return {\"data\": full_data_histogram, \"MC\": full_mc_histogram}"
   ]
  },
  {
   "cell_type": "markdown",
   "id": "82917ded",
   "metadata": {},
   "source": [
    "Now run the function just defined: obtain data from ServiceX, run processor, gather output histogram."
   ]
  },
  {
   "cell_type": "code",
   "execution_count": 8,
   "id": "180cbad6",
   "metadata": {},
   "outputs": [
    {
     "name": "stdout",
     "output_type": "stream",
     "text": [
      "execution took 3.33 seconds\n"
     ]
    }
   ],
   "source": [
    "t0 = time.time()\n",
    "\n",
    "# in a notebook:\n",
    "output = await produce_all_histograms()\n",
    "\n",
    "# as a script:\n",
    "# async def produce_all_the_histograms():\n",
    "#    return await produce_all_histograms()\n",
    "#\n",
    "# output = asyncio.run(produce_all_the_histograms())\n",
    "\n",
    "print(f\"execution took {time.time() - t0:.2f} seconds\")"
   ]
  },
  {
   "cell_type": "markdown",
   "id": "3a62b89d",
   "metadata": {},
   "source": [
    "## Plotting with `hist` and `mplhep`\n",
    "\n",
    "Plotting with `mplhep` via `hist` happens next."
   ]
  },
  {
   "cell_type": "code",
   "execution_count": 9,
   "id": "89ca8527",
   "metadata": {},
   "outputs": [
    {
     "data": {
      "image/png": "[encoded data removed]",
      "text/plain": [
       "<Figure size 432x288 with 1 Axes>"
      ]
     },
     "metadata": {
      "needs_background": "light"
     },
     "output_type": "display_data"
    }
   ],
   "source": [
    "# Plot the histograms\n",
    "hist.Hist.plot1d(output[\"data\"], histtype=\"errorbar\", color=\"black\")\n",
    "hist.Hist.plot1d(\n",
    "    output[\"MC\"][:, :, \"nominal\"],\n",
    "    stack=True,\n",
    "    histtype=\"fill\",\n",
    "    color=[\"purple\", \"red\", \"lightblue\"],\n",
    ")\n",
    "\n",
    "# Basic bin parameters\n",
    "xmin = 80\n",
    "xmax = 250\n",
    "step_size = 5\n",
    "\n",
    "bin_centers = np.arange(\n",
    "    start=xmin + step_size / 2,  # The interval includes this value\n",
    "    stop=xmax + step_size / 2,  # The interval doesn't include this value\n",
    "    step=step_size,\n",
    ")  # Spacing between values\n",
    "\n",
    "# or via bin_centers = output[\"Data\"].axes[0].centers\n",
    "\n",
    "# Calculate background statistical uncertainty\n",
    "mc_histogram_sum = output[\"MC\"][:, :, \"nominal\"].project(\"mllll\").values()\n",
    "mc_err = np.sqrt(output[\"MC\"][:, :, \"nominal\"].project(\"mllll\").variances())\n",
    "\n",
    "# Plot background statistical uncertainty\n",
    "plt.bar(\n",
    "    bin_centers,  # x\n",
    "    2 * mc_err,  # heights\n",
    "    alpha=0.5,  # half transparency\n",
    "    bottom=mc_histogram_sum - mc_err,\n",
    "    color=\"none\",\n",
    "    hatch=\"////\",\n",
    "    width=step_size,\n",
    "    label=\"Stat. Unc.\",\n",
    ")\n",
    "\n",
    "# Tune plot appearance\n",
    "main_axes = plt.gca()\n",
    "main_axes.set_xlim(left=xmin, right=xmax)\n",
    "main_axes.set_ylim(bottom=0, top=np.amax(output[\"data\"].values()) * 1.6)\n",
    "main_axes.set_ylabel(\"Events / \" + str(step_size) + \" GeV\")\n",
    "main_axes.legend(frameon=False);"
   ]
  },
  {
   "cell_type": "markdown",
   "id": "e7b3d5b5",
   "metadata": {},
   "source": [
    "## Saving histograms with uproot"
   ]
  },
  {
   "cell_type": "code",
   "execution_count": 10,
   "id": "75837f32",
   "metadata": {},
   "outputs": [],
   "source": [
    "file_name = \"histograms.root\"\n",
    "with uproot.recreate(file_name) as f:\n",
    "    f[\"data\"] = output[\"data\"]\n",
    "\n",
    "    f[\"Z_tt\"] = output[\"MC\"][:, \"Background $Z,tt^{bar}$\", \"nominal\"]\n",
    "    f[\"Z_tt_SF_up\"] = output[\"MC\"][:, \"Background $Z,tt^{bar}$\", \"scaleFactorUP\"]\n",
    "    f[\"Z_tt_SF_down\"] = output[\"MC\"][:, \"Background $Z,tt^{bar}$\", \"scaleFactorDOWN\"]\n",
    "    f[\"Z_tt_m4l_up\"] = output[\"MC\"][:, \"Background $Z,tt^{bar}$\", \"m4lUP\"]\n",
    "    f[\"Z_tt_m4l_down\"] = output[\"MC\"][:, \"Background $Z,tt^{bar}$\", \"m4lDOWN\"]\n",
    "\n",
    "    f[\"ZZ\"] = output[\"MC\"][:, \"Background $ZZ^{star}$\", \"nominal\"]\n",
    "    f[\"ZZ_SF_up\"] = output[\"MC\"][:, \"Background $ZZ^{star}$\", \"scaleFactorUP\"]\n",
    "    f[\"ZZ_SF_down\"] = output[\"MC\"][:, \"Background $ZZ^{star}$\", \"scaleFactorDOWN\"]\n",
    "    f[\"ZZ_m4l_up\"] = output[\"MC\"][:, \"Background $ZZ^{star}$\", \"m4lUP\"]\n",
    "    f[\"ZZ_m4l_down\"] = output[\"MC\"][:, \"Background $ZZ^{star}$\", \"m4lDOWN\"]\n",
    "\n",
    "    f[\"signal\"] = output[\"MC\"][:, \"Signal ($m_H$ = 125 GeV)\", \"nominal\"]\n",
    "    f[\"signal_SF_up\"] = output[\"MC\"][:, \"Signal ($m_H$ = 125 GeV)\", \"scaleFactorUP\"]\n",
    "    f[\"signal_SF_down\"] = output[\"MC\"][:, \"Signal ($m_H$ = 125 GeV)\", \"scaleFactorDOWN\"]\n",
    "    f[\"signal_m4l_up\"] = output[\"MC\"][:, \"Signal ($m_H$ = 125 GeV)\", \"m4lUP\"]\n",
    "    f[\"signal_m4l_down\"] = output[\"MC\"][:, \"Signal ($m_H$ = 125 GeV)\", \"m4lDOWN\"]"
   ]
  },
  {
   "cell_type": "markdown",
   "id": "2eac08fe",
   "metadata": {},
   "source": [
    "## Building a workspace and running a fit with cabinetry / pyhf\n",
    "\n",
    "**systematic uncertainty**: ZZ normalization, not requiring any histograms"
   ]
  },
  {
   "cell_type": "code",
   "execution_count": 11,
   "id": "3f203255",
   "metadata": {},
   "outputs": [
    {
     "name": "stderr",
     "output_type": "stream",
     "text": [
      "INFO - cabinetry.configuration - opening config file config.yml\n",
      "INFO - cabinetry.workspace - building workspace\n"
     ]
    }
   ],
   "source": [
    "config = cabinetry.configuration.load(\"config.yml\")\n",
    "cabinetry.templates.collect(config)\n",
    "cabinetry.templates.postprocess(config)\n",
    "ws = cabinetry.workspace.build(config)"
   ]
  },
  {
   "cell_type": "markdown",
   "id": "ccbc73ee",
   "metadata": {},
   "source": [
    "Create a `pyhf` model and extract the data from the workspace. Perform a MLE fit, and produce the post-fit model prediction."
   ]
  },
  {
   "cell_type": "code",
   "execution_count": 12,
   "id": "415afd10",
   "metadata": {},
   "outputs": [
    {
     "name": "stderr",
     "output_type": "stream",
     "text": [
      "INFO - cabinetry.fit - performing maximum likelihood fit\n",
      "INFO - cabinetry.fit - MINUIT status:\n",
      "┌─────────────────────────────────────────────────────────────────────────┐\n",
      "│                                Migrad                                   │\n",
      "├──────────────────────────────────┬──────────────────────────────────────┤\n",
      "│ FCN = 80.28                      │             Nfcn = 2331              │\n",
      "│ EDM = 1.67e-05 (Goal: 0.0002)    │                                      │\n",
      "├──────────────────────────────────┼──────────────────────────────────────┤\n",
      "│          Valid Minimum           │        No Parameters at limit        │\n",
      "├──────────────────────────────────┼──────────────────────────────────────┤\n",
      "│ Below EDM threshold (goal x 10)  │           Below call limit           │\n",
      "├───────────────┬──────────────────┼───────────┬─────────────┬────────────┤\n",
      "│  Covariance   │     Hesse ok     │ Accurate  │  Pos. def.  │ Not forced │\n",
      "└───────────────┴──────────────────┴───────────┴─────────────┴────────────┘\n",
      "INFO - cabinetry.fit - fit results (with symmetric uncertainties):\n",
      "INFO - cabinetry.fit - staterror_Signal_region[0]  =  1.0016 +/- 0.0583\n",
      "INFO - cabinetry.fit - staterror_Signal_region[1]  =  1.0030 +/- 0.0251\n",
      "INFO - cabinetry.fit - staterror_Signal_region[2]  =  1.0061 +/- 0.0237\n",
      "INFO - cabinetry.fit - staterror_Signal_region[3]  =  1.0107 +/- 0.1024\n",
      "INFO - cabinetry.fit - staterror_Signal_region[4]  =  0.9549 +/- 0.1645\n",
      "INFO - cabinetry.fit - staterror_Signal_region[5]  =  0.9195 +/- 0.1491\n",
      "INFO - cabinetry.fit - staterror_Signal_region[6]  =  0.9430 +/- 0.1432\n",
      "INFO - cabinetry.fit - staterror_Signal_region[7]  =  0.9039 +/- 0.1086\n",
      "INFO - cabinetry.fit - staterror_Signal_region[8]  =  1.0348 +/- 0.0980\n",
      "INFO - cabinetry.fit - staterror_Signal_region[9]  =  0.9751 +/- 0.1068\n",
      "INFO - cabinetry.fit - staterror_Signal_region[10] =  1.0235 +/- 0.1265\n",
      "INFO - cabinetry.fit - staterror_Signal_region[11] =  0.9595 +/- 0.1330\n",
      "INFO - cabinetry.fit - staterror_Signal_region[12] =  1.0160 +/- 0.1338\n",
      "INFO - cabinetry.fit - staterror_Signal_region[13] =  1.0456 +/- 0.1294\n",
      "INFO - cabinetry.fit - staterror_Signal_region[14] =  0.9839 +/- 0.1309\n",
      "INFO - cabinetry.fit - staterror_Signal_region[15] =  0.9535 +/- 0.1510\n",
      "INFO - cabinetry.fit - staterror_Signal_region[16] =  1.0960 +/- 0.1348\n",
      "INFO - cabinetry.fit - staterror_Signal_region[17] =  0.9549 +/- 0.1559\n",
      "INFO - cabinetry.fit - staterror_Signal_region[18] =  0.9995 +/- 0.1472\n",
      "INFO - cabinetry.fit - staterror_Signal_region[19] =  0.9523 +/- 0.1356\n",
      "INFO - cabinetry.fit - staterror_Signal_region[20] =  1.0352 +/- 0.0924\n",
      "INFO - cabinetry.fit - staterror_Signal_region[21] =  1.0190 +/- 0.0757\n",
      "INFO - cabinetry.fit - staterror_Signal_region[22] =  0.9860 +/- 0.0589\n",
      "INFO - cabinetry.fit - staterror_Signal_region[23] =  1.0171 +/- 0.0748\n",
      "INFO - cabinetry.fit - staterror_Signal_region[24] =  0.9856 +/- 0.0715\n",
      "INFO - cabinetry.fit - staterror_Signal_region[25] =  0.9997 +/- 0.0574\n",
      "INFO - cabinetry.fit - staterror_Signal_region[26] =  0.9870 +/- 0.0769\n",
      "INFO - cabinetry.fit - staterror_Signal_region[27] =  0.9913 +/- 0.0655\n",
      "INFO - cabinetry.fit - staterror_Signal_region[28] =  0.9620 +/- 0.0859\n",
      "INFO - cabinetry.fit - staterror_Signal_region[29] =  1.0208 +/- 0.0808\n",
      "INFO - cabinetry.fit - staterror_Signal_region[30] =  0.9946 +/- 0.0707\n",
      "INFO - cabinetry.fit - staterror_Signal_region[31] =  0.9905 +/- 0.0912\n",
      "INFO - cabinetry.fit - staterror_Signal_region[32] =  1.0102 +/- 0.0684\n",
      "INFO - cabinetry.fit - staterror_Signal_region[33] =  1.0086 +/- 0.0898\n",
      "INFO - cabinetry.fit - Signal_norm                 =  0.9064 +/- 0.6767\n",
      "INFO - cabinetry.fit - Scalefactor_variation       =  0.8545 +/- 0.4278\n",
      "INFO - cabinetry.fit - m4l_variation               = -0.0233 +/- 0.0853\n",
      "INFO - cabinetry.fit - ZZ_norm                     =  1.1301 +/- 0.8818\n"
     ]
    }
   ],
   "source": [
    "model, data = cabinetry.model_utils.model_and_data(ws)\n",
    "fit_results = cabinetry.fit.fit(model, data)\n",
    "postfit_model = cabinetry.model_utils.prediction(model, fit_results=fit_results)"
   ]
  },
  {
   "cell_type": "markdown",
   "id": "a0738453",
   "metadata": {},
   "source": [
    "Finally, visualize the post-fit model and data. This is done using information stored in the workspace, which does not include binning or which observable is used. This information can be passed in via the `config` kwarg, but we can also edit the figure after its creation. We will demonstrate both below."
   ]
  },
  {
   "cell_type": "code",
   "execution_count": 13,
   "id": "b8db883d",
   "metadata": {},
   "outputs": [
    {
     "data": {
      "image/png": "[encoded data removed]",
      "text/plain": [
       "<Figure size 432x432 with 2 Axes>"
      ]
     },
     "execution_count": 13,
     "metadata": {},
     "output_type": "execute_result"
    }
   ],
   "source": [
    "# binning to use in plot\n",
    "plot_config = {\"Regions\": [{\"Name\": \"Signal_region\", \"Binning\": list(np.linspace(80, 250, 35))}]}\n",
    "\n",
    "figure_dict = cabinetry.visualize.data_mc(postfit_model, data, config=plot_config, close_figure=True)\n",
    "\n",
    "# modify x-axis label\n",
    "figure_dict[0][\"figure\"].axes[1].set_xlabel(\"m4l [GeV]\")\n",
    "\n",
    "# show the modified figure\n",
    "figure_dict[0][\"figure\"]"
   ]
  },
  {
   "cell_type": "markdown",
   "id": "48b96170",
   "metadata": {},
   "source": [
    "We can also use `pyhf` directly. We already have a model and data, so let's calculate the CLs value."
   ]
  },
  {
   "cell_type": "code",
   "execution_count": 14,
   "id": "c6f3146c",
   "metadata": {},
   "outputs": [
    {
     "data": {
      "text/plain": [
       "array(0.48687201)"
      ]
     },
     "execution_count": 14,
     "metadata": {},
     "output_type": "execute_result"
    }
   ],
   "source": [
    "pyhf.infer.hypotest(1.0, data, model)"
   ]
  }
 ],
 "metadata": {
  "kernelspec": {
   "display_name": "pyhf",
   "language": "python",
   "name": "pyhf"
  },
  "language_info": {
   "codemirror_mode": {
    "name": "ipython",
    "version": 3
   },
   "file_extension": ".py",
   "mimetype": "text/x-python",
   "name": "python",
   "nbconvert_exporter": "python",
   "pygments_lexer": "ipython3",
   "version": "3.8.10"
  }
 },
 "nbformat": 4,
 "nbformat_minor": 5
}
